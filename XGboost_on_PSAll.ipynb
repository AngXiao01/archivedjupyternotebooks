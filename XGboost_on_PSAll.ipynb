{
  "nbformat": 4,
  "nbformat_minor": 0,
  "metadata": {
    "colab": {
      "provenance": [],
      "mount_file_id": "1IPcdY4wBNOLLJ272ur5y4hlj3lOL39Qs",
      "authorship_tag": "ABX9TyOPFg/k4Uz4gEhxbs7qdnlX",
      "include_colab_link": true
    },
    "kernelspec": {
      "name": "python3",
      "display_name": "Python 3"
    },
    "language_info": {
      "name": "python"
    }
  },
  "cells": [
    {
      "cell_type": "markdown",
      "metadata": {
        "id": "view-in-github",
        "colab_type": "text"
      },
      "source": [
        "<a href=\"https://colab.research.google.com/github/ChengAng2001/archivedjupyternotebooks/blob/main/XGboost_on_PSAll.ipynb\" target=\"_parent\"><img src=\"https://colab.research.google.com/assets/colab-badge.svg\" alt=\"Open In Colab\"/></a>"
      ]
    },
    {
      "cell_type": "code",
      "source": [
        "import numpy as np\n",
        "import pandas as pd\n",
        "import xgboost as xgb\n",
        "import sys \n",
        "import os\n",
        "import time\n",
        "from copy import deepcopy\n",
        "from matplotlib.pyplot import figure\n",
        "import matplotlib.pyplot as plt\n",
        "import sklearn\n",
        "from sklearn import metrics\n",
        "from sklearn.metrics import roc_curve, auc\n",
        "from sklearn import model_selection\n",
        "from sklearn.metrics.pairwise import normalize\n",
        "from sklearn.metrics import confusion_matrix\n",
        "from sklearn.metrics import plot_confusion_matrix\n",
        "from sklearn.metrics import precision_score\n",
        "from sklearn.metrics import recall_score\n",
        "from sklearn.model_selection import train_test_split"
      ],
      "metadata": {
        "id": "OEy9ZaIJi7pP"
      },
      "execution_count": 1,
      "outputs": []
    },
    {
      "cell_type": "code",
      "source": [
        "from google.colab import drive\n",
        "drive.mount('/content/drive')"
      ],
      "metadata": {
        "colab": {
          "base_uri": "https://localhost:8080/"
        },
        "id": "fKxMQVYrjttT",
        "outputId": "5b3456a1-3997-4a8c-f8dc-45b9fac33650"
      },
      "execution_count": 2,
      "outputs": [
        {
          "output_type": "stream",
          "name": "stdout",
          "text": [
            "Drive already mounted at /content/drive; to attempt to forcibly remount, call drive.mount(\"/content/drive\", force_remount=True).\n"
          ]
        }
      ]
    },
    {
      "cell_type": "code",
      "source": [
        "original_data = pd.read_csv('/content/drive/MyDrive/FairMachineLearning/data/PSDataFrame.csv')\n",
        "original_overdose_data_with_original_index = pd.read_csv('/content/drive/MyDrive/FairMachineLearning/data/PSAllCnty_SelectedByOverdose.csv')\n",
        "original_overdose_data = original_overdose_data_with_original_index.drop('Original_index',axis=1)"
      ],
      "metadata": {
        "colab": {
          "base_uri": "https://localhost:8080/"
        },
        "id": "XtCuywVEkZAD",
        "outputId": "19a961e4-4f5f-4cb3-b6f3-0976999b0c0c"
      },
      "execution_count": 3,
      "outputs": [
        {
          "output_type": "stream",
          "name": "stderr",
          "text": [
            "/usr/local/lib/python3.8/dist-packages/IPython/core/interactiveshell.py:3326: DtypeWarning: Columns (5,20,25) have mixed types.Specify dtype option on import or set low_memory=False.\n",
            "  exec(code_obj, self.user_global_ns, self.user_ns)\n"
          ]
        }
      ]
    },
    {
      "cell_type": "code",
      "source": [
        "original_data.rename(columns = lambda x: x.replace(' ', '_'), inplace=True)\n",
        "original_overdose_data_with_original_index.rename(columns = lambda x: x.replace(' ', '_'), inplace=True)\n",
        "original_overdose_data.rename(columns = lambda x: x.replace(' ', '_'), inplace=True)"
      ],
      "metadata": {
        "id": "78DokdFM_f7K"
      },
      "execution_count": 4,
      "outputs": []
    },
    {
      "cell_type": "code",
      "source": [
        "original_no_overdose_data = original_data[~original_data.index.isin(original_overdose_data_with_original_index['Original_index'])]"
      ],
      "metadata": {
        "id": "iA7amYbNqRlb"
      },
      "execution_count": 5,
      "outputs": []
    },
    {
      "cell_type": "code",
      "source": [
        "def data_split(data_set):\n",
        "  x, validation = model_selection.train_test_split(data_set, test_size=0.2)\n",
        "  train, test = model_selection.train_test_split(x, test_size=0.125)\n",
        "  return train, validation, test"
      ],
      "metadata": {
        "id": "LwzdObJny2ZX"
      },
      "execution_count": 6,
      "outputs": []
    },
    {
      "cell_type": "code",
      "source": [
        "train_unbalanced_class_0, validation_unbalanced_class_0, test_unbalanced_class_0 = data_split(original_no_overdose_data)\n",
        "train_unbalanced_class_1, validation_unbalanced_class_1, test_unbalanced_class_1 = data_split(original_overdose_data)"
      ],
      "metadata": {
        "id": "FJOKlMoBw0TV"
      },
      "execution_count": 7,
      "outputs": []
    },
    {
      "cell_type": "code",
      "source": [
        "'''\n",
        "train_unbalanced_class_0_x = train_unbalanced_class_0.drop(columns=['Underlying_Cause_ICD-10_code','Multiple_Conditions_Entity-Axis_conditions_The_conditions','Multiple_Conditions_Record-Axis_conditions_The_conditions','Other_medical_items_Injury_at_work','Other_medical_items_Place_of_injury','Other_medical_items_Activity_code']).sample(n=2000)\n",
        "train_unbalanced_class_0_y = pd.DataFrame(np.zeros(len(train_unbalanced_class_0_x),dtype=int))\n",
        "\n",
        "validation_unbalanced_class_0_x = validation_unbalanced_class_0.drop(columns=['Underlying_Cause_ICD-10_code','Multiple_Conditions_Entity-Axis_conditions_The_conditions','Multiple_Conditions_Record-Axis_conditions_The_conditions','Other_medical_items_Injury_at_work','Other_medical_items_Place_of_injury','Other_medical_items_Activity_code']).sample(n=2000)\n",
        "validation_unbalanced_class_0_y = pd.DataFrame(np.zeros(len(validation_unbalanced_class_0_x),dtype=int))\n",
        "\n",
        "test_unbalanced_class_0_x = test_unbalanced_class_0.drop(columns=['Underlying_Cause_ICD-10_code','Multiple_Conditions_Entity-Axis_conditions_The_conditions','Multiple_Conditions_Record-Axis_conditions_The_conditions','Other_medical_items_Injury_at_work','Other_medical_items_Place_of_injury','Other_medical_items_Activity_code']).sample(n=2000)\n",
        "test_unbalanced_class_0_y = pd.DataFrame(np.zeros(len(test_unbalanced_class_0_x),dtype=int))\n",
        "\n",
        "train_unbalanced_class_1_x = train_unbalanced_class_1.drop(columns=['Underlying_Cause_ICD-10_code','Multiple_Conditions_Entity-Axis_conditions_The_conditions','Multiple_Conditions_Record-Axis_conditions_The_conditions','Other_medical_items_Injury_at_work','Other_medical_items_Place_of_injury','Other_medical_items_Activity_code'])\n",
        "train_unbalanced_class_1_y = pd.DataFrame(np.ones(len(train_unbalanced_class_1_x),dtype=int))\n",
        "\n",
        "validation_unbalanced_class_1_x = validation_unbalanced_class_1.drop(columns=['Underlying_Cause_ICD-10_code','Multiple_Conditions_Entity-Axis_conditions_The_conditions','Multiple_Conditions_Record-Axis_conditions_The_conditions','Other_medical_items_Injury_at_work','Other_medical_items_Place_of_injury','Other_medical_items_Activity_code'])\n",
        "validation_unbalanced_class_1_y = pd.DataFrame(np.ones(len(validation_unbalanced_class_1_x),dtype=int))\n",
        "\n",
        "test_unbalanced_class_1_x = test_unbalanced_class_1.drop(columns=['Underlying_Cause_ICD-10_code','Multiple_Conditions_Entity-Axis_conditions_The_conditions','Multiple_Conditions_Record-Axis_conditions_The_conditions','Other_medical_items_Injury_at_work','Other_medical_items_Place_of_injury','Other_medical_items_Activity_code'])\n",
        "test_unbalanced_class_1_y = pd.DataFrame(np.ones(len(test_unbalanced_class_1_x),dtype=int))\n",
        "'''"
      ],
      "metadata": {
        "id": "Qt6XJsSyztJq"
      },
      "execution_count": null,
      "outputs": []
    },
    {
      "cell_type": "code",
      "source": [
        "train_x=pd.concat([train_unbalanced_class_0_x,train_unbalanced_class_1_x])\n",
        "train_y=pd.concat([train_unbalanced_class_0_y,train_unbalanced_class_1_y])\n",
        "validation_x=pd.concat([validation_unbalanced_class_0_x,validation_unbalanced_class_1_x])\n",
        "validation_y=pd.concat([validation_unbalanced_class_0_y,validation_unbalanced_class_1_y])\n",
        "test_x=pd.concat([test_unbalanced_class_0_x,test_unbalanced_class_1_x])\n",
        "test_y=pd.concat([test_unbalanced_class_0_y,test_unbalanced_class_1_y])"
      ],
      "metadata": {
        "id": "4CYJRRfV4g3c"
      },
      "execution_count": null,
      "outputs": []
    },
    {
      "cell_type": "code",
      "source": [
        "numerical_features = [x for x in train_x.columns if train_x[x].dtype == float]\n",
        "category_features = [x for x in train_x.columns if train_x[x].dtype != float]"
      ],
      "metadata": {
        "id": "2HbSswTp2DW-"
      },
      "execution_count": null,
      "outputs": []
    },
    {
      "cell_type": "code",
      "source": [
        "category_features"
      ],
      "metadata": {
        "id": "A4HcJOUfBFiU"
      },
      "execution_count": null,
      "outputs": []
    },
    {
      "cell_type": "code",
      "source": [
        "def get_mapfunction(x):\n",
        "    mapp = dict(zip(x.unique().tolist(),\n",
        "         range(len(x.unique().tolist()))))\n",
        "    def mapfunction(y):\n",
        "        if y in mapp:\n",
        "            return mapp[y]\n",
        "        else:\n",
        "            return -1\n",
        "    return mapfunction\n",
        "train_x_hashed=deepcopy(train_x)\n",
        "validation_x_hashed=deepcopy(validation_x)\n",
        "test_x_hashed=deepcopy(test_x)\n",
        "\n",
        "for i in category_features:\n",
        "    train_x_hashed[i] = train_x[i].apply(get_mapfunction(train_x[i]))\n",
        "    validation_x_hashed[i] = validation_x[i].apply(get_mapfunction(validation_x[i]))\n",
        "    test_x_hashed[i] = test_x[i].apply(get_mapfunction(test_x[i]))"
      ],
      "metadata": {
        "id": "kPdpcX2d60rn"
      },
      "execution_count": null,
      "outputs": []
    },
    {
      "cell_type": "code",
      "source": [
        "train_x"
      ],
      "metadata": {
        "id": "Og1nItsk95wN"
      },
      "execution_count": null,
      "outputs": []
    },
    {
      "cell_type": "code",
      "source": [
        "train_x_hashed"
      ],
      "metadata": {
        "id": "VcWQRiT098DB"
      },
      "execution_count": null,
      "outputs": []
    },
    {
      "cell_type": "code",
      "source": [
        "norm_train_x = normalize(train_x_hashed)\n",
        "norm_validation_x = normalize(validation_x_hashed)\n",
        "norm_test_x = normalize(validation_x_hashed)"
      ],
      "metadata": {
        "id": "slZE-Hzt1ZFi"
      },
      "execution_count": null,
      "outputs": []
    },
    {
      "cell_type": "code",
      "source": [
        "train_x_hashed"
      ],
      "metadata": {
        "colab": {
          "base_uri": "https://localhost:8080/",
          "height": 493
        },
        "id": "rDrF4GR-904I",
        "outputId": "bd849509-32c7-491f-c048-e31684339112"
      },
      "execution_count": null,
      "outputs": [
        {
          "output_type": "execute_result",
          "data": {
            "text/plain": [
              "        General_Record_Type  General_Resident_status  \\\n",
              "20753                     0                        0   \n",
              "54464                     0                        0   \n",
              "64488                     1                        1   \n",
              "280562                    1                        1   \n",
              "166495                    0                        0   \n",
              "...                     ...                      ...   \n",
              "678                       1                        1   \n",
              "43                        1                        1   \n",
              "668                       1                        1   \n",
              "663                       0                        0   \n",
              "504                       1                        1   \n",
              "\n",
              "        General_Place_of_death_and_decedents_status  \\\n",
              "20753                                             0   \n",
              "54464                                             0   \n",
              "64488                                             1   \n",
              "280562                                            0   \n",
              "166495                                            0   \n",
              "...                                             ...   \n",
              "678                                               2   \n",
              "43                                                2   \n",
              "668                                               2   \n",
              "663                                               2   \n",
              "504                                               2   \n",
              "\n",
              "        General_Day_of_week_of_death  General_Data_year  \\\n",
              "20753                              0                  0   \n",
              "54464                              1                  1   \n",
              "64488                              1                  2   \n",
              "280562                             2                  3   \n",
              "166495                             3                  4   \n",
              "...                              ...                ...   \n",
              "678                                5                  7   \n",
              "43                                 0                  0   \n",
              "668                                6                  7   \n",
              "663                                2                  7   \n",
              "504                                2                  9   \n",
              "\n",
              "        General_Manner_of_death  Occurrence_State(FIPS)  \\\n",
              "20753                         0                       0   \n",
              "54464                         0                       0   \n",
              "64488                         0                       1   \n",
              "280562                        0                       0   \n",
              "166495                        0                       0   \n",
              "...                         ...                     ...   \n",
              "678                           4                       0   \n",
              "43                            0                       0   \n",
              "668                           4                       0   \n",
              "663                           4                       0   \n",
              "504                           9                       0   \n",
              "\n",
              "        Occurrence_County(FIPS)  Occurrence_Expanded_State  \\\n",
              "20753                         0                          0   \n",
              "54464                         1                          0   \n",
              "64488                         2                          1   \n",
              "280562                        3                          0   \n",
              "166495                        4                          0   \n",
              "...                         ...                        ...   \n",
              "678                          76                          0   \n",
              "43                           68                          0   \n",
              "668                          28                          0   \n",
              "663                          10                          0   \n",
              "504                          14                          0   \n",
              "\n",
              "        Occurrence_County_Population_size  ...  \\\n",
              "20753                                   0  ...   \n",
              "54464                                   0  ...   \n",
              "64488                                   1  ...   \n",
              "280562                                  0  ...   \n",
              "166495                                  2  ...   \n",
              "...                                   ...  ...   \n",
              "678                                     4  ...   \n",
              "43                                      4  ...   \n",
              "668                                     3  ...   \n",
              "663                                     5  ...   \n",
              "504                                     2  ...   \n",
              "\n",
              "        Underlying_Cause_113_cause_recode  Underlying_Cause_130_cause_recode  \\\n",
              "20753                                   0                                  0   \n",
              "54464                                   1                                  0   \n",
              "64488                                   2                                  0   \n",
              "280562                                  3                                  0   \n",
              "166495                                  4                                  0   \n",
              "...                                   ...                                ...   \n",
              "678                                    82                                  0   \n",
              "43                                     82                                  0   \n",
              "668                                    82                                  0   \n",
              "663                                    82                                  0   \n",
              "504                                    82                                  0   \n",
              "\n",
              "        Underlying_Cause_39_cause_recode  \\\n",
              "20753                                  0   \n",
              "54464                                  0   \n",
              "64488                                  1   \n",
              "280562                                 2   \n",
              "166495                                 0   \n",
              "...                                  ...   \n",
              "678                                   11   \n",
              "43                                    11   \n",
              "668                                   11   \n",
              "663                                   11   \n",
              "504                                   11   \n",
              "\n",
              "        Multiple_Conditions_Entity-Axis_conditions_Number_of  \\\n",
              "20753                                                   0      \n",
              "54464                                                   1      \n",
              "64488                                                   2      \n",
              "280562                                                  0      \n",
              "166495                                                  3      \n",
              "...                                                   ...      \n",
              "678                                                     0      \n",
              "43                                                      1      \n",
              "668                                                     1      \n",
              "663                                                     5      \n",
              "504                                                     4      \n",
              "\n",
              "        Multiple_Conditions_Record-Axis_conditions_Number_of  \\\n",
              "20753                                                   0      \n",
              "54464                                                   1      \n",
              "64488                                                   2      \n",
              "280562                                                  1      \n",
              "166495                                                  3      \n",
              "...                                                   ...      \n",
              "678                                                     0      \n",
              "43                                                      1      \n",
              "668                                                     1      \n",
              "663                                                     1      \n",
              "504                                                     4      \n",
              "\n",
              "        Other_medical_items_Method_of_disposition  \\\n",
              "20753                                           0   \n",
              "54464                                           0   \n",
              "64488                                           1   \n",
              "280562                                          1   \n",
              "166495                                          2   \n",
              "...                                           ...   \n",
              "678                                             2   \n",
              "43                                              0   \n",
              "668                                             1   \n",
              "663                                             2   \n",
              "504                                             1   \n",
              "\n",
              "        Other_medical_items_Autopsy  Other_medical_items_Certifier  \\\n",
              "20753                             0                              0   \n",
              "54464                             0                              0   \n",
              "64488                             1                              1   \n",
              "280562                            0                              1   \n",
              "166495                            0                              2   \n",
              "...                             ...                            ...   \n",
              "678                               2                              3   \n",
              "43                                2                              0   \n",
              "668                               2                              3   \n",
              "663                               2                              3   \n",
              "504                               2                              3   \n",
              "\n",
              "        Other_medical_items_Tobacco_use  Other_medical_items_Pregnancy_status  \n",
              "20753                                 0                                     0  \n",
              "54464                                 0                                     1  \n",
              "64488                                 1                                     1  \n",
              "280562                                2                                     1  \n",
              "166495                                1                                     1  \n",
              "...                                 ...                                   ...  \n",
              "678                                   1                                     1  \n",
              "43                                    0                                     1  \n",
              "668                                   1                                     1  \n",
              "663                                   1                                     1  \n",
              "504                                   1                                     1  \n",
              "\n",
              "[2542 rows x 37 columns]"
            ],
            "text/html": [
              "\n",
              "  <div id=\"df-64c9f6e2-3027-425a-b05b-6880730837b8\">\n",
              "    <div class=\"colab-df-container\">\n",
              "      <div>\n",
              "<style scoped>\n",
              "    .dataframe tbody tr th:only-of-type {\n",
              "        vertical-align: middle;\n",
              "    }\n",
              "\n",
              "    .dataframe tbody tr th {\n",
              "        vertical-align: top;\n",
              "    }\n",
              "\n",
              "    .dataframe thead th {\n",
              "        text-align: right;\n",
              "    }\n",
              "</style>\n",
              "<table border=\"1\" class=\"dataframe\">\n",
              "  <thead>\n",
              "    <tr style=\"text-align: right;\">\n",
              "      <th></th>\n",
              "      <th>General_Record_Type</th>\n",
              "      <th>General_Resident_status</th>\n",
              "      <th>General_Place_of_death_and_decedents_status</th>\n",
              "      <th>General_Day_of_week_of_death</th>\n",
              "      <th>General_Data_year</th>\n",
              "      <th>General_Manner_of_death</th>\n",
              "      <th>Occurrence_State(FIPS)</th>\n",
              "      <th>Occurrence_County(FIPS)</th>\n",
              "      <th>Occurrence_Expanded_State</th>\n",
              "      <th>Occurrence_County_Population_size</th>\n",
              "      <th>...</th>\n",
              "      <th>Underlying_Cause_113_cause_recode</th>\n",
              "      <th>Underlying_Cause_130_cause_recode</th>\n",
              "      <th>Underlying_Cause_39_cause_recode</th>\n",
              "      <th>Multiple_Conditions_Entity-Axis_conditions_Number_of</th>\n",
              "      <th>Multiple_Conditions_Record-Axis_conditions_Number_of</th>\n",
              "      <th>Other_medical_items_Method_of_disposition</th>\n",
              "      <th>Other_medical_items_Autopsy</th>\n",
              "      <th>Other_medical_items_Certifier</th>\n",
              "      <th>Other_medical_items_Tobacco_use</th>\n",
              "      <th>Other_medical_items_Pregnancy_status</th>\n",
              "    </tr>\n",
              "  </thead>\n",
              "  <tbody>\n",
              "    <tr>\n",
              "      <th>20753</th>\n",
              "      <td>0</td>\n",
              "      <td>0</td>\n",
              "      <td>0</td>\n",
              "      <td>0</td>\n",
              "      <td>0</td>\n",
              "      <td>0</td>\n",
              "      <td>0</td>\n",
              "      <td>0</td>\n",
              "      <td>0</td>\n",
              "      <td>0</td>\n",
              "      <td>...</td>\n",
              "      <td>0</td>\n",
              "      <td>0</td>\n",
              "      <td>0</td>\n",
              "      <td>0</td>\n",
              "      <td>0</td>\n",
              "      <td>0</td>\n",
              "      <td>0</td>\n",
              "      <td>0</td>\n",
              "      <td>0</td>\n",
              "      <td>0</td>\n",
              "    </tr>\n",
              "    <tr>\n",
              "      <th>54464</th>\n",
              "      <td>0</td>\n",
              "      <td>0</td>\n",
              "      <td>0</td>\n",
              "      <td>1</td>\n",
              "      <td>1</td>\n",
              "      <td>0</td>\n",
              "      <td>0</td>\n",
              "      <td>1</td>\n",
              "      <td>0</td>\n",
              "      <td>0</td>\n",
              "      <td>...</td>\n",
              "      <td>1</td>\n",
              "      <td>0</td>\n",
              "      <td>0</td>\n",
              "      <td>1</td>\n",
              "      <td>1</td>\n",
              "      <td>0</td>\n",
              "      <td>0</td>\n",
              "      <td>0</td>\n",
              "      <td>0</td>\n",
              "      <td>1</td>\n",
              "    </tr>\n",
              "    <tr>\n",
              "      <th>64488</th>\n",
              "      <td>1</td>\n",
              "      <td>1</td>\n",
              "      <td>1</td>\n",
              "      <td>1</td>\n",
              "      <td>2</td>\n",
              "      <td>0</td>\n",
              "      <td>1</td>\n",
              "      <td>2</td>\n",
              "      <td>1</td>\n",
              "      <td>1</td>\n",
              "      <td>...</td>\n",
              "      <td>2</td>\n",
              "      <td>0</td>\n",
              "      <td>1</td>\n",
              "      <td>2</td>\n",
              "      <td>2</td>\n",
              "      <td>1</td>\n",
              "      <td>1</td>\n",
              "      <td>1</td>\n",
              "      <td>1</td>\n",
              "      <td>1</td>\n",
              "    </tr>\n",
              "    <tr>\n",
              "      <th>280562</th>\n",
              "      <td>1</td>\n",
              "      <td>1</td>\n",
              "      <td>0</td>\n",
              "      <td>2</td>\n",
              "      <td>3</td>\n",
              "      <td>0</td>\n",
              "      <td>0</td>\n",
              "      <td>3</td>\n",
              "      <td>0</td>\n",
              "      <td>0</td>\n",
              "      <td>...</td>\n",
              "      <td>3</td>\n",
              "      <td>0</td>\n",
              "      <td>2</td>\n",
              "      <td>0</td>\n",
              "      <td>1</td>\n",
              "      <td>1</td>\n",
              "      <td>0</td>\n",
              "      <td>1</td>\n",
              "      <td>2</td>\n",
              "      <td>1</td>\n",
              "    </tr>\n",
              "    <tr>\n",
              "      <th>166495</th>\n",
              "      <td>0</td>\n",
              "      <td>0</td>\n",
              "      <td>0</td>\n",
              "      <td>3</td>\n",
              "      <td>4</td>\n",
              "      <td>0</td>\n",
              "      <td>0</td>\n",
              "      <td>4</td>\n",
              "      <td>0</td>\n",
              "      <td>2</td>\n",
              "      <td>...</td>\n",
              "      <td>4</td>\n",
              "      <td>0</td>\n",
              "      <td>0</td>\n",
              "      <td>3</td>\n",
              "      <td>3</td>\n",
              "      <td>2</td>\n",
              "      <td>0</td>\n",
              "      <td>2</td>\n",
              "      <td>1</td>\n",
              "      <td>1</td>\n",
              "    </tr>\n",
              "    <tr>\n",
              "      <th>...</th>\n",
              "      <td>...</td>\n",
              "      <td>...</td>\n",
              "      <td>...</td>\n",
              "      <td>...</td>\n",
              "      <td>...</td>\n",
              "      <td>...</td>\n",
              "      <td>...</td>\n",
              "      <td>...</td>\n",
              "      <td>...</td>\n",
              "      <td>...</td>\n",
              "      <td>...</td>\n",
              "      <td>...</td>\n",
              "      <td>...</td>\n",
              "      <td>...</td>\n",
              "      <td>...</td>\n",
              "      <td>...</td>\n",
              "      <td>...</td>\n",
              "      <td>...</td>\n",
              "      <td>...</td>\n",
              "      <td>...</td>\n",
              "      <td>...</td>\n",
              "    </tr>\n",
              "    <tr>\n",
              "      <th>678</th>\n",
              "      <td>1</td>\n",
              "      <td>1</td>\n",
              "      <td>2</td>\n",
              "      <td>5</td>\n",
              "      <td>7</td>\n",
              "      <td>4</td>\n",
              "      <td>0</td>\n",
              "      <td>76</td>\n",
              "      <td>0</td>\n",
              "      <td>4</td>\n",
              "      <td>...</td>\n",
              "      <td>82</td>\n",
              "      <td>0</td>\n",
              "      <td>11</td>\n",
              "      <td>0</td>\n",
              "      <td>0</td>\n",
              "      <td>2</td>\n",
              "      <td>2</td>\n",
              "      <td>3</td>\n",
              "      <td>1</td>\n",
              "      <td>1</td>\n",
              "    </tr>\n",
              "    <tr>\n",
              "      <th>43</th>\n",
              "      <td>1</td>\n",
              "      <td>1</td>\n",
              "      <td>2</td>\n",
              "      <td>0</td>\n",
              "      <td>0</td>\n",
              "      <td>0</td>\n",
              "      <td>0</td>\n",
              "      <td>68</td>\n",
              "      <td>0</td>\n",
              "      <td>4</td>\n",
              "      <td>...</td>\n",
              "      <td>82</td>\n",
              "      <td>0</td>\n",
              "      <td>11</td>\n",
              "      <td>1</td>\n",
              "      <td>1</td>\n",
              "      <td>0</td>\n",
              "      <td>2</td>\n",
              "      <td>0</td>\n",
              "      <td>0</td>\n",
              "      <td>1</td>\n",
              "    </tr>\n",
              "    <tr>\n",
              "      <th>668</th>\n",
              "      <td>1</td>\n",
              "      <td>1</td>\n",
              "      <td>2</td>\n",
              "      <td>6</td>\n",
              "      <td>7</td>\n",
              "      <td>4</td>\n",
              "      <td>0</td>\n",
              "      <td>28</td>\n",
              "      <td>0</td>\n",
              "      <td>3</td>\n",
              "      <td>...</td>\n",
              "      <td>82</td>\n",
              "      <td>0</td>\n",
              "      <td>11</td>\n",
              "      <td>1</td>\n",
              "      <td>1</td>\n",
              "      <td>1</td>\n",
              "      <td>2</td>\n",
              "      <td>3</td>\n",
              "      <td>1</td>\n",
              "      <td>1</td>\n",
              "    </tr>\n",
              "    <tr>\n",
              "      <th>663</th>\n",
              "      <td>0</td>\n",
              "      <td>0</td>\n",
              "      <td>2</td>\n",
              "      <td>2</td>\n",
              "      <td>7</td>\n",
              "      <td>4</td>\n",
              "      <td>0</td>\n",
              "      <td>10</td>\n",
              "      <td>0</td>\n",
              "      <td>5</td>\n",
              "      <td>...</td>\n",
              "      <td>82</td>\n",
              "      <td>0</td>\n",
              "      <td>11</td>\n",
              "      <td>5</td>\n",
              "      <td>1</td>\n",
              "      <td>2</td>\n",
              "      <td>2</td>\n",
              "      <td>3</td>\n",
              "      <td>1</td>\n",
              "      <td>1</td>\n",
              "    </tr>\n",
              "    <tr>\n",
              "      <th>504</th>\n",
              "      <td>1</td>\n",
              "      <td>1</td>\n",
              "      <td>2</td>\n",
              "      <td>2</td>\n",
              "      <td>9</td>\n",
              "      <td>9</td>\n",
              "      <td>0</td>\n",
              "      <td>14</td>\n",
              "      <td>0</td>\n",
              "      <td>2</td>\n",
              "      <td>...</td>\n",
              "      <td>82</td>\n",
              "      <td>0</td>\n",
              "      <td>11</td>\n",
              "      <td>4</td>\n",
              "      <td>4</td>\n",
              "      <td>1</td>\n",
              "      <td>2</td>\n",
              "      <td>3</td>\n",
              "      <td>1</td>\n",
              "      <td>1</td>\n",
              "    </tr>\n",
              "  </tbody>\n",
              "</table>\n",
              "<p>2542 rows × 37 columns</p>\n",
              "</div>\n",
              "      <button class=\"colab-df-convert\" onclick=\"convertToInteractive('df-64c9f6e2-3027-425a-b05b-6880730837b8')\"\n",
              "              title=\"Convert this dataframe to an interactive table.\"\n",
              "              style=\"display:none;\">\n",
              "        \n",
              "  <svg xmlns=\"http://www.w3.org/2000/svg\" height=\"24px\"viewBox=\"0 0 24 24\"\n",
              "       width=\"24px\">\n",
              "    <path d=\"M0 0h24v24H0V0z\" fill=\"none\"/>\n",
              "    <path d=\"M18.56 5.44l.94 2.06.94-2.06 2.06-.94-2.06-.94-.94-2.06-.94 2.06-2.06.94zm-11 1L8.5 8.5l.94-2.06 2.06-.94-2.06-.94L8.5 2.5l-.94 2.06-2.06.94zm10 10l.94 2.06.94-2.06 2.06-.94-2.06-.94-.94-2.06-.94 2.06-2.06.94z\"/><path d=\"M17.41 7.96l-1.37-1.37c-.4-.4-.92-.59-1.43-.59-.52 0-1.04.2-1.43.59L10.3 9.45l-7.72 7.72c-.78.78-.78 2.05 0 2.83L4 21.41c.39.39.9.59 1.41.59.51 0 1.02-.2 1.41-.59l7.78-7.78 2.81-2.81c.8-.78.8-2.07 0-2.86zM5.41 20L4 18.59l7.72-7.72 1.47 1.35L5.41 20z\"/>\n",
              "  </svg>\n",
              "      </button>\n",
              "      \n",
              "  <style>\n",
              "    .colab-df-container {\n",
              "      display:flex;\n",
              "      flex-wrap:wrap;\n",
              "      gap: 12px;\n",
              "    }\n",
              "\n",
              "    .colab-df-convert {\n",
              "      background-color: #E8F0FE;\n",
              "      border: none;\n",
              "      border-radius: 50%;\n",
              "      cursor: pointer;\n",
              "      display: none;\n",
              "      fill: #1967D2;\n",
              "      height: 32px;\n",
              "      padding: 0 0 0 0;\n",
              "      width: 32px;\n",
              "    }\n",
              "\n",
              "    .colab-df-convert:hover {\n",
              "      background-color: #E2EBFA;\n",
              "      box-shadow: 0px 1px 2px rgba(60, 64, 67, 0.3), 0px 1px 3px 1px rgba(60, 64, 67, 0.15);\n",
              "      fill: #174EA6;\n",
              "    }\n",
              "\n",
              "    [theme=dark] .colab-df-convert {\n",
              "      background-color: #3B4455;\n",
              "      fill: #D2E3FC;\n",
              "    }\n",
              "\n",
              "    [theme=dark] .colab-df-convert:hover {\n",
              "      background-color: #434B5C;\n",
              "      box-shadow: 0px 1px 3px 1px rgba(0, 0, 0, 0.15);\n",
              "      filter: drop-shadow(0px 1px 2px rgba(0, 0, 0, 0.3));\n",
              "      fill: #FFFFFF;\n",
              "    }\n",
              "  </style>\n",
              "\n",
              "      <script>\n",
              "        const buttonEl =\n",
              "          document.querySelector('#df-64c9f6e2-3027-425a-b05b-6880730837b8 button.colab-df-convert');\n",
              "        buttonEl.style.display =\n",
              "          google.colab.kernel.accessAllowed ? 'block' : 'none';\n",
              "\n",
              "        async function convertToInteractive(key) {\n",
              "          const element = document.querySelector('#df-64c9f6e2-3027-425a-b05b-6880730837b8');\n",
              "          const dataTable =\n",
              "            await google.colab.kernel.invokeFunction('convertToInteractive',\n",
              "                                                     [key], {});\n",
              "          if (!dataTable) return;\n",
              "\n",
              "          const docLinkHtml = 'Like what you see? Visit the ' +\n",
              "            '<a target=\"_blank\" href=https://colab.research.google.com/notebooks/data_table.ipynb>data table notebook</a>'\n",
              "            + ' to learn more about interactive tables.';\n",
              "          element.innerHTML = '';\n",
              "          dataTable['output_type'] = 'display_data';\n",
              "          await google.colab.output.renderOutput(dataTable, element);\n",
              "          const docLink = document.createElement('div');\n",
              "          docLink.innerHTML = docLinkHtml;\n",
              "          element.appendChild(docLink);\n",
              "        }\n",
              "      </script>\n",
              "    </div>\n",
              "  </div>\n",
              "  "
            ]
          },
          "metadata": {},
          "execution_count": 238
        }
      ]
    },
    {
      "cell_type": "code",
      "source": [
        "norm_train_x"
      ],
      "metadata": {
        "id": "zYdTW_5x9yP9"
      },
      "execution_count": null,
      "outputs": []
    },
    {
      "cell_type": "code",
      "execution_count": null,
      "metadata": {
        "colab": {
          "base_uri": "https://localhost:8080/",
          "height": 1000
        },
        "id": "BnigrCjghglG",
        "outputId": "13599a57-d4b6-44da-abae-3fa218dbc410"
      },
      "outputs": [
        {
          "output_type": "stream",
          "name": "stderr",
          "text": [
            "/usr/local/lib/python3.7/dist-packages/sklearn/preprocessing/_label.py:98: DataConversionWarning: A column-vector y was passed when a 1d array was expected. Please change the shape of y to (n_samples, ), for example using ravel().\n",
            "  y = column_or_1d(y, warn=True)\n",
            "/usr/local/lib/python3.7/dist-packages/sklearn/preprocessing/_label.py:133: DataConversionWarning: A column-vector y was passed when a 1d array was expected. Please change the shape of y to (n_samples, ), for example using ravel().\n",
            "  y = column_or_1d(y, warn=True)\n",
            "/usr/local/lib/python3.7/dist-packages/sklearn/utils/deprecation.py:87: FutureWarning: Function plot_confusion_matrix is deprecated; Function `plot_confusion_matrix` is deprecated in 1.0 and will be removed in 1.2. Use one of the class methods: ConfusionMatrixDisplay.from_predictions or ConfusionMatrixDisplay.from_estimator.\n",
            "  warnings.warn(msg, category=FutureWarning)\n"
          ]
        },
        {
          "output_type": "stream",
          "name": "stdout",
          "text": [
            "Accuracy: 92.81%\n"
          ]
        },
        {
          "output_type": "display_data",
          "data": {
            "text/plain": [
              "<Figure size 432x288 with 2 Axes>"
            ],
            "image/png": "[encoded data removed]"
          },
          "metadata": {
            "needs_background": "light"
          }
        },
        {
          "output_type": "display_data",
          "data": {
            "text/plain": [
              "<Figure size 432x288 with 1 Axes>"
            ],
            "image/png": "[encoded data removed]"
          },
          "metadata": {
            "needs_background": "light"
          }
        },
        {
          "output_type": "stream",
          "name": "stderr",
          "text": [
            "/usr/local/lib/python3.7/dist-packages/sklearn/metrics/_classification.py:1318: UndefinedMetricWarning: Precision is ill-defined and being set to 0.0 in labels with no predicted samples. Use `zero_division` parameter to control this behavior.\n",
            "  _warn_prf(average, modifier, msg_start, len(result))\n"
          ]
        },
        {
          "output_type": "stream",
          "name": "stdout",
          "text": [
            "0.46403712296983757\n",
            "0.5\n"
          ]
        },
        {
          "output_type": "display_data",
          "data": {
            "text/plain": [
              "<Figure size 480x480 with 1 Axes>"
            ],
            "image/png": "[encoded data removed]"
          },
          "metadata": {
            "needs_background": "light"
          }
        },
        {
          "output_type": "execute_result",
          "data": {
            "text/plain": [
              "<graphviz.dot.Digraph at 0x7f46cbd51810>"
            ],
            "image/svg+xml": "<?xml version=\"1.0\" encoding=\"UTF-8\" standalone=\"no\"?>\n<!DOCTYPE svg PUBLIC \"-//W3C//DTD SVG 1.1//EN\"\n \"http://www.w3.org/Graphics/SVG/1.1/DTD/svg11.dtd\">\n<!-- Generated by graphviz version 2.40.1 (20161225.0304)\n -->\n<!-- Title: %3 Pages: 1 -->\n<svg width=\"1670pt\" height=\"305pt\"\n viewBox=\"0.00 0.00 1670.47 305.00\" xmlns=\"http://www.w3.org/2000/svg\" xmlns:xlink=\"http://www.w3.org/1999/xlink\">\n<g id=\"graph0\" class=\"graph\" transform=\"scale(1 1) rotate(0) translate(4 301)\">\n<title>%3</title>\n<polygon fill=\"#ffffff\" stroke=\"transparent\" points=\"-4,4 -4,-301 1666.4706,-301 1666.4706,4 -4,4\"/>\n<!-- 0 -->\n<g id=\"node1\" class=\"node\">\n<title>0</title>\n<ellipse fill=\"none\" stroke=\"#000000\" cx=\"859.3922\" cy=\"-279\" rx=\"100.9827\" ry=\"18\"/>\n<text text-anchor=\"middle\" x=\"859.3922\" y=\"-275.3\" font-family=\"Times,serif\" font-size=\"14.00\" fill=\"#000000\">The_Decedent_Age&lt;56</text>\n</g>\n<!-- 1 -->\n<g id=\"node2\" class=\"node\">\n<title>1</title>\n<ellipse fill=\"none\" stroke=\"#000000\" cx=\"661.3922\" cy=\"-192\" rx=\"135.3763\" ry=\"18\"/>\n<text text-anchor=\"middle\" x=\"661.3922\" y=\"-188.3\" font-family=\"Times,serif\" font-size=\"14.00\" fill=\"#000000\">Other_medical_items_Certifier&lt;3</text>\n</g>\n<!-- 0&#45;&gt;1 -->\n<g id=\"edge1\" class=\"edge\">\n<title>0&#45;&gt;1</title>\n<path fill=\"none\" stroke=\"#0000ff\" d=\"M821.2158,-262.2255C789.5784,-248.3243 744.4106,-228.4778 710.1579,-213.4274\"/>\n<polygon fill=\"#0000ff\" stroke=\"#0000ff\" points=\"711.3698,-210.1369 700.8066,-209.3185 708.5538,-216.5456 711.3698,-210.1369\"/>\n<text text-anchor=\"middle\" x=\"807.8922\" y=\"-231.8\" font-family=\"Times,serif\" font-size=\"14.00\" fill=\"#000000\">yes, missing</text>\n</g>\n<!-- 2 -->\n<g id=\"node3\" class=\"node\">\n<title>2</title>\n<ellipse fill=\"none\" stroke=\"#000000\" cx=\"1057.3922\" cy=\"-192\" rx=\"243.1569\" ry=\"18\"/>\n<text text-anchor=\"middle\" x=\"1057.3922\" y=\"-188.3\" font-family=\"Times,serif\" font-size=\"14.00\" fill=\"#000000\">Multiple_Conditions_Record&#45;Axis_conditions_Number_of&lt;2</text>\n</g>\n<!-- 0&#45;&gt;2 -->\n<g id=\"edge2\" class=\"edge\">\n<title>0&#45;&gt;2</title>\n<path fill=\"none\" stroke=\"#ff0000\" d=\"M897.5685,-262.2255C928.8977,-248.4597 973.4951,-228.8639 1007.6225,-213.8685\"/>\n<polygon fill=\"#ff0000\" stroke=\"#ff0000\" points=\"1009.2036,-216.9968 1016.9508,-209.7697 1006.3876,-210.5882 1009.2036,-216.9968\"/>\n<text text-anchor=\"middle\" x=\"978.3922\" y=\"-231.8\" font-family=\"Times,serif\" font-size=\"14.00\" fill=\"#000000\">no</text>\n</g>\n<!-- 3 -->\n<g id=\"node4\" class=\"node\">\n<title>3</title>\n<ellipse fill=\"none\" stroke=\"#000000\" cx=\"269.3922\" cy=\"-105\" rx=\"243.1569\" ry=\"18\"/>\n<text text-anchor=\"middle\" x=\"269.3922\" y=\"-101.3\" font-family=\"Times,serif\" font-size=\"14.00\" fill=\"#000000\">Multiple_Conditions_Record&#45;Axis_conditions_Number_of&lt;5</text>\n</g>\n<!-- 1&#45;&gt;3 -->\n<g id=\"edge3\" class=\"edge\">\n<title>1&#45;&gt;3</title>\n<path fill=\"none\" stroke=\"#0000ff\" d=\"M591.7621,-176.5464C525.9924,-161.9495 427.1283,-140.0078 356.2361,-124.274\"/>\n<polygon fill=\"#0000ff\" stroke=\"#0000ff\" points=\"356.9457,-120.8464 346.4249,-122.0965 355.429,-127.6802 356.9457,-120.8464\"/>\n<text text-anchor=\"middle\" x=\"524.8922\" y=\"-144.8\" font-family=\"Times,serif\" font-size=\"14.00\" fill=\"#000000\">yes, missing</text>\n</g>\n<!-- 4 -->\n<g id=\"node5\" class=\"node\">\n<title>4</title>\n<ellipse fill=\"none\" stroke=\"#000000\" cx=\"683.3922\" cy=\"-105\" rx=\"153.2729\" ry=\"18\"/>\n<text text-anchor=\"middle\" x=\"683.3922\" y=\"-101.3\" font-family=\"Times,serif\" font-size=\"14.00\" fill=\"#000000\">Other_medical_items_Tobacco_use&lt;1</text>\n</g>\n<!-- 1&#45;&gt;4 -->\n<g id=\"edge4\" class=\"edge\">\n<title>1&#45;&gt;4</title>\n<path fill=\"none\" stroke=\"#ff0000\" d=\"M665.9506,-173.9735C668.9594,-162.0751 672.9609,-146.2508 676.3722,-132.7606\"/>\n<polygon fill=\"#ff0000\" stroke=\"#ff0000\" points=\"679.7811,-133.5563 678.8396,-123.0034 672.9947,-131.8401 679.7811,-133.5563\"/>\n<text text-anchor=\"middle\" x=\"682.3922\" y=\"-144.8\" font-family=\"Times,serif\" font-size=\"14.00\" fill=\"#000000\">no</text>\n</g>\n<!-- 5 -->\n<g id=\"node10\" class=\"node\">\n<title>5</title>\n<ellipse fill=\"none\" stroke=\"#000000\" cx=\"1023.3922\" cy=\"-105\" rx=\"135.3763\" ry=\"18\"/>\n<text text-anchor=\"middle\" x=\"1023.3922\" y=\"-101.3\" font-family=\"Times,serif\" font-size=\"14.00\" fill=\"#000000\">Other_medical_items_Certifier&lt;3</text>\n</g>\n<!-- 2&#45;&gt;5 -->\n<g id=\"edge9\" class=\"edge\">\n<title>2&#45;&gt;5</title>\n<path fill=\"none\" stroke=\"#0000ff\" d=\"M1050.3473,-173.9735C1045.6518,-161.9585 1039.3917,-145.9401 1034.0863,-132.3646\"/>\n<polygon fill=\"#0000ff\" stroke=\"#0000ff\" points=\"1037.3279,-131.0434 1030.428,-123.0034 1030.8081,-133.5914 1037.3279,-131.0434\"/>\n<text text-anchor=\"middle\" x=\"1078.8922\" y=\"-144.8\" font-family=\"Times,serif\" font-size=\"14.00\" fill=\"#000000\">yes, missing</text>\n</g>\n<!-- 6 -->\n<g id=\"node11\" class=\"node\">\n<title>6</title>\n<ellipse fill=\"none\" stroke=\"#000000\" cx=\"1419.3922\" cy=\"-105\" rx=\"243.1569\" ry=\"18\"/>\n<text text-anchor=\"middle\" x=\"1419.3922\" y=\"-101.3\" font-family=\"Times,serif\" font-size=\"14.00\" fill=\"#000000\">Multiple_Conditions_Record&#45;Axis_conditions_Number_of&lt;5</text>\n</g>\n<!-- 2&#45;&gt;6 -->\n<g id=\"edge10\" class=\"edge\">\n<title>2&#45;&gt;6</title>\n<path fill=\"none\" stroke=\"#ff0000\" d=\"M1129.3445,-174.7076C1189.4309,-160.2669 1275.0788,-139.6831 1337.7264,-124.6269\"/>\n<polygon fill=\"#ff0000\" stroke=\"#ff0000\" points=\"1338.6707,-127.9996 1347.576,-122.2597 1337.0349,-121.1934 1338.6707,-127.9996\"/>\n<text text-anchor=\"middle\" x=\"1268.3922\" y=\"-144.8\" font-family=\"Times,serif\" font-size=\"14.00\" fill=\"#000000\">no</text>\n</g>\n<!-- 7 -->\n<g id=\"node6\" class=\"node\">\n<title>7</title>\n<ellipse fill=\"none\" stroke=\"#000000\" cx=\"88.3922\" cy=\"-18\" rx=\"88.2844\" ry=\"18\"/>\n<text text-anchor=\"middle\" x=\"88.3922\" y=\"-14.3\" font-family=\"Times,serif\" font-size=\"14.00\" fill=\"#000000\">leaf=&#45;0.0868670866</text>\n</g>\n<!-- 3&#45;&gt;7 -->\n<g id=\"edge5\" class=\"edge\">\n<title>3&#45;&gt;7</title>\n<path fill=\"none\" stroke=\"#0000ff\" d=\"M232.3273,-87.1843C203.2712,-73.2181 162.7659,-53.7487 132.124,-39.0203\"/>\n<polygon fill=\"#0000ff\" stroke=\"#0000ff\" points=\"133.4839,-35.7906 122.9547,-34.6129 130.4513,-42.0997 133.4839,-35.7906\"/>\n<text text-anchor=\"middle\" x=\"225.8922\" y=\"-57.8\" font-family=\"Times,serif\" font-size=\"14.00\" fill=\"#000000\">yes, missing</text>\n</g>\n<!-- 8 -->\n<g id=\"node7\" class=\"node\">\n<title>8</title>\n<ellipse fill=\"none\" stroke=\"#000000\" cx=\"283.3922\" cy=\"-18\" rx=\"88.2844\" ry=\"18\"/>\n<text text-anchor=\"middle\" x=\"283.3922\" y=\"-14.3\" font-family=\"Times,serif\" font-size=\"14.00\" fill=\"#000000\">leaf=&#45;0.0601307228</text>\n</g>\n<!-- 3&#45;&gt;8 -->\n<g id=\"edge6\" class=\"edge\">\n<title>3&#45;&gt;8</title>\n<path fill=\"none\" stroke=\"#ff0000\" d=\"M272.293,-86.9735C274.1889,-75.1918 276.7042,-59.5607 278.861,-46.1581\"/>\n<polygon fill=\"#ff0000\" stroke=\"#ff0000\" points=\"282.3618,-46.4324 280.4951,-36.0034 275.4507,-45.3203 282.3618,-46.4324\"/>\n<text text-anchor=\"middle\" x=\"285.3922\" y=\"-57.8\" font-family=\"Times,serif\" font-size=\"14.00\" fill=\"#000000\">no</text>\n</g>\n<!-- 9 -->\n<g id=\"node8\" class=\"node\">\n<title>9</title>\n<ellipse fill=\"none\" stroke=\"#000000\" cx=\"492.3922\" cy=\"-18\" rx=\"88.2844\" ry=\"18\"/>\n<text text-anchor=\"middle\" x=\"492.3922\" y=\"-14.3\" font-family=\"Times,serif\" font-size=\"14.00\" fill=\"#000000\">leaf=&#45;0.0772151873</text>\n</g>\n<!-- 4&#45;&gt;9 -->\n<g id=\"edge7\" class=\"edge\">\n<title>4&#45;&gt;9</title>\n<path fill=\"none\" stroke=\"#0000ff\" d=\"M644.7405,-87.3943C613.8855,-73.3399 570.5828,-53.6156 538.0264,-38.7863\"/>\n<polygon fill=\"#0000ff\" stroke=\"#0000ff\" points=\"539.2729,-35.5081 528.7216,-34.548 536.3712,-41.8784 539.2729,-35.5081\"/>\n<text text-anchor=\"middle\" x=\"634.8922\" y=\"-57.8\" font-family=\"Times,serif\" font-size=\"14.00\" fill=\"#000000\">yes, missing</text>\n</g>\n<!-- 10 -->\n<g id=\"node9\" class=\"node\">\n<title>10</title>\n<ellipse fill=\"none\" stroke=\"#000000\" cx=\"687.3922\" cy=\"-18\" rx=\"88.2844\" ry=\"18\"/>\n<text text-anchor=\"middle\" x=\"687.3922\" y=\"-14.3\" font-family=\"Times,serif\" font-size=\"14.00\" fill=\"#000000\">leaf=&#45;0.0178571437</text>\n</g>\n<!-- 4&#45;&gt;10 -->\n<g id=\"edge8\" class=\"edge\">\n<title>4&#45;&gt;10</title>\n<path fill=\"none\" stroke=\"#ff0000\" d=\"M684.221,-86.9735C684.7626,-75.1918 685.4813,-59.5607 686.0975,-46.1581\"/>\n<polygon fill=\"#ff0000\" stroke=\"#ff0000\" points=\"689.6013,-46.1536 686.5644,-36.0034 682.6087,-45.832 689.6013,-46.1536\"/>\n<text text-anchor=\"middle\" x=\"694.3922\" y=\"-57.8\" font-family=\"Times,serif\" font-size=\"14.00\" fill=\"#000000\">no</text>\n</g>\n<!-- 11 -->\n<g id=\"node12\" class=\"node\">\n<title>11</title>\n<ellipse fill=\"none\" stroke=\"#000000\" cx=\"886.3922\" cy=\"-18\" rx=\"90.1842\" ry=\"18\"/>\n<text text-anchor=\"middle\" x=\"886.3922\" y=\"-14.3\" font-family=\"Times,serif\" font-size=\"14.00\" fill=\"#000000\">leaf=0.00945946015</text>\n</g>\n<!-- 5&#45;&gt;11 -->\n<g id=\"edge11\" class=\"edge\">\n<title>5&#45;&gt;11</title>\n<path fill=\"none\" stroke=\"#0000ff\" d=\"M995.3376,-87.1843C974.19,-73.7548 945.0298,-55.237 922.1992,-40.7388\"/>\n<polygon fill=\"#0000ff\" stroke=\"#0000ff\" points=\"923.7936,-37.6052 913.4756,-35.199 920.041,-43.5144 923.7936,-37.6052\"/>\n<text text-anchor=\"middle\" x=\"998.8922\" y=\"-57.8\" font-family=\"Times,serif\" font-size=\"14.00\" fill=\"#000000\">yes, missing</text>\n</g>\n<!-- 12 -->\n<g id=\"node13\" class=\"node\">\n<title>12</title>\n<ellipse fill=\"none\" stroke=\"#000000\" cx=\"1079.3922\" cy=\"-18\" rx=\"85.2851\" ry=\"18\"/>\n<text text-anchor=\"middle\" x=\"1079.3922\" y=\"-14.3\" font-family=\"Times,serif\" font-size=\"14.00\" fill=\"#000000\">leaf=0.0641509444</text>\n</g>\n<!-- 5&#45;&gt;12 -->\n<g id=\"edge12\" class=\"edge\">\n<title>5&#45;&gt;12</title>\n<path fill=\"none\" stroke=\"#ff0000\" d=\"M1034.9954,-86.9735C1042.8794,-74.7252 1053.4413,-58.3165 1062.2854,-44.5766\"/>\n<polygon fill=\"#ff0000\" stroke=\"#ff0000\" points=\"1065.3343,-46.3064 1067.8038,-36.0034 1059.4482,-42.5176 1065.3343,-46.3064\"/>\n<text text-anchor=\"middle\" x=\"1063.3922\" y=\"-57.8\" font-family=\"Times,serif\" font-size=\"14.00\" fill=\"#000000\">no</text>\n</g>\n<!-- 13 -->\n<g id=\"node14\" class=\"node\">\n<title>13</title>\n<ellipse fill=\"none\" stroke=\"#000000\" cx=\"1266.3922\" cy=\"-18\" rx=\"83.3857\" ry=\"18\"/>\n<text text-anchor=\"middle\" x=\"1266.3922\" y=\"-14.3\" font-family=\"Times,serif\" font-size=\"14.00\" fill=\"#000000\">leaf=&#45;0.033673469</text>\n</g>\n<!-- 6&#45;&gt;13 -->\n<g id=\"edge13\" class=\"edge\">\n<title>6&#45;&gt;13</title>\n<path fill=\"none\" stroke=\"#0000ff\" d=\"M1387.6905,-86.9735C1363.6533,-73.3053 1330.5051,-54.4564 1304.935,-39.9165\"/>\n<polygon fill=\"#0000ff\" stroke=\"#0000ff\" points=\"1306.657,-36.8694 1296.234,-34.9689 1303.1968,-42.9545 1306.657,-36.8694\"/>\n<text text-anchor=\"middle\" x=\"1387.8922\" y=\"-57.8\" font-family=\"Times,serif\" font-size=\"14.00\" fill=\"#000000\">yes, missing</text>\n</g>\n<!-- 14 -->\n<g id=\"node15\" class=\"node\">\n<title>14</title>\n<ellipse fill=\"none\" stroke=\"#000000\" cx=\"1452.3922\" cy=\"-18\" rx=\"85.2851\" ry=\"18\"/>\n<text text-anchor=\"middle\" x=\"1452.3922\" y=\"-14.3\" font-family=\"Times,serif\" font-size=\"14.00\" fill=\"#000000\">leaf=0.0333333351</text>\n</g>\n<!-- 6&#45;&gt;14 -->\n<g id=\"edge14\" class=\"edge\">\n<title>6&#45;&gt;14</title>\n<path fill=\"none\" stroke=\"#ff0000\" d=\"M1426.2298,-86.9735C1430.7872,-74.9585 1436.8632,-58.9401 1442.0125,-45.3646\"/>\n<polygon fill=\"#ff0000\" stroke=\"#ff0000\" points=\"1445.2892,-46.5947 1445.5633,-36.0034 1438.7442,-44.112 1445.2892,-46.5947\"/>\n<text text-anchor=\"middle\" x=\"1445.3922\" y=\"-57.8\" font-family=\"Times,serif\" font-size=\"14.00\" fill=\"#000000\">no</text>\n</g>\n</g>\n</svg>\n"
          },
          "metadata": {},
          "execution_count": 229
        }
      ],
      "source": [
        "xgb_model = xgb.XGBClassifier(objective=\"binary:logistic\", colsample_bytree=0.4, gamma=0.4, learning_rate=0.05, max_depth=3, min_child_weight=2, random_state=30)\n",
        "\n",
        "xgb_model.fit(train_x_hashed, train_y)\n",
        "\n",
        "# make predictions for test data\n",
        "y_pred = xgb_model.predict(validation_x_hashed)\n",
        "predictions = [round(value) for value in y_pred]\n",
        "\n",
        "accuracy = metrics.accuracy_score(validation_y, predictions)\n",
        "print(\"Accuracy: %.2f%%\" % (accuracy * 100.0))\n",
        "\n",
        "color = 'black'\n",
        "matrix = plot_confusion_matrix(xgb_model, validation_x_hashed, validation_y, cmap=plt.cm.Blues)\n",
        "matrix.ax_.set_title('Confusion Matrix', color=color)\n",
        "plt.xlabel('Predicted Label', color=color)\n",
        "plt.ylabel('True Label', color=color)\n",
        "plt.gcf().axes[0].tick_params(colors=color)\n",
        "plt.gcf().axes[1].tick_params(colors=color)\n",
        "plt.show()\n",
        "\n",
        "\n",
        "\n",
        "fpr = dict()\n",
        "tpr = dict()\n",
        "roc_auc = dict()\n",
        "lw = 2\n",
        "fpr, tpr, thresholds = roc_curve(validation_y, y_pred)\n",
        "roc_auc = auc(fpr, tpr)\n",
        "plt.plot(fpr, tpr, 'k--', label = 'ROC(area = {0:2f})'.format(roc_auc), lw=2)\n",
        "plt.xlim([-0.05, 1.05])\n",
        "plt.ylim([-0.05, 1.05])\n",
        "plt.xlabel('FPR')\n",
        "plt.ylabel('TPR')\n",
        "plt.legend(loc = 'lower right')\n",
        "plt.show()\n",
        "\n",
        "\n",
        "\n",
        "print(precision_score(validation_y, y_pred, average='macro'))\n",
        "print(recall_score(validation_y, y_pred, average='macro'))\n",
        "\n",
        "\n",
        "\n",
        "figure(figsize=(6, 6), dpi=80)\n",
        "\n",
        "features = [f\"feature {i}\" for i in range(train_x_hashed.shape[1])]\n",
        "importances = xgb_model.feature_importances_\n",
        "indices = np.argsort(importances)\n",
        "\n",
        "plt.title('Feature Importances')\n",
        "plt.barh(range(len(indices)), importances[indices], color='b', align='center')\n",
        "plt.yticks(range(len(indices)), [features[i] for i in indices])\n",
        "plt.xlabel('Relative Importance')\n",
        "plt.show()\n",
        "\n",
        "\n",
        "\n",
        "xgb.to_graphviz(xgb_model)"
      ]
    },
    {
      "cell_type": "code",
      "source": [
        "xgb_model = xgb.XGBClassifier(objective=\"binary:logistic\", colsample_bytree=0.4, gamma=0.4, learning_rate=0.05, max_depth=3, min_child_weight=2, random_state=30)\n",
        "\n",
        "xgb_model.fit(norm_train_x, train_y)\n",
        "\n",
        "# make predictions for test data\n",
        "y_pred = xgb_model.predict(norm_validation_x)\n",
        "predictions = [round(value) for value in y_pred]\n",
        "\n",
        "accuracy = metrics.accuracy_score(validation_y, predictions)\n",
        "print(\"Accuracy: %.2f%%\" % (accuracy * 100.0))\n",
        "\n",
        "color = 'black'\n",
        "matrix = plot_confusion_matrix(xgb_model, norm_validation_x, validation_y, cmap=plt.cm.Blues)\n",
        "matrix.ax_.set_title('Confusion Matrix', color=color)\n",
        "plt.xlabel('Predicted Label', color=color)\n",
        "plt.ylabel('True Label', color=color)\n",
        "plt.gcf().axes[0].tick_params(colors=color)\n",
        "plt.gcf().axes[1].tick_params(colors=color)\n",
        "plt.show()\n",
        "\n",
        "\n",
        "\n",
        "fpr = dict()\n",
        "tpr = dict()\n",
        "roc_auc = dict()\n",
        "lw = 2\n",
        "fpr, tpr, thresholds = roc_curve(validation_y, y_pred)\n",
        "roc_auc = auc(fpr, tpr)\n",
        "plt.plot(fpr, tpr, 'k--', label = 'ROC(area = {0:2f})'.format(roc_auc), lw=2)\n",
        "plt.xlim([-0.05, 1.05])\n",
        "plt.ylim([-0.05, 1.05])\n",
        "plt.xlabel('FPR')\n",
        "plt.ylabel('TPR')\n",
        "plt.legend(loc = 'lower right')\n",
        "plt.show()\n",
        "\n",
        "\n",
        "\n",
        "print(precision_score(validation_y, y_pred, average='macro'))\n",
        "print(recall_score(validation_y, y_pred, average='macro'))\n",
        "\n",
        "\n",
        "\n",
        "figure(figsize=(6, 6), dpi=80)\n",
        "\n",
        "features = [f\"feature {i}\" for i in range(norm_train_x.shape[1])]\n",
        "importances = xgb_model.feature_importances_\n",
        "indices = np.argsort(importances)\n",
        "\n",
        "plt.title('Feature Importances')\n",
        "plt.barh(range(len(indices)), importances[indices], color='b', align='center')\n",
        "plt.yticks(range(len(indices)), [features[i] for i in indices])\n",
        "plt.xlabel('Relative Importance')\n",
        "plt.show()\n",
        "\n",
        "\n",
        "\n",
        "xgb.to_graphviz(xgb_model)"
      ],
      "metadata": {
        "colab": {
          "base_uri": "https://localhost:8080/",
          "height": 1000
        },
        "id": "7nFbam-eIvOp",
        "outputId": "35f567e2-7a74-481e-c0c9-c8bb7fb30c67"
      },
      "execution_count": null,
      "outputs": [
        {
          "output_type": "stream",
          "name": "stderr",
          "text": [
            "/usr/local/lib/python3.7/dist-packages/sklearn/preprocessing/_label.py:98: DataConversionWarning: A column-vector y was passed when a 1d array was expected. Please change the shape of y to (n_samples, ), for example using ravel().\n",
            "  y = column_or_1d(y, warn=True)\n",
            "/usr/local/lib/python3.7/dist-packages/sklearn/preprocessing/_label.py:133: DataConversionWarning: A column-vector y was passed when a 1d array was expected. Please change the shape of y to (n_samples, ), for example using ravel().\n",
            "  y = column_or_1d(y, warn=True)\n"
          ]
        },
        {
          "output_type": "stream",
          "name": "stdout",
          "text": [
            "Accuracy: 99.12%\n"
          ]
        },
        {
          "output_type": "stream",
          "name": "stderr",
          "text": [
            "/usr/local/lib/python3.7/dist-packages/sklearn/utils/deprecation.py:87: FutureWarning: Function plot_confusion_matrix is deprecated; Function `plot_confusion_matrix` is deprecated in 1.0 and will be removed in 1.2. Use one of the class methods: ConfusionMatrixDisplay.from_predictions or ConfusionMatrixDisplay.from_estimator.\n",
            "  warnings.warn(msg, category=FutureWarning)\n"
          ]
        },
        {
          "output_type": "display_data",
          "data": {
            "text/plain": [
              "<Figure size 432x288 with 2 Axes>"
            ],
            "image/png": "[encoded data removed]"
          },
          "metadata": {
            "needs_background": "light"
          }
        },
        {
          "output_type": "display_data",
          "data": {
            "text/plain": [
              "<Figure size 432x288 with 1 Axes>"
            ],
            "image/png": "[encoded data removed]"
          },
          "metadata": {
            "needs_background": "light"
          }
        },
        {
          "output_type": "stream",
          "name": "stdout",
          "text": [
            "0.9854624518097157\n",
            "0.9476370967741936\n"
          ]
        },
        {
          "output_type": "display_data",
          "data": {
            "text/plain": [
              "<Figure size 480x480 with 1 Axes>"
            ],
            "image/png": "[encoded data removed]"
          },
          "metadata": {
            "needs_background": "light"
          }
        },
        {
          "output_type": "execute_result",
          "data": {
            "text/plain": [
              "<graphviz.dot.Digraph at 0x7f46cbf820d0>"
            ],
            "image/svg+xml": "<?xml version=\"1.0\" encoding=\"UTF-8\" standalone=\"no\"?>\n<!DOCTYPE svg PUBLIC \"-//W3C//DTD SVG 1.1//EN\"\n \"http://www.w3.org/Graphics/SVG/1.1/DTD/svg11.dtd\">\n<!-- Generated by graphviz version 2.40.1 (20161225.0304)\n -->\n<!-- Title: %3 Pages: 1 -->\n<svg width=\"1137pt\" height=\"305pt\"\n viewBox=\"0.00 0.00 1136.78 305.00\" xmlns=\"http://www.w3.org/2000/svg\" xmlns:xlink=\"http://www.w3.org/1999/xlink\">\n<g id=\"graph0\" class=\"graph\" transform=\"scale(1 1) rotate(0) translate(4 301)\">\n<title>%3</title>\n<polygon fill=\"#ffffff\" stroke=\"transparent\" points=\"-4,4 -4,-301 1132.7843,-301 1132.7843,4 -4,4\"/>\n<!-- 0 -->\n<g id=\"node1\" class=\"node\">\n<title>0</title>\n<ellipse fill=\"none\" stroke=\"#000000\" cx=\"678.3922\" cy=\"-279\" rx=\"89.8845\" ry=\"18\"/>\n<text text-anchor=\"middle\" x=\"678.3922\" y=\"-275.3\" font-family=\"Times,serif\" font-size=\"14.00\" fill=\"#000000\">f36&lt;0.00528451335</text>\n</g>\n<!-- 1 -->\n<g id=\"node2\" class=\"node\">\n<title>1</title>\n<ellipse fill=\"none\" stroke=\"#000000\" cx=\"582.3922\" cy=\"-192\" rx=\"89.8845\" ry=\"18\"/>\n<text text-anchor=\"middle\" x=\"582.3922\" y=\"-188.3\" font-family=\"Times,serif\" font-size=\"14.00\" fill=\"#000000\">f36&lt;0.00206040661</text>\n</g>\n<!-- 0&#45;&gt;1 -->\n<g id=\"edge1\" class=\"edge\">\n<title>0&#45;&gt;1</title>\n<path fill=\"none\" stroke=\"#0000ff\" d=\"M658.9651,-261.3943C644.6517,-248.4228 625.0088,-230.6213 609.2018,-216.2962\"/>\n<polygon fill=\"#0000ff\" stroke=\"#0000ff\" points=\"611.5505,-213.7013 601.7903,-209.5796 606.8499,-218.8883 611.5505,-213.7013\"/>\n<text text-anchor=\"middle\" x=\"671.8922\" y=\"-231.8\" font-family=\"Times,serif\" font-size=\"14.00\" fill=\"#000000\">yes, missing</text>\n</g>\n<!-- 2 -->\n<g id=\"node3\" class=\"node\">\n<title>2</title>\n<ellipse fill=\"none\" stroke=\"#000000\" cx=\"844.3922\" cy=\"-192\" rx=\"75.2868\" ry=\"18\"/>\n<text text-anchor=\"middle\" x=\"844.3922\" y=\"-188.3\" font-family=\"Times,serif\" font-size=\"14.00\" fill=\"#000000\">f15&lt;0.01004472</text>\n</g>\n<!-- 0&#45;&gt;2 -->\n<g id=\"edge2\" class=\"edge\">\n<title>0&#45;&gt;2</title>\n<path fill=\"none\" stroke=\"#ff0000\" d=\"M710.7927,-262.019C737.4413,-248.0525 775.3431,-228.1883 803.974,-213.183\"/>\n<polygon fill=\"#ff0000\" stroke=\"#ff0000\" points=\"805.6854,-216.2377 812.9179,-208.4955 802.4359,-210.0376 805.6854,-216.2377\"/>\n<text text-anchor=\"middle\" x=\"779.3922\" y=\"-231.8\" font-family=\"Times,serif\" font-size=\"14.00\" fill=\"#000000\">no</text>\n</g>\n<!-- 3 -->\n<g id=\"node4\" class=\"node\">\n<title>3</title>\n<ellipse fill=\"none\" stroke=\"#000000\" cx=\"282.3922\" cy=\"-105\" rx=\"85.2851\" ry=\"18\"/>\n<text text-anchor=\"middle\" x=\"282.3922\" y=\"-101.3\" font-family=\"Times,serif\" font-size=\"14.00\" fill=\"#000000\">f0&lt;0.00529855583</text>\n</g>\n<!-- 1&#45;&gt;3 -->\n<g id=\"edge3\" class=\"edge\">\n<title>1&#45;&gt;3</title>\n<path fill=\"none\" stroke=\"#0000ff\" d=\"M531.1612,-177.143C478.8267,-161.966 397.6164,-138.415 342.3284,-122.3815\"/>\n<polygon fill=\"#0000ff\" stroke=\"#0000ff\" points=\"343.241,-119.002 332.6619,-119.5782 341.2913,-125.725 343.241,-119.002\"/>\n<text text-anchor=\"middle\" x=\"485.8922\" y=\"-144.8\" font-family=\"Times,serif\" font-size=\"14.00\" fill=\"#000000\">yes, missing</text>\n</g>\n<!-- 4 -->\n<g id=\"node5\" class=\"node\">\n<title>4</title>\n<ellipse fill=\"none\" stroke=\"#000000\" cx=\"582.3922\" cy=\"-105\" rx=\"85.2851\" ry=\"18\"/>\n<text text-anchor=\"middle\" x=\"582.3922\" y=\"-101.3\" font-family=\"Times,serif\" font-size=\"14.00\" fill=\"#000000\">f15&lt;0.0100916028</text>\n</g>\n<!-- 1&#45;&gt;4 -->\n<g id=\"edge4\" class=\"edge\">\n<title>1&#45;&gt;4</title>\n<path fill=\"none\" stroke=\"#ff0000\" d=\"M582.3922,-173.9735C582.3922,-162.1918 582.3922,-146.5607 582.3922,-133.1581\"/>\n<polygon fill=\"#ff0000\" stroke=\"#ff0000\" points=\"585.8923,-133.0033 582.3922,-123.0034 578.8923,-133.0034 585.8923,-133.0033\"/>\n<text text-anchor=\"middle\" x=\"590.3922\" y=\"-144.8\" font-family=\"Times,serif\" font-size=\"14.00\" fill=\"#000000\">no</text>\n</g>\n<!-- 5 -->\n<g id=\"node10\" class=\"node\">\n<title>5</title>\n<ellipse fill=\"none\" stroke=\"#000000\" cx=\"844.3922\" cy=\"-105\" rx=\"89.8845\" ry=\"18\"/>\n<text text-anchor=\"middle\" x=\"844.3922\" y=\"-101.3\" font-family=\"Times,serif\" font-size=\"14.00\" fill=\"#000000\">f15&lt;0.00869471207</text>\n</g>\n<!-- 2&#45;&gt;5 -->\n<g id=\"edge9\" class=\"edge\">\n<title>2&#45;&gt;5</title>\n<path fill=\"none\" stroke=\"#0000ff\" d=\"M844.3922,-173.9735C844.3922,-162.1918 844.3922,-146.5607 844.3922,-133.1581\"/>\n<polygon fill=\"#0000ff\" stroke=\"#0000ff\" points=\"847.8923,-133.0033 844.3922,-123.0034 840.8923,-133.0034 847.8923,-133.0033\"/>\n<text text-anchor=\"middle\" x=\"879.8922\" y=\"-144.8\" font-family=\"Times,serif\" font-size=\"14.00\" fill=\"#000000\">yes, missing</text>\n</g>\n<!-- 6 -->\n<g id=\"node11\" class=\"node\">\n<title>6</title>\n<ellipse fill=\"none\" stroke=\"#000000\" cx=\"1040.3922\" cy=\"-105\" rx=\"88.2844\" ry=\"18\"/>\n<text text-anchor=\"middle\" x=\"1040.3922\" y=\"-101.3\" font-family=\"Times,serif\" font-size=\"14.00\" fill=\"#000000\">leaf=&#45;0.0996842906</text>\n</g>\n<!-- 2&#45;&gt;6 -->\n<g id=\"edge10\" class=\"edge\">\n<title>2&#45;&gt;6</title>\n<path fill=\"none\" stroke=\"#ff0000\" d=\"M880.3416,-176.0429C912.2631,-161.8736 959.1058,-141.0812 993.8748,-125.648\"/>\n<polygon fill=\"#ff0000\" stroke=\"#ff0000\" points=\"995.6188,-128.7033 1003.3389,-121.4471 992.7788,-122.3052 995.6188,-128.7033\"/>\n<text text-anchor=\"middle\" x=\"962.3922\" y=\"-144.8\" font-family=\"Times,serif\" font-size=\"14.00\" fill=\"#000000\">no</text>\n</g>\n<!-- 7 -->\n<g id=\"node6\" class=\"node\">\n<title>7</title>\n<ellipse fill=\"none\" stroke=\"#000000\" cx=\"88.3922\" cy=\"-18\" rx=\"88.2844\" ry=\"18\"/>\n<text text-anchor=\"middle\" x=\"88.3922\" y=\"-14.3\" font-family=\"Times,serif\" font-size=\"14.00\" fill=\"#000000\">leaf=&#45;0.0456410274</text>\n</g>\n<!-- 3&#45;&gt;7 -->\n<g id=\"edge5\" class=\"edge\">\n<title>3&#45;&gt;7</title>\n<path fill=\"none\" stroke=\"#0000ff\" d=\"M245.9022,-88.636C214.2991,-74.4634 168.428,-53.8924 134.331,-38.6014\"/>\n<polygon fill=\"#0000ff\" stroke=\"#0000ff\" points=\"135.6044,-35.3367 125.0477,-34.4383 132.74,-41.7239 135.6044,-35.3367\"/>\n<text text-anchor=\"middle\" x=\"232.8922\" y=\"-57.8\" font-family=\"Times,serif\" font-size=\"14.00\" fill=\"#000000\">yes, missing</text>\n</g>\n<!-- 8 -->\n<g id=\"node7\" class=\"node\">\n<title>8</title>\n<ellipse fill=\"none\" stroke=\"#000000\" cx=\"282.3922\" cy=\"-18\" rx=\"87.9851\" ry=\"18\"/>\n<text text-anchor=\"middle\" x=\"282.3922\" y=\"-14.3\" font-family=\"Times,serif\" font-size=\"14.00\" fill=\"#000000\">leaf=&#45;0.0982832611</text>\n</g>\n<!-- 3&#45;&gt;8 -->\n<g id=\"edge6\" class=\"edge\">\n<title>3&#45;&gt;8</title>\n<path fill=\"none\" stroke=\"#ff0000\" d=\"M282.3922,-86.9735C282.3922,-75.1918 282.3922,-59.5607 282.3922,-46.1581\"/>\n<polygon fill=\"#ff0000\" stroke=\"#ff0000\" points=\"285.8923,-46.0033 282.3922,-36.0034 278.8923,-46.0034 285.8923,-46.0033\"/>\n<text text-anchor=\"middle\" x=\"290.3922\" y=\"-57.8\" font-family=\"Times,serif\" font-size=\"14.00\" fill=\"#000000\">no</text>\n</g>\n<!-- 9 -->\n<g id=\"node8\" class=\"node\">\n<title>9</title>\n<ellipse fill=\"none\" stroke=\"#000000\" cx=\"468.3922\" cy=\"-18\" rx=\"80.6858\" ry=\"18\"/>\n<text text-anchor=\"middle\" x=\"468.3922\" y=\"-14.3\" font-family=\"Times,serif\" font-size=\"14.00\" fill=\"#000000\">leaf=0.097674422</text>\n</g>\n<!-- 4&#45;&gt;9 -->\n<g id=\"edge7\" class=\"edge\">\n<title>4&#45;&gt;9</title>\n<path fill=\"none\" stroke=\"#0000ff\" d=\"M559.5965,-87.6033C542.2767,-74.3856 518.2708,-56.0653 499.2349,-41.5379\"/>\n<polygon fill=\"#0000ff\" stroke=\"#0000ff\" points=\"501.2212,-38.6509 491.1483,-35.3665 496.9744,-44.2156 501.2212,-38.6509\"/>\n<text text-anchor=\"middle\" x=\"567.8922\" y=\"-57.8\" font-family=\"Times,serif\" font-size=\"14.00\" fill=\"#000000\">yes, missing</text>\n</g>\n<!-- 10 -->\n<g id=\"node9\" class=\"node\">\n<title>10</title>\n<ellipse fill=\"none\" stroke=\"#000000\" cx=\"652.3922\" cy=\"-18\" rx=\"85.2851\" ry=\"18\"/>\n<text text-anchor=\"middle\" x=\"652.3922\" y=\"-14.3\" font-family=\"Times,serif\" font-size=\"14.00\" fill=\"#000000\">leaf=0.0250000004</text>\n</g>\n<!-- 4&#45;&gt;10 -->\n<g id=\"edge8\" class=\"edge\">\n<title>4&#45;&gt;10</title>\n<path fill=\"none\" stroke=\"#ff0000\" d=\"M596.8962,-86.9735C606.8451,-74.6085 620.2054,-58.0036 631.324,-44.1847\"/>\n<polygon fill=\"#ff0000\" stroke=\"#ff0000\" points=\"634.3648,-45.9886 637.9067,-36.0034 628.911,-41.6005 634.3648,-45.9886\"/>\n<text text-anchor=\"middle\" x=\"630.3922\" y=\"-57.8\" font-family=\"Times,serif\" font-size=\"14.00\" fill=\"#000000\">no</text>\n</g>\n<!-- 11 -->\n<g id=\"node12\" class=\"node\">\n<title>11</title>\n<ellipse fill=\"none\" stroke=\"#000000\" cx=\"844.3922\" cy=\"-18\" rx=\"88.2844\" ry=\"18\"/>\n<text text-anchor=\"middle\" x=\"844.3922\" y=\"-14.3\" font-family=\"Times,serif\" font-size=\"14.00\" fill=\"#000000\">leaf=&#45;0.0988439322</text>\n</g>\n<!-- 5&#45;&gt;11 -->\n<g id=\"edge11\" class=\"edge\">\n<title>5&#45;&gt;11</title>\n<path fill=\"none\" stroke=\"#0000ff\" d=\"M844.3922,-86.9735C844.3922,-75.1918 844.3922,-59.5607 844.3922,-46.1581\"/>\n<polygon fill=\"#0000ff\" stroke=\"#0000ff\" points=\"847.8923,-46.0033 844.3922,-36.0034 840.8923,-46.0034 847.8923,-46.0033\"/>\n<text text-anchor=\"middle\" x=\"879.8922\" y=\"-57.8\" font-family=\"Times,serif\" font-size=\"14.00\" fill=\"#000000\">yes, missing</text>\n</g>\n<!-- 12 -->\n<g id=\"node13\" class=\"node\">\n<title>12</title>\n<ellipse fill=\"none\" stroke=\"#000000\" cx=\"1036.3922\" cy=\"-18\" rx=\"85.2851\" ry=\"18\"/>\n<text text-anchor=\"middle\" x=\"1036.3922\" y=\"-14.3\" font-family=\"Times,serif\" font-size=\"14.00\" fill=\"#000000\">leaf=0.0493975915</text>\n</g>\n<!-- 5&#45;&gt;12 -->\n<g id=\"edge12\" class=\"edge\">\n<title>5&#45;&gt;12</title>\n<path fill=\"none\" stroke=\"#ff0000\" d=\"M880.9578,-88.4312C912.2854,-74.2359 957.5344,-53.7324 991.1397,-38.505\"/>\n<polygon fill=\"#ff0000\" stroke=\"#ff0000\" points=\"992.6241,-41.675 1000.2881,-34.3596 989.735,-35.299 992.6241,-41.675\"/>\n<text text-anchor=\"middle\" x=\"960.3922\" y=\"-57.8\" font-family=\"Times,serif\" font-size=\"14.00\" fill=\"#000000\">no</text>\n</g>\n</g>\n</svg>\n"
          },
          "metadata": {},
          "execution_count": 230
        }
      ]
    },
    {
      "cell_type": "code",
      "source": [
        "train_x.iloc[: , 20:21]\n",
        "train_x.iloc[: , 33:34]"
      ],
      "metadata": {
        "colab": {
          "base_uri": "https://localhost:8080/",
          "height": 433
        },
        "id": "-xDMcmDtNRU_",
        "outputId": "6f8fade5-3c28-4568-8c26-24a545097a98"
      },
      "execution_count": null,
      "outputs": [
        {
          "output_type": "execute_result",
          "data": {
            "text/plain": [
              "        General_Record_Type\n",
              "20753                     2\n",
              "54464                     2\n",
              "64488                     1\n",
              "280562                    1\n",
              "166495                    2\n",
              "...                     ...\n",
              "678                       1\n",
              "43                        1\n",
              "668                       1\n",
              "663                       2\n",
              "504                       1\n",
              "\n",
              "[2542 rows x 1 columns]"
            ],
            "text/html": [
              "\n",
              "  <div id=\"df-299fe788-ae5f-4ffc-8d2a-0e69cc8abbdd\">\n",
              "    <div class=\"colab-df-container\">\n",
              "      <div>\n",
              "<style scoped>\n",
              "    .dataframe tbody tr th:only-of-type {\n",
              "        vertical-align: middle;\n",
              "    }\n",
              "\n",
              "    .dataframe tbody tr th {\n",
              "        vertical-align: top;\n",
              "    }\n",
              "\n",
              "    .dataframe thead th {\n",
              "        text-align: right;\n",
              "    }\n",
              "</style>\n",
              "<table border=\"1\" class=\"dataframe\">\n",
              "  <thead>\n",
              "    <tr style=\"text-align: right;\">\n",
              "      <th></th>\n",
              "      <th>General_Record_Type</th>\n",
              "    </tr>\n",
              "  </thead>\n",
              "  <tbody>\n",
              "    <tr>\n",
              "      <th>20753</th>\n",
              "      <td>2</td>\n",
              "    </tr>\n",
              "    <tr>\n",
              "      <th>54464</th>\n",
              "      <td>2</td>\n",
              "    </tr>\n",
              "    <tr>\n",
              "      <th>64488</th>\n",
              "      <td>1</td>\n",
              "    </tr>\n",
              "    <tr>\n",
              "      <th>280562</th>\n",
              "      <td>1</td>\n",
              "    </tr>\n",
              "    <tr>\n",
              "      <th>166495</th>\n",
              "      <td>2</td>\n",
              "    </tr>\n",
              "    <tr>\n",
              "      <th>...</th>\n",
              "      <td>...</td>\n",
              "    </tr>\n",
              "    <tr>\n",
              "      <th>678</th>\n",
              "      <td>1</td>\n",
              "    </tr>\n",
              "    <tr>\n",
              "      <th>43</th>\n",
              "      <td>1</td>\n",
              "    </tr>\n",
              "    <tr>\n",
              "      <th>668</th>\n",
              "      <td>1</td>\n",
              "    </tr>\n",
              "    <tr>\n",
              "      <th>663</th>\n",
              "      <td>2</td>\n",
              "    </tr>\n",
              "    <tr>\n",
              "      <th>504</th>\n",
              "      <td>1</td>\n",
              "    </tr>\n",
              "  </tbody>\n",
              "</table>\n",
              "<p>2542 rows × 1 columns</p>\n",
              "</div>\n",
              "      <button class=\"colab-df-convert\" onclick=\"convertToInteractive('df-299fe788-ae5f-4ffc-8d2a-0e69cc8abbdd')\"\n",
              "              title=\"Convert this dataframe to an interactive table.\"\n",
              "              style=\"display:none;\">\n",
              "        \n",
              "  <svg xmlns=\"http://www.w3.org/2000/svg\" height=\"24px\"viewBox=\"0 0 24 24\"\n",
              "       width=\"24px\">\n",
              "    <path d=\"M0 0h24v24H0V0z\" fill=\"none\"/>\n",
              "    <path d=\"M18.56 5.44l.94 2.06.94-2.06 2.06-.94-2.06-.94-.94-2.06-.94 2.06-2.06.94zm-11 1L8.5 8.5l.94-2.06 2.06-.94-2.06-.94L8.5 2.5l-.94 2.06-2.06.94zm10 10l.94 2.06.94-2.06 2.06-.94-2.06-.94-.94-2.06-.94 2.06-2.06.94z\"/><path d=\"M17.41 7.96l-1.37-1.37c-.4-.4-.92-.59-1.43-.59-.52 0-1.04.2-1.43.59L10.3 9.45l-7.72 7.72c-.78.78-.78 2.05 0 2.83L4 21.41c.39.39.9.59 1.41.59.51 0 1.02-.2 1.41-.59l7.78-7.78 2.81-2.81c.8-.78.8-2.07 0-2.86zM5.41 20L4 18.59l7.72-7.72 1.47 1.35L5.41 20z\"/>\n",
              "  </svg>\n",
              "      </button>\n",
              "      \n",
              "  <style>\n",
              "    .colab-df-container {\n",
              "      display:flex;\n",
              "      flex-wrap:wrap;\n",
              "      gap: 12px;\n",
              "    }\n",
              "\n",
              "    .colab-df-convert {\n",
              "      background-color: #E8F0FE;\n",
              "      border: none;\n",
              "      border-radius: 50%;\n",
              "      cursor: pointer;\n",
              "      display: none;\n",
              "      fill: #1967D2;\n",
              "      height: 32px;\n",
              "      padding: 0 0 0 0;\n",
              "      width: 32px;\n",
              "    }\n",
              "\n",
              "    .colab-df-convert:hover {\n",
              "      background-color: #E2EBFA;\n",
              "      box-shadow: 0px 1px 2px rgba(60, 64, 67, 0.3), 0px 1px 3px 1px rgba(60, 64, 67, 0.15);\n",
              "      fill: #174EA6;\n",
              "    }\n",
              "\n",
              "    [theme=dark] .colab-df-convert {\n",
              "      background-color: #3B4455;\n",
              "      fill: #D2E3FC;\n",
              "    }\n",
              "\n",
              "    [theme=dark] .colab-df-convert:hover {\n",
              "      background-color: #434B5C;\n",
              "      box-shadow: 0px 1px 3px 1px rgba(0, 0, 0, 0.15);\n",
              "      filter: drop-shadow(0px 1px 2px rgba(0, 0, 0, 0.3));\n",
              "      fill: #FFFFFF;\n",
              "    }\n",
              "  </style>\n",
              "\n",
              "      <script>\n",
              "        const buttonEl =\n",
              "          document.querySelector('#df-299fe788-ae5f-4ffc-8d2a-0e69cc8abbdd button.colab-df-convert');\n",
              "        buttonEl.style.display =\n",
              "          google.colab.kernel.accessAllowed ? 'block' : 'none';\n",
              "\n",
              "        async function convertToInteractive(key) {\n",
              "          const element = document.querySelector('#df-299fe788-ae5f-4ffc-8d2a-0e69cc8abbdd');\n",
              "          const dataTable =\n",
              "            await google.colab.kernel.invokeFunction('convertToInteractive',\n",
              "                                                     [key], {});\n",
              "          if (!dataTable) return;\n",
              "\n",
              "          const docLinkHtml = 'Like what you see? Visit the ' +\n",
              "            '<a target=\"_blank\" href=https://colab.research.google.com/notebooks/data_table.ipynb>data table notebook</a>'\n",
              "            + ' to learn more about interactive tables.';\n",
              "          element.innerHTML = '';\n",
              "          dataTable['output_type'] = 'display_data';\n",
              "          await google.colab.output.renderOutput(dataTable, element);\n",
              "          const docLink = document.createElement('div');\n",
              "          docLink.innerHTML = docLinkHtml;\n",
              "          element.appendChild(docLink);\n",
              "        }\n",
              "      </script>\n",
              "    </div>\n",
              "  </div>\n",
              "  "
            ]
          },
          "metadata": {},
          "execution_count": 237
        }
      ]
    }
  ]
}