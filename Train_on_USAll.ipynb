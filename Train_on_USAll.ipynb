{
  "nbformat": 4,
  "nbformat_minor": 0,
  "metadata": {
    "colab": {
      "provenance": [],
      "machine_shape": "hm",
      "collapsed_sections": [
        "--Y5d9cKEVxu",
        "U-lpgW0pvXgq",
        "KVB4kkalEr62",
        "4_yVpxVjFE9q",
        "nIm-yI9JFsVX",
        "gUeqLY1cF6c5",
        "T1gI-Djh9zlD",
        "RAx7Fem_91gi",
        "222Y0xuy109R"
      ],
      "mount_file_id": "1IPcdY4wBNOLLJ272ur5y4hlj3lOL39Qs",
      "authorship_tag": "ABX9TyNBMzGtUP1YFzDOlb4hDAp6",
      "include_colab_link": true
    },
    "kernelspec": {
      "name": "python3",
      "display_name": "Python 3"
    },
    "language_info": {
      "name": "python"
    },
    "accelerator": "TPU",
    "gpuClass": "premium"
  },
  "cells": [
    {
      "cell_type": "markdown",
      "metadata": {
        "id": "view-in-github",
        "colab_type": "text"
      },
      "source": [
        "<a href=\"https://colab.research.google.com/github/ChengAng2001/archivedjupyternotebooks/blob/main/Train_on_USAll.ipynb\" target=\"_parent\"><img src=\"https://colab.research.google.com/assets/colab-badge.svg\" alt=\"Open In Colab\"/></a>"
      ]
    },
    {
      "cell_type": "markdown",
      "source": [
        "# Import and Read Data"
      ],
      "metadata": {
        "id": "--Y5d9cKEVxu"
      }
    },
    {
      "cell_type": "code",
      "source": [
        "import numpy as np\n",
        "import pandas as pd\n",
        "import xgboost as xgb\n",
        "from xgboost import XGBClassifier\n",
        "import sys \n",
        "import os\n",
        "import time\n",
        "from copy import deepcopy\n",
        "from matplotlib.pyplot import figure\n",
        "import matplotlib.pyplot as plt\n",
        "import sklearn\n",
        "from sklearn import metrics\n",
        "from sklearn.metrics import roc_curve, auc\n",
        "from sklearn import model_selection\n",
        "from sklearn.metrics.pairwise import normalize\n",
        "from sklearn.metrics import confusion_matrix\n",
        "from sklearn.metrics import plot_confusion_matrix\n",
        "from sklearn.metrics import precision_score\n",
        "from sklearn.metrics import recall_score\n",
        "from sklearn.model_selection import train_test_split\n",
        "from sklearn.inspection import plot_partial_dependence\n",
        "import seaborn as sns"
      ],
      "metadata": {
        "id": "OEy9ZaIJi7pP"
      },
      "execution_count": 3,
      "outputs": []
    },
    {
      "cell_type": "code",
      "source": [
        "from google.colab import drive\n",
        "drive.mount('/content/drive')"
      ],
      "metadata": {
        "id": "fKxMQVYrjttT",
        "colab": {
          "base_uri": "https://localhost:8080/"
        },
        "outputId": "ed5afa1d-092b-46ae-b0fb-784df406214d"
      },
      "execution_count": 4,
      "outputs": [
        {
          "output_type": "stream",
          "name": "stdout",
          "text": [
            "Mounted at /content/drive\n"
          ]
        }
      ]
    },
    {
      "cell_type": "code",
      "source": [
        "original_data = pd.read_csv('/content/drive/MyDrive/FairML/US/Data/original_data.csv',dtype=object)"
      ],
      "metadata": {
        "id": "gfgVkV1qtQKJ"
      },
      "execution_count": 5,
      "outputs": []
    },
    {
      "cell_type": "code",
      "source": [
        "original_no_overdose_data = pd.read_csv('/content/drive/MyDrive/FairML/US/Data/original_no_overdose_data.csv',dtype=object)"
      ],
      "metadata": {
        "id": "oCuzfQMlKj45"
      },
      "execution_count": 6,
      "outputs": []
    },
    {
      "cell_type": "code",
      "source": [
        "original_overdose_data = pd.read_csv('/content/drive/MyDrive/FairML/US/Data/original_overdose_data.csv',dtype=object)"
      ],
      "metadata": {
        "id": "YSgRivMKKqXU"
      },
      "execution_count": 7,
      "outputs": []
    },
    {
      "cell_type": "code",
      "source": [
        "category_features = [x for x in original_data.columns if original_data[x].dtype != float]\n",
        "category_features"
      ],
      "metadata": {
        "colab": {
          "base_uri": "https://localhost:8080/"
        },
        "id": "RZFdKik8ippC",
        "outputId": "f1d2a9f2-8caf-4679-94a0-4ab6846230af"
      },
      "execution_count": 8,
      "outputs": [
        {
          "output_type": "execute_result",
          "data": {
            "text/plain": [
              "['General_Record_Type',\n",
              " 'General_Resident_status',\n",
              " 'General_Place_of_death_and_decedents_status',\n",
              " 'General_Day_of_week_of_death',\n",
              " 'General_Data_year',\n",
              " 'General_Manner_of_death',\n",
              " 'Occurrence_State(FIPS)',\n",
              " 'Occurrence_County(FIPS)',\n",
              " 'Occurrence_County_Population_size',\n",
              " 'Residence_State(FIPS)',\n",
              " 'Residence_County(FIPS)',\n",
              " 'Residence_Met_or_Nonmet_county',\n",
              " 'The_Decedent_Date_of_Death',\n",
              " 'The_Decedent_Sex',\n",
              " 'The_Decedent_Age',\n",
              " 'The_Decedent_Marital_status',\n",
              " 'The_Decedent_State_or_country_of_birth',\n",
              " 'The_Decedent_Education',\n",
              " 'Underlying_Cause_ICD-10_code',\n",
              " 'The_Decedent_Race_Recode_5',\n",
              " 'The_Decedent_Hispanic_Origin/Race_Recode',\n",
              " 'The_Decedent_Race']"
            ]
          },
          "metadata": {},
          "execution_count": 8
        }
      ]
    },
    {
      "cell_type": "code",
      "source": [
        "original_data[\"General_Data_year\"].value_counts()"
      ],
      "metadata": {
        "colab": {
          "base_uri": "https://localhost:8080/"
        },
        "id": "kyId0OiBuoPU",
        "outputId": "ae9f8160-98cb-4757-f255-672780dcb239"
      },
      "execution_count": 9,
      "outputs": [
        {
          "output_type": "execute_result",
          "data": {
            "text/plain": [
              "2019    2833007\n",
              "2018    2817121\n",
              "2017    2789825\n",
              "2016    2718635\n",
              "2015    2686900\n",
              "2014    2600327\n",
              "2013    2570146\n",
              "2012    2516220\n",
              "2011    2487774\n",
              "2010    2439904\n",
              "Name: General_Data_year, dtype: int64"
            ]
          },
          "metadata": {},
          "execution_count": 9
        }
      ]
    },
    {
      "cell_type": "code",
      "source": [
        "len(original_data[\"General_Data_year\"])"
      ],
      "metadata": {
        "colab": {
          "base_uri": "https://localhost:8080/"
        },
        "id": "9cqSzwPQzd7S",
        "outputId": "49d55906-7b68-41f0-ac2c-445167114aa5"
      },
      "execution_count": 10,
      "outputs": [
        {
          "output_type": "execute_result",
          "data": {
            "text/plain": [
              "26459859"
            ]
          },
          "metadata": {},
          "execution_count": 10
        }
      ]
    },
    {
      "cell_type": "code",
      "source": [
        "len(original_overdose_data[\"General_Data_year\"])"
      ],
      "metadata": {
        "colab": {
          "base_uri": "https://localhost:8080/"
        },
        "id": "K-V7xKMWK9X1",
        "outputId": "8ccc185e-fec3-4809-fef4-67771828f2c2"
      },
      "execution_count": 11,
      "outputs": [
        {
          "output_type": "execute_result",
          "data": {
            "text/plain": [
              "537993"
            ]
          },
          "metadata": {},
          "execution_count": 11
        }
      ]
    },
    {
      "cell_type": "markdown",
      "source": [
        "# Split Data to train, valitaion, and test"
      ],
      "metadata": {
        "id": "4_yVpxVjFE9q"
      }
    },
    {
      "cell_type": "code",
      "source": [
        "def data_split(data_set):\n",
        "  #x, validation = model_selection.train_test_split(data_set, test_size=0.2)\n",
        "  train, test = model_selection.train_test_split(data_set, test_size=0.3)\n",
        "  return train, test"
      ],
      "metadata": {
        "id": "LwzdObJny2ZX"
      },
      "execution_count": 12,
      "outputs": []
    },
    {
      "cell_type": "code",
      "source": [
        "train_unbalanced_class_0, validation_unbalanced_class_0, test_unbalanced_class_0 = data_split(original_no_overdose_data)\n",
        "train_unbalanced_class_1, validation_unbalanced_class_1, test_unbalanced_class_1 = data_split(original_overdose_data)\n",
        "\n",
        "train_unbalanced_class_0.insert(0, \"y_value\", pd.DataFrame(np.zeros(len(train_unbalanced_class_0),dtype=int)))\n",
        "validation_unbalanced_class_0.insert(0, \"y_value\", pd.DataFrame(np.zeros(len(validation_unbalanced_class_0),dtype=int)))\n",
        "test_unbalanced_class_0.insert(0, \"y_value\", pd.DataFrame(np.zeros(len(test_unbalanced_class_0),dtype=int)))\n",
        "train_unbalanced_class_1.insert(0, \"y_value\", pd.DataFrame(np.ones(len(train_unbalanced_class_1),dtype=int)))\n",
        "validation_unbalanced_class_1.insert(0, \"y_value\", pd.DataFrame(np.ones(len(validation_unbalanced_class_1),dtype=int)))\n",
        "test_unbalanced_class_1.insert(0, \"y_value\", pd.DataFrame(np.ones(len(test_unbalanced_class_1),dtype=int)))"
      ],
      "metadata": {
        "id": "FJOKlMoBw0TV"
      },
      "execution_count": null,
      "outputs": []
    },
    {
      "cell_type": "code",
      "source": [
        "train_unbalanced_class_0=train_unbalanced_class_0.sample(len(train_unbalanced_class_1))\n",
        "validation_unbalanced_class_0=validation_unbalanced_class_0.sample(len(validation_unbalanced_class_1))\n",
        "test_unbalanced_class_0=test_unbalanced_class_0.sample(len(test_unbalanced_class_1))\n",
        "train_unbalanced_class_1=train_unbalanced_class_1.sample(len(train_unbalanced_class_1))\n",
        "validation_unbalanced_class_1=validation_unbalanced_class_1.sample(len(validation_unbalanced_class_1))\n",
        "test_unbalanced_class_1=test_unbalanced_class_1.sample(len(test_unbalanced_class_1))"
      ],
      "metadata": {
        "id": "OQ_mz9u1YyXA"
      },
      "execution_count": null,
      "outputs": []
    },
    {
      "cell_type": "code",
      "source": [
        "train_before_sample=pd.concat([train_unbalanced_class_0,train_unbalanced_class_1])\n",
        "validaton_before_sample=pd.concat([validation_unbalanced_class_0,validation_unbalanced_class_1])\n",
        "test_before_sample=pd.concat([test_unbalanced_class_0,test_unbalanced_class_1])"
      ],
      "metadata": {
        "id": "GYJcK7uFtu4p"
      },
      "execution_count": null,
      "outputs": []
    },
    {
      "cell_type": "code",
      "source": [
        "train=train_before_sample.sample(frac=1)\n",
        "validation=validaton_before_sample.sample(frac=1)\n",
        "test=test_before_sample.sample(frac=1)"
      ],
      "metadata": {
        "id": "1S0CvBAsutaJ"
      },
      "execution_count": null,
      "outputs": []
    },
    {
      "cell_type": "code",
      "source": [
        "'''\n",
        "train_x=pd.concat([train_unbalanced_class_0_x,train_unbalanced_class_1_x])\n",
        "train_y=pd.concat([train_unbalanced_class_0_y,train_unbalanced_class_1_y])\n",
        "validation_x=pd.concat([validation_unbalanced_class_0_x,validation_unbalanced_class_1_x])\n",
        "validation_y=pd.concat([validation_unbalanced_class_0_y,validation_unbalanced_class_1_y])\n",
        "test_x=pd.concat([test_unbalanced_class_0_x,test_unbalanced_class_1_x])\n",
        "test_y=pd.concat([test_unbalanced_class_0_y,test_unbalanced_class_1_y])\n",
        "'''"
      ],
      "metadata": {
        "id": "4CYJRRfV4g3c"
      },
      "execution_count": null,
      "outputs": []
    },
    {
      "cell_type": "code",
      "source": [
        "#train.loc[train['The_Decedent_Hispanic_Origin/Race_Recode'].isin['1','2','3','4','5'], 'The_Decedent_Race_Recode_5'] = '5'"
      ],
      "metadata": {
        "id": "-IMlg6NqHeWx"
      },
      "execution_count": null,
      "outputs": []
    },
    {
      "cell_type": "code",
      "source": [
        "train_x=train.drop(columns=[\"Underlying_Cause_ICD-10_code\",\"The_Decedent_Race_Recode_5\",\"The_Decedent_Hispanic_Origin/Race_Recode\"]).sample(n=len(train))\n",
        "train_y = train_x[\"y_value\"]\n",
        "train_x=train_x.drop(columns=[\"y_value\"])\n",
        "\n",
        "validation_x=validation.drop(columns=[\"Underlying_Cause_ICD-10_code\",\"The_Decedent_Race_Recode_5\",\"The_Decedent_Hispanic_Origin/Race_Recode\"]).sample(n=len(validation))\n",
        "validation_y = validation_x[\"y_value\"]\n",
        "validation_x=validation_x.drop(columns=[\"y_value\"])\n",
        "\n",
        "test_x=test.drop(columns=[\"Underlying_Cause_ICD-10_code\",\"The_Decedent_Race_Recode_5\",\"The_Decedent_Hispanic_Origin/Race_Recode\"]).sample(n=len(test))\n",
        "test_y = test_x[\"y_value\"]\n",
        "test_x=test_x.drop(columns=[\"y_value\"])"
      ],
      "metadata": {
        "id": "SN02qVoewycd"
      },
      "execution_count": null,
      "outputs": []
    },
    {
      "cell_type": "markdown",
      "source": [
        "# Map, Hash and Normalize"
      ],
      "metadata": {
        "id": "nIm-yI9JFsVX"
      }
    },
    {
      "cell_type": "code",
      "source": [
        "category_features = [x for x in train_x.columns if train_x[x].dtype != float]\n",
        "category_features"
      ],
      "metadata": {
        "id": "YD2M3t-8PQkk"
      },
      "execution_count": null,
      "outputs": []
    },
    {
      "cell_type": "code",
      "source": [
        "len(category_features)"
      ],
      "metadata": {
        "id": "bWgcoQCHPber"
      },
      "execution_count": null,
      "outputs": []
    },
    {
      "cell_type": "code",
      "source": [
        "def get_mapfunction(x):\n",
        "    mapp = dict(zip(x.unique().tolist(),\n",
        "         range(len(x.unique().tolist()))))\n",
        "    def mapfunction(y):\n",
        "        if y in mapp:\n",
        "            return mapp[y]\n",
        "        else:\n",
        "            return -1\n",
        "    return mapfunction\n",
        "train_x_hashed=deepcopy(train_x)\n",
        "validation_x_hashed=deepcopy(validation_x)\n",
        "test_x_hashed=deepcopy(test_x)\n",
        "\n",
        "for i in category_features:\n",
        "    train_x_hashed[i] = train_x[i].apply(get_mapfunction(train_x[i]))\n",
        "    validation_x_hashed[i] = validation_x[i].apply(get_mapfunction(validation_x[i]))\n",
        "    test_x_hashed[i] = test_x[i].apply(get_mapfunction(test_x[i]))"
      ],
      "metadata": {
        "id": "kPdpcX2d60rn"
      },
      "execution_count": null,
      "outputs": []
    },
    {
      "cell_type": "code",
      "source": [
        "train_x"
      ],
      "metadata": {
        "id": "Og1nItsk95wN"
      },
      "execution_count": null,
      "outputs": []
    },
    {
      "cell_type": "code",
      "source": [
        "train_x_hashed"
      ],
      "metadata": {
        "id": "VcWQRiT098DB"
      },
      "execution_count": null,
      "outputs": []
    },
    {
      "cell_type": "code",
      "source": [
        "norm_train_x = normalize(train_x_hashed)\n",
        "norm_validation_x = normalize(validation_x_hashed)\n",
        "norm_test_x = normalize(validation_x_hashed)"
      ],
      "metadata": {
        "id": "slZE-Hzt1ZFi"
      },
      "execution_count": null,
      "outputs": []
    },
    {
      "cell_type": "code",
      "source": [
        "train_x_hashed"
      ],
      "metadata": {
        "id": "rDrF4GR-904I"
      },
      "execution_count": null,
      "outputs": []
    },
    {
      "cell_type": "code",
      "source": [
        "norm_train_x"
      ],
      "metadata": {
        "id": "zYdTW_5x9yP9"
      },
      "execution_count": null,
      "outputs": []
    },
    {
      "cell_type": "markdown",
      "source": [
        "# XGBoost"
      ],
      "metadata": {
        "id": "gUeqLY1cF6c5"
      }
    },
    {
      "cell_type": "code",
      "execution_count": null,
      "metadata": {
        "id": "BnigrCjghglG",
        "colab": {
          "base_uri": "https://localhost:8080/",
          "height": 628
        },
        "outputId": "20df240a-3f12-4851-9b42-9448cbf95654"
      },
      "outputs": [
        {
          "output_type": "stream",
          "name": "stdout",
          "text": [
            "Accuracy: 85.07%\n"
          ]
        },
        {
          "output_type": "stream",
          "name": "stderr",
          "text": [
            "/usr/local/lib/python3.8/dist-packages/sklearn/utils/deprecation.py:87: FutureWarning: Function plot_confusion_matrix is deprecated; Function `plot_confusion_matrix` is deprecated in 1.0 and will be removed in 1.2. Use one of the class methods: ConfusionMatrixDisplay.from_predictions or ConfusionMatrixDisplay.from_estimator.\n",
            "  warnings.warn(msg, category=FutureWarning)\n"
          ]
        },
        {
          "output_type": "display_data",
          "data": {
            "text/plain": [
              "<Figure size 432x288 with 2 Axes>"
            ],
            "image/png": "[encoded data removed]"
          },
          "metadata": {
            "needs_background": "light"
          }
        },
        {
          "output_type": "display_data",
          "data": {
            "text/plain": [
              "<Figure size 432x288 with 1 Axes>"
            ],
            "image/png": "[encoded data removed]"
          },
          "metadata": {
            "needs_background": "light"
          }
        }
      ],
      "source": [
        "xgb_model = xgb.XGBClassifier(objective=\"binary:logistic\", colsample_bytree=0.4, gamma=0.4, learning_rate=0.05, max_depth=3, min_child_weight=2, random_state=30)\n",
        "\n",
        "xgb_model.fit(train_x_hashed, train_y)\n",
        "\n",
        "# make predictions for test data\n",
        "y_pred = xgb_model.predict(validation_x_hashed)\n",
        "predictions = [round(value) for value in y_pred]\n",
        "\n",
        "accuracy = metrics.accuracy_score(validation_y, predictions)\n",
        "print(\"Accuracy: %.2f%%\" % (accuracy * 100.0))\n",
        "\n",
        "color = 'black'\n",
        "matrix = plot_confusion_matrix(xgb_model, validation_x_hashed, validation_y, cmap=plt.cm.Blues)\n",
        "matrix.ax_.set_title('Confusion Matrix', color=color)\n",
        "plt.xlabel('Predicted Label', color=color)\n",
        "plt.ylabel('True Label', color=color)\n",
        "plt.gcf().axes[0].tick_params(colors=color)\n",
        "plt.gcf().axes[1].tick_params(colors=color)\n",
        "plt.show()\n",
        "\n",
        "\n",
        "\n",
        "fpr = dict()\n",
        "tpr = dict()\n",
        "roc_auc = dict()\n",
        "lw = 2\n",
        "fpr, tpr, thresholds = roc_curve(validation_y, y_pred)\n",
        "roc_auc = auc(fpr, tpr)\n",
        "plt.plot(fpr, tpr, 'k--', label = 'ROC(area = {0:2f})'.format(roc_auc), lw=2)\n",
        "plt.xlim([-0.05, 1.05])\n",
        "plt.ylim([-0.05, 1.05])\n",
        "plt.xlabel('FPR')\n",
        "plt.ylabel('TPR')\n",
        "plt.legend(loc = 'lower right')\n",
        "plt.show()"
      ]
    },
    {
      "cell_type": "code",
      "source": [
        "print(\"precision_score\")\n",
        "print(precision_score(validation_y, y_pred, average='macro'))\n",
        "print(\"recall_score\")\n",
        "print(recall_score(validation_y, y_pred, average='macro'))\n",
        "\n",
        "\n",
        "\n",
        "figure(figsize=(6, 6), dpi=80)\n",
        "\n",
        "features = [f\"feature {i}\" for i in range(train_x_hashed.shape[1])]\n",
        "importances = xgb_model.feature_importances_\n",
        "indices = np.argsort(importances)\n",
        "\n",
        "plt.title('Feature Importances')\n",
        "plt.barh(range(len(indices)), importances[indices], color='b', align='center')\n",
        "plt.yticks(range(len(indices)), [features[i] for i in indices])\n",
        "plt.xlabel('Relative Importance')\n",
        "plt.show()\n",
        "\n",
        "\n",
        "\n",
        "xgb.to_graphviz(xgb_model)"
      ],
      "metadata": {
        "id": "ywr_BoW2SEAz",
        "colab": {
          "base_uri": "https://localhost:8080/",
          "height": 943
        },
        "outputId": "5b114177-55cd-4ebf-874e-d09d3da71a1f"
      },
      "execution_count": null,
      "outputs": [
        {
          "output_type": "stream",
          "name": "stdout",
          "text": [
            "precision_score\n",
            "0.8548141070949177\n",
            "recall_score\n",
            "0.850690991551966\n"
          ]
        },
        {
          "output_type": "display_data",
          "data": {
            "text/plain": [
              "<Figure size 480x480 with 1 Axes>"
            ],
            "image/png": "[encoded data removed]"
          },
          "metadata": {
            "needs_background": "light"
          }
        },
        {
          "output_type": "execute_result",
          "data": {
            "text/plain": [
              "<graphviz.dot.Digraph at 0x7f0616d822b0>"
            ],
            "image/svg+xml": "<?xml version=\"1.0\" encoding=\"UTF-8\" standalone=\"no\"?>\n<!DOCTYPE svg PUBLIC \"-//W3C//DTD SVG 1.1//EN\"\n \"http://www.w3.org/Graphics/SVG/1.1/DTD/svg11.dtd\">\n<!-- Generated by graphviz version 2.40.1 (20161225.0304)\n -->\n<!-- Title: %3 Pages: 1 -->\n<svg width=\"1506pt\" height=\"305pt\"\n viewBox=\"0.00 0.00 1505.99 305.00\" xmlns=\"http://www.w3.org/2000/svg\" xmlns:xlink=\"http://www.w3.org/1999/xlink\">\n<g id=\"graph0\" class=\"graph\" transform=\"scale(1 1) rotate(0) translate(4 301)\">\n<title>%3</title>\n<polygon fill=\"#ffffff\" stroke=\"transparent\" points=\"-4,4 -4,-301 1501.985,-301 1501.985,4 -4,4\"/>\n<!-- 0 -->\n<g id=\"node1\" class=\"node\">\n<title>0</title>\n<ellipse fill=\"none\" stroke=\"#000000\" cx=\"689.5928\" cy=\"-279\" rx=\"100.9827\" ry=\"18\"/>\n<text text-anchor=\"middle\" x=\"689.5928\" y=\"-275.3\" font-family=\"Times,serif\" font-size=\"14.00\" fill=\"#000000\">The_Decedent_Age&lt;23</text>\n</g>\n<!-- 1 -->\n<g id=\"node2\" class=\"node\">\n<title>1</title>\n<ellipse fill=\"none\" stroke=\"#000000\" cx=\"517.5928\" cy=\"-192\" rx=\"100.9827\" ry=\"18\"/>\n<text text-anchor=\"middle\" x=\"517.5928\" y=\"-188.3\" font-family=\"Times,serif\" font-size=\"14.00\" fill=\"#000000\">The_Decedent_Age&lt;18</text>\n</g>\n<!-- 0&#45;&gt;1 -->\n<g id=\"edge1\" class=\"edge\">\n<title>0&#45;&gt;1</title>\n<path fill=\"none\" stroke=\"#0000ff\" d=\"M656.0212,-262.019C628.7622,-248.231 590.1395,-228.6951 560.6139,-213.7607\"/>\n<polygon fill=\"#0000ff\" stroke=\"#0000ff\" points=\"561.8765,-210.4771 551.3733,-209.0866 558.717,-216.7235 561.8765,-210.4771\"/>\n<text text-anchor=\"middle\" x=\"650.0928\" y=\"-231.8\" font-family=\"Times,serif\" font-size=\"14.00\" fill=\"#000000\">yes, missing</text>\n</g>\n<!-- 2 -->\n<g id=\"node3\" class=\"node\">\n<title>2</title>\n<ellipse fill=\"none\" stroke=\"#000000\" cx=\"903.5928\" cy=\"-192\" rx=\"100.9827\" ry=\"18\"/>\n<text text-anchor=\"middle\" x=\"903.5928\" y=\"-188.3\" font-family=\"Times,serif\" font-size=\"14.00\" fill=\"#000000\">The_Decedent_Age&lt;45</text>\n</g>\n<!-- 0&#45;&gt;2 -->\n<g id=\"edge2\" class=\"edge\">\n<title>0&#45;&gt;2</title>\n<path fill=\"none\" stroke=\"#ff0000\" d=\"M730.3483,-262.4312C765.3034,-248.2205 815.8088,-227.6879 853.2771,-212.4555\"/>\n<polygon fill=\"#ff0000\" stroke=\"#ff0000\" points=\"855.0435,-215.5156 862.9891,-208.5071 852.4072,-209.031 855.0435,-215.5156\"/>\n<text text-anchor=\"middle\" x=\"817.5928\" y=\"-231.8\" font-family=\"Times,serif\" font-size=\"14.00\" fill=\"#000000\">no</text>\n</g>\n<!-- 3 -->\n<g id=\"node4\" class=\"node\">\n<title>3</title>\n<ellipse fill=\"none\" stroke=\"#000000\" cx=\"267.5928\" cy=\"-105\" rx=\"100.9827\" ry=\"18\"/>\n<text text-anchor=\"middle\" x=\"267.5928\" y=\"-101.3\" font-family=\"Times,serif\" font-size=\"14.00\" fill=\"#000000\">The_Decedent_Age&lt;17</text>\n</g>\n<!-- 1&#45;&gt;3 -->\n<g id=\"edge3\" class=\"edge\">\n<title>1&#45;&gt;3</title>\n<path fill=\"none\" stroke=\"#0000ff\" d=\"M471.4477,-175.9415C429.6493,-161.3956 367.9684,-139.9307 323.4094,-124.4241\"/>\n<polygon fill=\"#0000ff\" stroke=\"#0000ff\" points=\"324.4868,-121.0933 313.8919,-121.1121 322.186,-127.7044 324.4868,-121.0933\"/>\n<text text-anchor=\"middle\" x=\"443.0928\" y=\"-144.8\" font-family=\"Times,serif\" font-size=\"14.00\" fill=\"#000000\">yes, missing</text>\n</g>\n<!-- 4 -->\n<g id=\"node5\" class=\"node\">\n<title>4</title>\n<ellipse fill=\"none\" stroke=\"#000000\" cx=\"517.5928\" cy=\"-105\" rx=\"100.9827\" ry=\"18\"/>\n<text text-anchor=\"middle\" x=\"517.5928\" y=\"-101.3\" font-family=\"Times,serif\" font-size=\"14.00\" fill=\"#000000\">The_Decedent_Age&lt;19</text>\n</g>\n<!-- 1&#45;&gt;4 -->\n<g id=\"edge4\" class=\"edge\">\n<title>1&#45;&gt;4</title>\n<path fill=\"none\" stroke=\"#ff0000\" d=\"M517.5928,-173.9735C517.5928,-162.1918 517.5928,-146.5607 517.5928,-133.1581\"/>\n<polygon fill=\"#ff0000\" stroke=\"#ff0000\" points=\"521.0929,-133.0033 517.5928,-123.0034 514.0929,-133.0034 521.0929,-133.0033\"/>\n<text text-anchor=\"middle\" x=\"525.5928\" y=\"-144.8\" font-family=\"Times,serif\" font-size=\"14.00\" fill=\"#000000\">no</text>\n</g>\n<!-- 5 -->\n<g id=\"node10\" class=\"node\">\n<title>5</title>\n<ellipse fill=\"none\" stroke=\"#000000\" cx=\"903.5928\" cy=\"-105\" rx=\"100.9827\" ry=\"18\"/>\n<text text-anchor=\"middle\" x=\"903.5928\" y=\"-101.3\" font-family=\"Times,serif\" font-size=\"14.00\" fill=\"#000000\">The_Decedent_Age&lt;40</text>\n</g>\n<!-- 2&#45;&gt;5 -->\n<g id=\"edge9\" class=\"edge\">\n<title>2&#45;&gt;5</title>\n<path fill=\"none\" stroke=\"#0000ff\" d=\"M903.5928,-173.9735C903.5928,-162.1918 903.5928,-146.5607 903.5928,-133.1581\"/>\n<polygon fill=\"#0000ff\" stroke=\"#0000ff\" points=\"907.0929,-133.0033 903.5928,-123.0034 900.0929,-133.0034 907.0929,-133.0033\"/>\n<text text-anchor=\"middle\" x=\"939.0928\" y=\"-144.8\" font-family=\"Times,serif\" font-size=\"14.00\" fill=\"#000000\">yes, missing</text>\n</g>\n<!-- 6 -->\n<g id=\"node11\" class=\"node\">\n<title>6</title>\n<ellipse fill=\"none\" stroke=\"#000000\" cx=\"1217.5928\" cy=\"-105\" rx=\"100.9827\" ry=\"18\"/>\n<text text-anchor=\"middle\" x=\"1217.5928\" y=\"-101.3\" font-family=\"Times,serif\" font-size=\"14.00\" fill=\"#000000\">The_Decedent_Age&lt;76</text>\n</g>\n<!-- 2&#45;&gt;6 -->\n<g id=\"edge10\" class=\"edge\">\n<title>2&#45;&gt;6</title>\n<path fill=\"none\" stroke=\"#ff0000\" d=\"M958.2875,-176.8458C1012.5191,-161.8198 1095.5967,-138.8015 1153.0349,-122.8871\"/>\n<polygon fill=\"#ff0000\" stroke=\"#ff0000\" points=\"1154.0331,-126.2424 1162.7355,-120.1993 1152.164,-119.4966 1154.0331,-126.2424\"/>\n<text text-anchor=\"middle\" x=\"1087.5928\" y=\"-144.8\" font-family=\"Times,serif\" font-size=\"14.00\" fill=\"#000000\">no</text>\n</g>\n<!-- 7 -->\n<g id=\"node6\" class=\"node\">\n<title>7</title>\n<ellipse fill=\"none\" stroke=\"#000000\" cx=\"80.5928\" cy=\"-18\" rx=\"80.6858\" ry=\"18\"/>\n<text text-anchor=\"middle\" x=\"80.5928\" y=\"-14.3\" font-family=\"Times,serif\" font-size=\"14.00\" fill=\"#000000\">leaf=0.038021367</text>\n</g>\n<!-- 3&#45;&gt;7 -->\n<g id=\"edge5\" class=\"edge\">\n<title>3&#45;&gt;7</title>\n<path fill=\"none\" stroke=\"#0000ff\" d=\"M231.0934,-88.019C200.717,-73.8866 157.3607,-53.7155 124.9791,-38.6503\"/>\n<polygon fill=\"#0000ff\" stroke=\"#0000ff\" points=\"126.2767,-35.3938 115.7335,-34.3489 123.3239,-41.7405 126.2767,-35.3938\"/>\n<text text-anchor=\"middle\" x=\"221.0928\" y=\"-57.8\" font-family=\"Times,serif\" font-size=\"14.00\" fill=\"#000000\">yes, missing</text>\n</g>\n<!-- 8 -->\n<g id=\"node7\" class=\"node\">\n<title>8</title>\n<ellipse fill=\"none\" stroke=\"#000000\" cx=\"267.5928\" cy=\"-18\" rx=\"88.2844\" ry=\"18\"/>\n<text text-anchor=\"middle\" x=\"267.5928\" y=\"-14.3\" font-family=\"Times,serif\" font-size=\"14.00\" fill=\"#000000\">leaf=&#45;0.0950454473</text>\n</g>\n<!-- 3&#45;&gt;8 -->\n<g id=\"edge6\" class=\"edge\">\n<title>3&#45;&gt;8</title>\n<path fill=\"none\" stroke=\"#ff0000\" d=\"M267.5928,-86.9735C267.5928,-75.1918 267.5928,-59.5607 267.5928,-46.1581\"/>\n<polygon fill=\"#ff0000\" stroke=\"#ff0000\" points=\"271.0929,-46.0033 267.5928,-36.0034 264.0929,-46.0034 271.0929,-46.0033\"/>\n<text text-anchor=\"middle\" x=\"275.5928\" y=\"-57.8\" font-family=\"Times,serif\" font-size=\"14.00\" fill=\"#000000\">no</text>\n</g>\n<!-- 9 -->\n<g id=\"node8\" class=\"node\">\n<title>9</title>\n<ellipse fill=\"none\" stroke=\"#000000\" cx=\"454.5928\" cy=\"-18\" rx=\"80.6858\" ry=\"18\"/>\n<text text-anchor=\"middle\" x=\"454.5928\" y=\"-14.3\" font-family=\"Times,serif\" font-size=\"14.00\" fill=\"#000000\">leaf=0.057083752</text>\n</g>\n<!-- 4&#45;&gt;9 -->\n<g id=\"edge7\" class=\"edge\">\n<title>4&#45;&gt;9</title>\n<path fill=\"none\" stroke=\"#0000ff\" d=\"M504.5392,-86.9735C495.5852,-74.6085 483.561,-58.0036 473.5542,-44.1847\"/>\n<polygon fill=\"#0000ff\" stroke=\"#0000ff\" points=\"476.3297,-42.05 467.6298,-36.0034 470.6601,-46.1556 476.3297,-42.05\"/>\n<text text-anchor=\"middle\" x=\"526.0928\" y=\"-57.8\" font-family=\"Times,serif\" font-size=\"14.00\" fill=\"#000000\">yes, missing</text>\n</g>\n<!-- 10 -->\n<g id=\"node9\" class=\"node\">\n<title>10</title>\n<ellipse fill=\"none\" stroke=\"#000000\" cx=\"638.5928\" cy=\"-18\" rx=\"85.2851\" ry=\"18\"/>\n<text text-anchor=\"middle\" x=\"638.5928\" y=\"-14.3\" font-family=\"Times,serif\" font-size=\"14.00\" fill=\"#000000\">leaf=0.0717833787</text>\n</g>\n<!-- 4&#45;&gt;10 -->\n<g id=\"edge8\" class=\"edge\">\n<title>4&#45;&gt;10</title>\n<path fill=\"none\" stroke=\"#ff0000\" d=\"M542.079,-87.3943C560.5687,-74.1 586.1142,-55.7325 606.2795,-41.2336\"/>\n<polygon fill=\"#ff0000\" stroke=\"#ff0000\" points=\"608.4801,-43.9622 614.556,-35.2827 604.3936,-38.2787 608.4801,-43.9622\"/>\n<text text-anchor=\"middle\" x=\"593.5928\" y=\"-57.8\" font-family=\"Times,serif\" font-size=\"14.00\" fill=\"#000000\">no</text>\n</g>\n<!-- 11 -->\n<g id=\"node12\" class=\"node\">\n<title>11</title>\n<ellipse fill=\"none\" stroke=\"#000000\" cx=\"830.5928\" cy=\"-18\" rx=\"88.2844\" ry=\"18\"/>\n<text text-anchor=\"middle\" x=\"830.5928\" y=\"-14.3\" font-family=\"Times,serif\" font-size=\"14.00\" fill=\"#000000\">leaf=&#45;0.0386237763</text>\n</g>\n<!-- 5&#45;&gt;11 -->\n<g id=\"edge11\" class=\"edge\">\n<title>5&#45;&gt;11</title>\n<path fill=\"none\" stroke=\"#0000ff\" d=\"M888.4672,-86.9735C877.9941,-74.4919 863.8959,-57.6899 852.2364,-43.7944\"/>\n<polygon fill=\"#0000ff\" stroke=\"#0000ff\" points=\"854.8081,-41.4142 845.6991,-36.0034 849.4458,-45.9136 854.8081,-41.4142\"/>\n<text text-anchor=\"middle\" x=\"907.0928\" y=\"-57.8\" font-family=\"Times,serif\" font-size=\"14.00\" fill=\"#000000\">yes, missing</text>\n</g>\n<!-- 12 -->\n<g id=\"node13\" class=\"node\">\n<title>12</title>\n<ellipse fill=\"none\" stroke=\"#000000\" cx=\"1025.5928\" cy=\"-18\" rx=\"88.2844\" ry=\"18\"/>\n<text text-anchor=\"middle\" x=\"1025.5928\" y=\"-14.3\" font-family=\"Times,serif\" font-size=\"14.00\" fill=\"#000000\">leaf=&#45;0.0944857821</text>\n</g>\n<!-- 5&#45;&gt;12 -->\n<g id=\"edge12\" class=\"edge\">\n<title>5&#45;&gt;12</title>\n<path fill=\"none\" stroke=\"#ff0000\" d=\"M928.2814,-87.3943C946.802,-74.1869 972.3442,-55.9724 992.6131,-41.5184\"/>\n<polygon fill=\"#ff0000\" stroke=\"#ff0000\" points=\"994.8313,-44.2353 1000.941,-35.5796 990.767,-38.536 994.8313,-44.2353\"/>\n<text text-anchor=\"middle\" x=\"980.5928\" y=\"-57.8\" font-family=\"Times,serif\" font-size=\"14.00\" fill=\"#000000\">no</text>\n</g>\n<!-- 13 -->\n<g id=\"node14\" class=\"node\">\n<title>13</title>\n<ellipse fill=\"none\" stroke=\"#000000\" cx=\"1217.5928\" cy=\"-18\" rx=\"85.2851\" ry=\"18\"/>\n<text text-anchor=\"middle\" x=\"1217.5928\" y=\"-14.3\" font-family=\"Times,serif\" font-size=\"14.00\" fill=\"#000000\">leaf=0.0153795006</text>\n</g>\n<!-- 6&#45;&gt;13 -->\n<g id=\"edge13\" class=\"edge\">\n<title>6&#45;&gt;13</title>\n<path fill=\"none\" stroke=\"#0000ff\" d=\"M1217.5928,-86.9735C1217.5928,-75.1918 1217.5928,-59.5607 1217.5928,-46.1581\"/>\n<polygon fill=\"#0000ff\" stroke=\"#0000ff\" points=\"1221.0929,-46.0033 1217.5928,-36.0034 1214.0929,-46.0034 1221.0929,-46.0033\"/>\n<text text-anchor=\"middle\" x=\"1253.0928\" y=\"-57.8\" font-family=\"Times,serif\" font-size=\"14.00\" fill=\"#000000\">yes, missing</text>\n</g>\n<!-- 14 -->\n<g id=\"node15\" class=\"node\">\n<title>14</title>\n<ellipse fill=\"none\" stroke=\"#000000\" cx=\"1409.5928\" cy=\"-18\" rx=\"88.2844\" ry=\"18\"/>\n<text text-anchor=\"middle\" x=\"1409.5928\" y=\"-14.3\" font-family=\"Times,serif\" font-size=\"14.00\" fill=\"#000000\">leaf=&#45;0.0640891343</text>\n</g>\n<!-- 6&#45;&gt;14 -->\n<g id=\"edge14\" class=\"edge\">\n<title>6&#45;&gt;14</title>\n<path fill=\"none\" stroke=\"#ff0000\" d=\"M1254.6124,-88.2255C1285.755,-74.114 1330.4179,-53.8761 1363.8046,-38.7478\"/>\n<polygon fill=\"#ff0000\" stroke=\"#ff0000\" points=\"1365.6741,-41.7433 1373.3381,-34.4279 1362.785,-35.3673 1365.6741,-41.7433\"/>\n<text text-anchor=\"middle\" x=\"1332.5928\" y=\"-57.8\" font-family=\"Times,serif\" font-size=\"14.00\" fill=\"#000000\">no</text>\n</g>\n</g>\n</svg>\n"
          },
          "metadata": {},
          "execution_count": 71
        }
      ]
    },
    {
      "cell_type": "code",
      "source": [
        "dtrain = xgb.DMatrix(train_x_hashed, label=train_y)\n",
        "params = {'objective': 'binary:logistic', 'eval_metric': 'error'}\n",
        "\n",
        "# Perform 5-fold cross-validation\n",
        "cv_results = xgb.cv(params, dtrain, num_boost_round=100, nfold=5, metrics='error', early_stopping_rounds=10)\n",
        "\n",
        "# Print the results\n",
        "print(cv_results)"
      ],
      "metadata": {
        "id": "_OYJaNYK5S2y",
        "colab": {
          "base_uri": "https://localhost:8080/",
          "height": 375
        },
        "outputId": "b6f7b20e-5ef3-4daa-88a4-194f46cf994a"
      },
      "execution_count": null,
      "outputs": [
        {
          "output_type": "error",
          "ename": "KeyboardInterrupt",
          "evalue": "ignored",
          "traceback": [
            "\u001b[0;31m---------------------------------------------------------------------------\u001b[0m",
            "\u001b[0;31mKeyboardInterrupt\u001b[0m                         Traceback (most recent call last)",
            "\u001b[0;32m<ipython-input-72-160a118ff255>\u001b[0m in \u001b[0;36m<module>\u001b[0;34m\u001b[0m\n\u001b[1;32m      3\u001b[0m \u001b[0;34m\u001b[0m\u001b[0m\n\u001b[1;32m      4\u001b[0m \u001b[0;31m# Perform 5-fold cross-validation\u001b[0m\u001b[0;34m\u001b[0m\u001b[0;34m\u001b[0m\u001b[0;34m\u001b[0m\u001b[0m\n\u001b[0;32m----> 5\u001b[0;31m \u001b[0mcv_results\u001b[0m \u001b[0;34m=\u001b[0m \u001b[0mxgb\u001b[0m\u001b[0;34m.\u001b[0m\u001b[0mcv\u001b[0m\u001b[0;34m(\u001b[0m\u001b[0mparams\u001b[0m\u001b[0;34m,\u001b[0m \u001b[0mdtrain\u001b[0m\u001b[0;34m,\u001b[0m \u001b[0mnum_boost_round\u001b[0m\u001b[0;34m=\u001b[0m\u001b[0;36m100\u001b[0m\u001b[0;34m,\u001b[0m \u001b[0mnfold\u001b[0m\u001b[0;34m=\u001b[0m\u001b[0;36m5\u001b[0m\u001b[0;34m,\u001b[0m \u001b[0mmetrics\u001b[0m\u001b[0;34m=\u001b[0m\u001b[0;34m'error'\u001b[0m\u001b[0;34m,\u001b[0m \u001b[0mearly_stopping_rounds\u001b[0m\u001b[0;34m=\u001b[0m\u001b[0;36m10\u001b[0m\u001b[0;34m)\u001b[0m\u001b[0;34m\u001b[0m\u001b[0;34m\u001b[0m\u001b[0m\n\u001b[0m\u001b[1;32m      6\u001b[0m \u001b[0;34m\u001b[0m\u001b[0m\n\u001b[1;32m      7\u001b[0m \u001b[0;31m# Print the results\u001b[0m\u001b[0;34m\u001b[0m\u001b[0;34m\u001b[0m\u001b[0;34m\u001b[0m\u001b[0m\n",
            "\u001b[0;32m/usr/local/lib/python3.8/dist-packages/xgboost/training.py\u001b[0m in \u001b[0;36mcv\u001b[0;34m(params, dtrain, num_boost_round, nfold, stratified, folds, metrics, obj, feval, maximize, early_stopping_rounds, fpreproc, as_pandas, verbose_eval, show_stdv, seed, callbacks, shuffle)\u001b[0m\n\u001b[1;32m    443\u001b[0m                            evaluation_result_list=None))\n\u001b[1;32m    444\u001b[0m         \u001b[0;32mfor\u001b[0m \u001b[0mfold\u001b[0m \u001b[0;32min\u001b[0m \u001b[0mcvfolds\u001b[0m\u001b[0;34m:\u001b[0m\u001b[0;34m\u001b[0m\u001b[0;34m\u001b[0m\u001b[0m\n\u001b[0;32m--> 445\u001b[0;31m             \u001b[0mfold\u001b[0m\u001b[0;34m.\u001b[0m\u001b[0mupdate\u001b[0m\u001b[0;34m(\u001b[0m\u001b[0mi\u001b[0m\u001b[0;34m,\u001b[0m \u001b[0mobj\u001b[0m\u001b[0;34m)\u001b[0m\u001b[0;34m\u001b[0m\u001b[0;34m\u001b[0m\u001b[0m\n\u001b[0m\u001b[1;32m    446\u001b[0m         \u001b[0mres\u001b[0m \u001b[0;34m=\u001b[0m \u001b[0maggcv\u001b[0m\u001b[0;34m(\u001b[0m\u001b[0;34m[\u001b[0m\u001b[0mf\u001b[0m\u001b[0;34m.\u001b[0m\u001b[0meval\u001b[0m\u001b[0;34m(\u001b[0m\u001b[0mi\u001b[0m\u001b[0;34m,\u001b[0m \u001b[0mfeval\u001b[0m\u001b[0;34m)\u001b[0m \u001b[0;32mfor\u001b[0m \u001b[0mf\u001b[0m \u001b[0;32min\u001b[0m \u001b[0mcvfolds\u001b[0m\u001b[0;34m]\u001b[0m\u001b[0;34m)\u001b[0m\u001b[0;34m\u001b[0m\u001b[0;34m\u001b[0m\u001b[0m\n\u001b[1;32m    447\u001b[0m \u001b[0;34m\u001b[0m\u001b[0m\n",
            "\u001b[0;32m/usr/local/lib/python3.8/dist-packages/xgboost/training.py\u001b[0m in \u001b[0;36mupdate\u001b[0;34m(self, iteration, fobj)\u001b[0m\n\u001b[1;32m    228\u001b[0m     \u001b[0;32mdef\u001b[0m \u001b[0mupdate\u001b[0m\u001b[0;34m(\u001b[0m\u001b[0mself\u001b[0m\u001b[0;34m,\u001b[0m \u001b[0miteration\u001b[0m\u001b[0;34m,\u001b[0m \u001b[0mfobj\u001b[0m\u001b[0;34m)\u001b[0m\u001b[0;34m:\u001b[0m\u001b[0;34m\u001b[0m\u001b[0;34m\u001b[0m\u001b[0m\n\u001b[1;32m    229\u001b[0m         \u001b[0;34m\"\"\"\"Update the boosters for one iteration\"\"\"\u001b[0m\u001b[0;34m\u001b[0m\u001b[0;34m\u001b[0m\u001b[0m\n\u001b[0;32m--> 230\u001b[0;31m         \u001b[0mself\u001b[0m\u001b[0;34m.\u001b[0m\u001b[0mbst\u001b[0m\u001b[0;34m.\u001b[0m\u001b[0mupdate\u001b[0m\u001b[0;34m(\u001b[0m\u001b[0mself\u001b[0m\u001b[0;34m.\u001b[0m\u001b[0mdtrain\u001b[0m\u001b[0;34m,\u001b[0m \u001b[0miteration\u001b[0m\u001b[0;34m,\u001b[0m \u001b[0mfobj\u001b[0m\u001b[0;34m)\u001b[0m\u001b[0;34m\u001b[0m\u001b[0;34m\u001b[0m\u001b[0m\n\u001b[0m\u001b[1;32m    231\u001b[0m \u001b[0;34m\u001b[0m\u001b[0m\n\u001b[1;32m    232\u001b[0m     \u001b[0;32mdef\u001b[0m \u001b[0meval\u001b[0m\u001b[0;34m(\u001b[0m\u001b[0mself\u001b[0m\u001b[0;34m,\u001b[0m \u001b[0miteration\u001b[0m\u001b[0;34m,\u001b[0m \u001b[0mfeval\u001b[0m\u001b[0;34m)\u001b[0m\u001b[0;34m:\u001b[0m\u001b[0;34m\u001b[0m\u001b[0;34m\u001b[0m\u001b[0m\n",
            "\u001b[0;32m/usr/local/lib/python3.8/dist-packages/xgboost/core.py\u001b[0m in \u001b[0;36mupdate\u001b[0;34m(self, dtrain, iteration, fobj)\u001b[0m\n\u001b[1;32m   1106\u001b[0m \u001b[0;34m\u001b[0m\u001b[0m\n\u001b[1;32m   1107\u001b[0m         \u001b[0;32mif\u001b[0m \u001b[0mfobj\u001b[0m \u001b[0;32mis\u001b[0m \u001b[0;32mNone\u001b[0m\u001b[0;34m:\u001b[0m\u001b[0;34m\u001b[0m\u001b[0;34m\u001b[0m\u001b[0m\n\u001b[0;32m-> 1108\u001b[0;31m             _check_call(_LIB.XGBoosterUpdateOneIter(self.handle, ctypes.c_int(iteration),\n\u001b[0m\u001b[1;32m   1109\u001b[0m                                                     dtrain.handle))\n\u001b[1;32m   1110\u001b[0m         \u001b[0;32melse\u001b[0m\u001b[0;34m:\u001b[0m\u001b[0;34m\u001b[0m\u001b[0;34m\u001b[0m\u001b[0m\n",
            "\u001b[0;31mKeyboardInterrupt\u001b[0m: "
          ]
        }
      ]
    },
    {
      "cell_type": "code",
      "source": [
        "# Plot the training and test error\n",
        "plt.plot(cv_results['train-error-mean'], label='Training Error')\n",
        "plt.plot(cv_results['test-error-mean'], label='Test Error')\n",
        "\n",
        "# Add a legend and labels\n",
        "plt.legend()\n",
        "plt.xlabel('Number of Boosting Rounds')\n",
        "plt.ylabel('Error')\n",
        "plt.title('XGBoost Cross-Validation Results')\n",
        "\n",
        "# Show the plot\n",
        "plt.show()"
      ],
      "metadata": {
        "id": "vLY4NF2MB9hb"
      },
      "execution_count": null,
      "outputs": []
    },
    {
      "cell_type": "code",
      "source": [
        "category_features"
      ],
      "metadata": {
        "id": "X55zV2KjYstB"
      },
      "execution_count": null,
      "outputs": []
    },
    {
      "cell_type": "code",
      "source": [
        "pdp = plot_partial_dependence(xgb_model, train_x_hashed, category_features, feature_names=category_features)\n",
        "#fig, axs = plot_partial_dependence(model, X_train, features=['feature1', 'feature2'], feature_names=['Feature 1', 'Feature 2'])"
      ],
      "metadata": {
        "id": "-c3UNUvsa9cj"
      },
      "execution_count": null,
      "outputs": []
    },
    {
      "cell_type": "code",
      "source": [
        "fig=pdp.figure_.set_size_inches(30, 30)"
      ],
      "metadata": {
        "id": "0uKzIxYuxjDy"
      },
      "execution_count": null,
      "outputs": []
    },
    {
      "cell_type": "code",
      "source": [
        "pdp.figure_"
      ],
      "metadata": {
        "id": "2BfEN6pGxv8c"
      },
      "execution_count": null,
      "outputs": []
    },
    {
      "cell_type": "code",
      "source": [
        "print(category_features[5])\n",
        "print(category_features[15])\n",
        "print(category_features[2])\n",
        "print(category_features[13])\n",
        "print(category_features[14])\n",
        "print(category_features[17])\n",
        "print(category_features[4])"
      ],
      "metadata": {
        "id": "cjyuaxmfOEWn",
        "colab": {
          "base_uri": "https://localhost:8080/"
        },
        "outputId": "07a5bcf4-a451-4eab-bd81-9379306066cd"
      },
      "execution_count": null,
      "outputs": [
        {
          "output_type": "stream",
          "name": "stdout",
          "text": [
            "General_Manner_of_death\n",
            "The_Decedent_Marital_status\n",
            "General_Place_of_death_and_decedents_status\n",
            "The_Decedent_Sex\n",
            "The_Decedent_Age\n",
            "The_Decedent_Education\n",
            "General_Data_year\n"
          ]
        }
      ]
    },
    {
      "cell_type": "markdown",
      "source": [
        "# Logistic Regression"
      ],
      "metadata": {
        "id": "ROi-uoH2ycD1"
      }
    },
    {
      "cell_type": "code",
      "source": [
        "from sklearn.linear_model import LogisticRegression\n",
        "lr_clf = LogisticRegression( penalty='l2', tol=0.001, C=2000,random_state=0, max_iter=500, solver='newton-cg').fit(train_x_hashed, train_y)\n",
        "y_pred=lr_clf.predict(validation_x_hashed)\n",
        "#y_pred\n",
        "#lr_clf.predict_proba(train_x_norm)\n",
        "print(lr_clf.score(validation_x_hashed, validation_y))\n",
        "print(lr_clf.score(train_x_hashed, train_y))\n",
        "\n",
        "fpr = dict()\n",
        "tpr = dict()\n",
        "roc_auc = dict()\n",
        "lw = 2\n",
        "fpr, tpr, thresholds = roc_curve(validation_y, y_pred)\n",
        "roc_auc = auc(fpr, tpr)\n",
        "plt.plot(fpr, tpr, 'k--', label = 'ROC(area = {0:2f})'.format(roc_auc), lw=2)\n",
        "plt.xlim([-0.05, 1.05])\n",
        "plt.ylim([-0.05, 1.05])\n",
        "plt.xlabel('FPR')\n",
        "plt.ylabel('TPR')\n",
        "plt.legend(loc = 'lower right')\n",
        "plt.show()"
      ],
      "metadata": {
        "colab": {
          "base_uri": "https://localhost:8080/",
          "height": 313
        },
        "id": "cZ3tN8SL6I9b",
        "outputId": "2324e245-142a-41dd-8569-1d4cb0ad9c65"
      },
      "execution_count": null,
      "outputs": [
        {
          "output_type": "stream",
          "name": "stdout",
          "text": [
            "0.5292010148793205\n",
            "0.7499747738944327\n"
          ]
        },
        {
          "output_type": "display_data",
          "data": {
            "text/plain": [
              "<Figure size 432x288 with 1 Axes>"
            ],
            "image/png": "[encoded data removed]"
          },
          "metadata": {
            "needs_background": "light"
          }
        }
      ]
    },
    {
      "cell_type": "code",
      "source": [
        "color = 'black'\n",
        "matrix = plot_confusion_matrix(lr_clf, validation_x_hashed, validation_y, cmap=plt.cm.Blues)\n",
        "matrix.ax_.set_title('Confusion Matrix', color=color)\n",
        "plt.xlabel('Predicted Label', color=color)\n",
        "plt.ylabel('True Label', color=color)\n",
        "plt.gcf().axes[0].tick_params(colors=color)\n",
        "plt.gcf().axes[1].tick_params(colors=color)\n",
        "plt.show()"
      ],
      "metadata": {
        "colab": {
          "base_uri": "https://localhost:8080/",
          "height": 349
        },
        "id": "ufHh1t9A7N4e",
        "outputId": "e9b12b40-4ce3-46ca-a97d-a33ea6ef6a51"
      },
      "execution_count": null,
      "outputs": [
        {
          "output_type": "stream",
          "name": "stderr",
          "text": [
            "/usr/local/lib/python3.8/dist-packages/sklearn/utils/deprecation.py:87: FutureWarning: Function plot_confusion_matrix is deprecated; Function `plot_confusion_matrix` is deprecated in 1.0 and will be removed in 1.2. Use one of the class methods: ConfusionMatrixDisplay.from_predictions or ConfusionMatrixDisplay.from_estimator.\n",
            "  warnings.warn(msg, category=FutureWarning)\n"
          ]
        },
        {
          "output_type": "display_data",
          "data": {
            "text/plain": [
              "<Figure size 432x288 with 2 Axes>"
            ],
            "image/png": "[encoded data removed]"
          },
          "metadata": {
            "needs_background": "light"
          }
        }
      ]
    },
    {
      "cell_type": "code",
      "source": [
        "print(precision_score(validation_y, y_pred, average='macro'))\n",
        "\n",
        "print(recall_score(validation_y, y_pred, average='macro'))"
      ],
      "metadata": {
        "colab": {
          "base_uri": "https://localhost:8080/"
        },
        "id": "a5vpAB4q7Pm5",
        "outputId": "c862d2e9-d060-4cea-f3cc-ec89a949eb2d"
      },
      "execution_count": null,
      "outputs": [
        {
          "output_type": "stream",
          "name": "stdout",
          "text": [
            "0.5309541689369646\n",
            "0.5292010148793205\n"
          ]
        }
      ]
    },
    {
      "cell_type": "markdown",
      "source": [
        "# SVM"
      ],
      "metadata": {
        "id": "op0gLLii9xXt"
      }
    },
    {
      "cell_type": "code",
      "source": [
        "from sklearn import svm\n",
        "\n",
        "def support_vector_machine(train_x_hashed, train_y, validation_x, validation_y):\n",
        "  clf = svm.SVC(C = 455000000, max_iter =  10000)\n",
        "  clf.fit(train_x_hashed, train_y)\n",
        "  y_pred = clf.predict(validation_x)\n",
        "  accuracy = metrics.accuracy_score(validation_y, y_pred)\n",
        "  return accuracy, y_pred, clf"
      ],
      "metadata": {
        "id": "nqJIaLEv9vnp"
      },
      "execution_count": null,
      "outputs": []
    },
    {
      "cell_type": "code",
      "source": [
        "validation_accuracy, y_pred, svm_model = support_vector_machine(train_x_hashed, train_y, validation_x_hashed, validation_y)\n",
        "print(validation_accuracy)"
      ],
      "metadata": {
        "colab": {
          "base_uri": "https://localhost:8080/"
        },
        "id": "AcyME8XU-fj6",
        "outputId": "8e624e9d-7644-4dec-e72f-642a8c639170"
      },
      "execution_count": null,
      "outputs": [
        {
          "output_type": "stream",
          "name": "stderr",
          "text": [
            "/usr/local/lib/python3.8/dist-packages/sklearn/svm/_base.py:284: ConvergenceWarning: Solver terminated early (max_iter=10000).  Consider pre-processing your data with StandardScaler or MinMaxScaler.\n",
            "  warnings.warn(\n"
          ]
        },
        {
          "output_type": "stream",
          "name": "stdout",
          "text": [
            "0.5901541835890668\n"
          ]
        }
      ]
    },
    {
      "cell_type": "code",
      "source": [
        "fpr = dict()\n",
        "tpr = dict()\n",
        "roc_auc = dict()\n",
        "lw = 2\n",
        "fpr, tpr, thresholds = roc_curve(validation_y, y_pred)\n",
        "roc_auc = auc(fpr, tpr)\n",
        "plt.plot(fpr, tpr, 'k--', label = 'ROC(area = {0:2f})'.format(roc_auc), lw=2)\n",
        "plt.xlim([-0.05, 1.05])\n",
        "plt.ylim([-0.05, 1.05])\n",
        "plt.xlabel('FPR')\n",
        "plt.ylabel('TPR')\n",
        "plt.legend(loc = 'lower right')\n",
        "plt.show()"
      ],
      "metadata": {
        "colab": {
          "base_uri": "https://localhost:8080/",
          "height": 279
        },
        "id": "Ehuc3RJZ-rYk",
        "outputId": "c81e6428-d46d-4580-c7ea-639a100ff833"
      },
      "execution_count": null,
      "outputs": [
        {
          "output_type": "display_data",
          "data": {
            "text/plain": [
              "<Figure size 432x288 with 1 Axes>"
            ],
            "image/png": "[encoded data removed]"
          },
          "metadata": {
            "needs_background": "light"
          }
        }
      ]
    },
    {
      "cell_type": "markdown",
      "source": [
        "# KNN"
      ],
      "metadata": {
        "id": "T1gI-Djh9zlD"
      }
    },
    {
      "cell_type": "code",
      "source": [
        "def KNN_test(train_x, train_y, validation_x, validation_y, k, m, n):\n",
        "  KNN = sklearn.neighbors.KNeighborsClassifier(n_neighbors=k, n_jobs=m, leaf_size=n)\n",
        "  KNN.fit(train_x, train_y)\n",
        "  y_pred = KNN.predict(validation_x)\n",
        "  acc = metrics.accuracy_score(validation_y, y_pred)\n",
        "  model = KNN\n",
        "  return acc, y_pred, model"
      ],
      "metadata": {
        "id": "fMQMyPSe90Sk"
      },
      "execution_count": null,
      "outputs": []
    },
    {
      "cell_type": "code",
      "source": [
        "acc, y_pred, knn_model = KNN_test(train_x_hashed, train_y, validation_x_hashed, validation_y, k=5, m=15, n=40)\n",
        "print('test accuracy:', acc)"
      ],
      "metadata": {
        "colab": {
          "base_uri": "https://localhost:8080/",
          "height": 358
        },
        "id": "bpiSo2yd_hdC",
        "outputId": "cbe2bea6-aab4-4230-de97-943223ba009d"
      },
      "execution_count": null,
      "outputs": [
        {
          "output_type": "error",
          "ename": "KeyboardInterrupt",
          "evalue": "ignored",
          "traceback": [
            "\u001b[0;31m---------------------------------------------------------------------------\u001b[0m",
            "\u001b[0;31mKeyboardInterrupt\u001b[0m                         Traceback (most recent call last)",
            "\u001b[0;32m<ipython-input-90-853b91554602>\u001b[0m in \u001b[0;36m<module>\u001b[0;34m\u001b[0m\n\u001b[0;32m----> 1\u001b[0;31m \u001b[0macc\u001b[0m\u001b[0;34m,\u001b[0m \u001b[0my_pred\u001b[0m\u001b[0;34m,\u001b[0m \u001b[0mknn_model\u001b[0m \u001b[0;34m=\u001b[0m \u001b[0mKNN_test\u001b[0m\u001b[0;34m(\u001b[0m\u001b[0mtrain_x_hashed\u001b[0m\u001b[0;34m,\u001b[0m \u001b[0mtrain_y\u001b[0m\u001b[0;34m,\u001b[0m \u001b[0mvalidation_x_hashed\u001b[0m\u001b[0;34m,\u001b[0m \u001b[0mvalidation_y\u001b[0m\u001b[0;34m,\u001b[0m \u001b[0mk\u001b[0m\u001b[0;34m=\u001b[0m\u001b[0;36m5\u001b[0m\u001b[0;34m,\u001b[0m \u001b[0mm\u001b[0m\u001b[0;34m=\u001b[0m\u001b[0;36m15\u001b[0m\u001b[0;34m,\u001b[0m \u001b[0mn\u001b[0m\u001b[0;34m=\u001b[0m\u001b[0;36m40\u001b[0m\u001b[0;34m)\u001b[0m\u001b[0;34m\u001b[0m\u001b[0;34m\u001b[0m\u001b[0m\n\u001b[0m\u001b[1;32m      2\u001b[0m \u001b[0mprint\u001b[0m\u001b[0;34m(\u001b[0m\u001b[0;34m'test accuracy:'\u001b[0m\u001b[0;34m,\u001b[0m \u001b[0macc\u001b[0m\u001b[0;34m)\u001b[0m\u001b[0;34m\u001b[0m\u001b[0;34m\u001b[0m\u001b[0m\n",
            "\u001b[0;32m<ipython-input-89-ebc3e86e238b>\u001b[0m in \u001b[0;36mKNN_test\u001b[0;34m(train_x, train_y, validation_x, validation_y, k, m, n)\u001b[0m\n\u001b[1;32m      2\u001b[0m   \u001b[0mKNN\u001b[0m \u001b[0;34m=\u001b[0m \u001b[0msklearn\u001b[0m\u001b[0;34m.\u001b[0m\u001b[0mneighbors\u001b[0m\u001b[0;34m.\u001b[0m\u001b[0mKNeighborsClassifier\u001b[0m\u001b[0;34m(\u001b[0m\u001b[0mn_neighbors\u001b[0m\u001b[0;34m=\u001b[0m\u001b[0mk\u001b[0m\u001b[0;34m,\u001b[0m \u001b[0mn_jobs\u001b[0m\u001b[0;34m=\u001b[0m\u001b[0mm\u001b[0m\u001b[0;34m,\u001b[0m \u001b[0mleaf_size\u001b[0m\u001b[0;34m=\u001b[0m\u001b[0mn\u001b[0m\u001b[0;34m)\u001b[0m\u001b[0;34m\u001b[0m\u001b[0;34m\u001b[0m\u001b[0m\n\u001b[1;32m      3\u001b[0m   \u001b[0mKNN\u001b[0m\u001b[0;34m.\u001b[0m\u001b[0mfit\u001b[0m\u001b[0;34m(\u001b[0m\u001b[0mtrain_x\u001b[0m\u001b[0;34m,\u001b[0m \u001b[0mtrain_y\u001b[0m\u001b[0;34m)\u001b[0m\u001b[0;34m\u001b[0m\u001b[0;34m\u001b[0m\u001b[0m\n\u001b[0;32m----> 4\u001b[0;31m   \u001b[0my_pred\u001b[0m \u001b[0;34m=\u001b[0m \u001b[0mKNN\u001b[0m\u001b[0;34m.\u001b[0m\u001b[0mpredict\u001b[0m\u001b[0;34m(\u001b[0m\u001b[0mvalidation_x\u001b[0m\u001b[0;34m)\u001b[0m\u001b[0;34m\u001b[0m\u001b[0;34m\u001b[0m\u001b[0m\n\u001b[0m\u001b[1;32m      5\u001b[0m   \u001b[0macc\u001b[0m \u001b[0;34m=\u001b[0m \u001b[0mmetrics\u001b[0m\u001b[0;34m.\u001b[0m\u001b[0maccuracy_score\u001b[0m\u001b[0;34m(\u001b[0m\u001b[0mvalidation_y\u001b[0m\u001b[0;34m,\u001b[0m \u001b[0my_pred\u001b[0m\u001b[0;34m)\u001b[0m\u001b[0;34m\u001b[0m\u001b[0;34m\u001b[0m\u001b[0m\n\u001b[1;32m      6\u001b[0m   \u001b[0mmodel\u001b[0m \u001b[0;34m=\u001b[0m \u001b[0mKNN\u001b[0m\u001b[0;34m\u001b[0m\u001b[0;34m\u001b[0m\u001b[0m\n",
            "\u001b[0;32m/usr/local/lib/python3.8/dist-packages/sklearn/neighbors/_classification.py\u001b[0m in \u001b[0;36mpredict\u001b[0;34m(self, X)\u001b[0m\n\u001b[1;32m    212\u001b[0m             \u001b[0mClass\u001b[0m \u001b[0mlabels\u001b[0m \u001b[0;32mfor\u001b[0m \u001b[0meach\u001b[0m \u001b[0mdata\u001b[0m \u001b[0msample\u001b[0m\u001b[0;34m.\u001b[0m\u001b[0;34m\u001b[0m\u001b[0;34m\u001b[0m\u001b[0m\n\u001b[1;32m    213\u001b[0m         \"\"\"\n\u001b[0;32m--> 214\u001b[0;31m         \u001b[0mneigh_dist\u001b[0m\u001b[0;34m,\u001b[0m \u001b[0mneigh_ind\u001b[0m \u001b[0;34m=\u001b[0m \u001b[0mself\u001b[0m\u001b[0;34m.\u001b[0m\u001b[0mkneighbors\u001b[0m\u001b[0;34m(\u001b[0m\u001b[0mX\u001b[0m\u001b[0;34m)\u001b[0m\u001b[0;34m\u001b[0m\u001b[0;34m\u001b[0m\u001b[0m\n\u001b[0m\u001b[1;32m    215\u001b[0m         \u001b[0mclasses_\u001b[0m \u001b[0;34m=\u001b[0m \u001b[0mself\u001b[0m\u001b[0;34m.\u001b[0m\u001b[0mclasses_\u001b[0m\u001b[0;34m\u001b[0m\u001b[0;34m\u001b[0m\u001b[0m\n\u001b[1;32m    216\u001b[0m         \u001b[0m_y\u001b[0m \u001b[0;34m=\u001b[0m \u001b[0mself\u001b[0m\u001b[0;34m.\u001b[0m\u001b[0m_y\u001b[0m\u001b[0;34m\u001b[0m\u001b[0;34m\u001b[0m\u001b[0m\n",
            "\u001b[0;32m/usr/local/lib/python3.8/dist-packages/sklearn/neighbors/_base.py\u001b[0m in \u001b[0;36mkneighbors\u001b[0;34m(self, X, n_neighbors, return_distance)\u001b[0m\n\u001b[1;32m    750\u001b[0m                 \u001b[0mkwds\u001b[0m \u001b[0;34m=\u001b[0m \u001b[0mself\u001b[0m\u001b[0;34m.\u001b[0m\u001b[0meffective_metric_params_\u001b[0m\u001b[0;34m\u001b[0m\u001b[0;34m\u001b[0m\u001b[0m\n\u001b[1;32m    751\u001b[0m \u001b[0;34m\u001b[0m\u001b[0m\n\u001b[0;32m--> 752\u001b[0;31m             chunked_results = list(\n\u001b[0m\u001b[1;32m    753\u001b[0m                 pairwise_distances_chunked(\n\u001b[1;32m    754\u001b[0m                     \u001b[0mX\u001b[0m\u001b[0;34m,\u001b[0m\u001b[0;34m\u001b[0m\u001b[0;34m\u001b[0m\u001b[0m\n",
            "\u001b[0;32m/usr/local/lib/python3.8/dist-packages/sklearn/metrics/pairwise.py\u001b[0m in \u001b[0;36mpairwise_distances_chunked\u001b[0;34m(X, Y, reduce_func, metric, n_jobs, working_memory, **kwds)\u001b[0m\n\u001b[1;32m   1724\u001b[0m         \u001b[0;32mif\u001b[0m \u001b[0mreduce_func\u001b[0m \u001b[0;32mis\u001b[0m \u001b[0;32mnot\u001b[0m \u001b[0;32mNone\u001b[0m\u001b[0;34m:\u001b[0m\u001b[0;34m\u001b[0m\u001b[0;34m\u001b[0m\u001b[0m\n\u001b[1;32m   1725\u001b[0m             \u001b[0mchunk_size\u001b[0m \u001b[0;34m=\u001b[0m \u001b[0mD_chunk\u001b[0m\u001b[0;34m.\u001b[0m\u001b[0mshape\u001b[0m\u001b[0;34m[\u001b[0m\u001b[0;36m0\u001b[0m\u001b[0;34m]\u001b[0m\u001b[0;34m\u001b[0m\u001b[0;34m\u001b[0m\u001b[0m\n\u001b[0;32m-> 1726\u001b[0;31m             \u001b[0mD_chunk\u001b[0m \u001b[0;34m=\u001b[0m \u001b[0mreduce_func\u001b[0m\u001b[0;34m(\u001b[0m\u001b[0mD_chunk\u001b[0m\u001b[0;34m,\u001b[0m \u001b[0msl\u001b[0m\u001b[0;34m.\u001b[0m\u001b[0mstart\u001b[0m\u001b[0;34m)\u001b[0m\u001b[0;34m\u001b[0m\u001b[0;34m\u001b[0m\u001b[0m\n\u001b[0m\u001b[1;32m   1727\u001b[0m             \u001b[0m_check_chunk_size\u001b[0m\u001b[0;34m(\u001b[0m\u001b[0mD_chunk\u001b[0m\u001b[0;34m,\u001b[0m \u001b[0mchunk_size\u001b[0m\u001b[0;34m)\u001b[0m\u001b[0;34m\u001b[0m\u001b[0;34m\u001b[0m\u001b[0m\n\u001b[1;32m   1728\u001b[0m         \u001b[0;32myield\u001b[0m \u001b[0mD_chunk\u001b[0m\u001b[0;34m\u001b[0m\u001b[0;34m\u001b[0m\u001b[0m\n",
            "\u001b[0;32m/usr/local/lib/python3.8/dist-packages/sklearn/neighbors/_base.py\u001b[0m in \u001b[0;36m_kneighbors_reduce_func\u001b[0;34m(self, dist, start, n_neighbors, return_distance)\u001b[0m\n\u001b[1;32m    632\u001b[0m         \"\"\"\n\u001b[1;32m    633\u001b[0m         \u001b[0msample_range\u001b[0m \u001b[0;34m=\u001b[0m \u001b[0mnp\u001b[0m\u001b[0;34m.\u001b[0m\u001b[0marange\u001b[0m\u001b[0;34m(\u001b[0m\u001b[0mdist\u001b[0m\u001b[0;34m.\u001b[0m\u001b[0mshape\u001b[0m\u001b[0;34m[\u001b[0m\u001b[0;36m0\u001b[0m\u001b[0;34m]\u001b[0m\u001b[0;34m)\u001b[0m\u001b[0;34m[\u001b[0m\u001b[0;34m:\u001b[0m\u001b[0;34m,\u001b[0m \u001b[0;32mNone\u001b[0m\u001b[0;34m]\u001b[0m\u001b[0;34m\u001b[0m\u001b[0;34m\u001b[0m\u001b[0m\n\u001b[0;32m--> 634\u001b[0;31m         \u001b[0mneigh_ind\u001b[0m \u001b[0;34m=\u001b[0m \u001b[0mnp\u001b[0m\u001b[0;34m.\u001b[0m\u001b[0margpartition\u001b[0m\u001b[0;34m(\u001b[0m\u001b[0mdist\u001b[0m\u001b[0;34m,\u001b[0m \u001b[0mn_neighbors\u001b[0m \u001b[0;34m-\u001b[0m \u001b[0;36m1\u001b[0m\u001b[0;34m,\u001b[0m \u001b[0maxis\u001b[0m\u001b[0;34m=\u001b[0m\u001b[0;36m1\u001b[0m\u001b[0;34m)\u001b[0m\u001b[0;34m\u001b[0m\u001b[0;34m\u001b[0m\u001b[0m\n\u001b[0m\u001b[1;32m    635\u001b[0m         \u001b[0mneigh_ind\u001b[0m \u001b[0;34m=\u001b[0m \u001b[0mneigh_ind\u001b[0m\u001b[0;34m[\u001b[0m\u001b[0;34m:\u001b[0m\u001b[0;34m,\u001b[0m \u001b[0;34m:\u001b[0m\u001b[0mn_neighbors\u001b[0m\u001b[0;34m]\u001b[0m\u001b[0;34m\u001b[0m\u001b[0;34m\u001b[0m\u001b[0m\n\u001b[1;32m    636\u001b[0m         \u001b[0;31m# argpartition doesn't guarantee sorted order, so we sort again\u001b[0m\u001b[0;34m\u001b[0m\u001b[0;34m\u001b[0m\u001b[0;34m\u001b[0m\u001b[0m\n",
            "\u001b[0;32m<__array_function__ internals>\u001b[0m in \u001b[0;36margpartition\u001b[0;34m(*args, **kwargs)\u001b[0m\n",
            "\u001b[0;32m/usr/local/lib/python3.8/dist-packages/numpy/core/fromnumeric.py\u001b[0m in \u001b[0;36margpartition\u001b[0;34m(a, kth, axis, kind, order)\u001b[0m\n\u001b[1;32m    837\u001b[0m \u001b[0;34m\u001b[0m\u001b[0m\n\u001b[1;32m    838\u001b[0m     \"\"\"\n\u001b[0;32m--> 839\u001b[0;31m     \u001b[0;32mreturn\u001b[0m \u001b[0m_wrapfunc\u001b[0m\u001b[0;34m(\u001b[0m\u001b[0ma\u001b[0m\u001b[0;34m,\u001b[0m \u001b[0;34m'argpartition'\u001b[0m\u001b[0;34m,\u001b[0m \u001b[0mkth\u001b[0m\u001b[0;34m,\u001b[0m \u001b[0maxis\u001b[0m\u001b[0;34m=\u001b[0m\u001b[0maxis\u001b[0m\u001b[0;34m,\u001b[0m \u001b[0mkind\u001b[0m\u001b[0;34m=\u001b[0m\u001b[0mkind\u001b[0m\u001b[0;34m,\u001b[0m \u001b[0morder\u001b[0m\u001b[0;34m=\u001b[0m\u001b[0morder\u001b[0m\u001b[0;34m)\u001b[0m\u001b[0;34m\u001b[0m\u001b[0;34m\u001b[0m\u001b[0m\n\u001b[0m\u001b[1;32m    840\u001b[0m \u001b[0;34m\u001b[0m\u001b[0m\n\u001b[1;32m    841\u001b[0m \u001b[0;34m\u001b[0m\u001b[0m\n",
            "\u001b[0;32m/usr/local/lib/python3.8/dist-packages/numpy/core/fromnumeric.py\u001b[0m in \u001b[0;36m_wrapfunc\u001b[0;34m(obj, method, *args, **kwds)\u001b[0m\n\u001b[1;32m     55\u001b[0m \u001b[0;34m\u001b[0m\u001b[0m\n\u001b[1;32m     56\u001b[0m     \u001b[0;32mtry\u001b[0m\u001b[0;34m:\u001b[0m\u001b[0;34m\u001b[0m\u001b[0;34m\u001b[0m\u001b[0m\n\u001b[0;32m---> 57\u001b[0;31m         \u001b[0;32mreturn\u001b[0m \u001b[0mbound\u001b[0m\u001b[0;34m(\u001b[0m\u001b[0;34m*\u001b[0m\u001b[0margs\u001b[0m\u001b[0;34m,\u001b[0m \u001b[0;34m**\u001b[0m\u001b[0mkwds\u001b[0m\u001b[0;34m)\u001b[0m\u001b[0;34m\u001b[0m\u001b[0;34m\u001b[0m\u001b[0m\n\u001b[0m\u001b[1;32m     58\u001b[0m     \u001b[0;32mexcept\u001b[0m \u001b[0mTypeError\u001b[0m\u001b[0;34m:\u001b[0m\u001b[0;34m\u001b[0m\u001b[0;34m\u001b[0m\u001b[0m\n\u001b[1;32m     59\u001b[0m         \u001b[0;31m# A TypeError occurs if the object does have such a method in its\u001b[0m\u001b[0;34m\u001b[0m\u001b[0;34m\u001b[0m\u001b[0;34m\u001b[0m\u001b[0m\n",
            "\u001b[0;31mKeyboardInterrupt\u001b[0m: "
          ]
        }
      ]
    },
    {
      "cell_type": "code",
      "source": [
        "from sklearn.model_selection import RandomizedSearchCV\n",
        "KNN = sklearn.neighbors.KNeighborsClassifier()\n",
        "\n",
        "params = {'n_neighbors': [5, 6, 7, 8, 10, 15, 20], 'leaf_size': [20, 30, 40, 50], 'n_jobs' : [10, 15, 16, 18, 20]}\n",
        "\n",
        "rs_model=RandomizedSearchCV(KNN,param_distributions=params,n_iter=5,scoring='roc_auc',n_jobs=-1,cv=5,verbose=3)\n",
        "\n",
        "#model fitting\n",
        "rs_model.fit(train_x_hashed, train_y)\n",
        "\n",
        "#parameters selected\n",
        "print(rs_model.best_estimator_)\n",
        "\n",
        "print (rs_model.best_score_)\n"
      ],
      "metadata": {
        "id": "jFk5MJs5_i-P"
      },
      "execution_count": null,
      "outputs": []
    },
    {
      "cell_type": "code",
      "source": [
        "fpr = dict()\n",
        "tpr = dict()\n",
        "roc_auc = dict()\n",
        "lw = 2\n",
        "fpr, tpr, thresholds = roc_curve(validation_y, y_pred)\n",
        "roc_auc = auc(fpr, tpr)\n",
        "plt.plot(fpr, tpr, 'k--', label = 'ROC(area = {0:2f})'.format(roc_auc), lw=2)\n",
        "plt.xlim([-0.05, 1.05])\n",
        "plt.ylim([-0.05, 1.05])\n",
        "plt.xlabel('FPR')\n",
        "plt.ylabel('TPR')\n",
        "plt.legend(loc = 'lower right')\n",
        "plt.show()"
      ],
      "metadata": {
        "id": "maLqo1Fp_tuO"
      },
      "execution_count": null,
      "outputs": []
    },
    {
      "cell_type": "code",
      "source": [
        "from sklearn.metrics import confusion_matrix\n",
        "from sklearn.metrics import plot_confusion_matrix\n",
        "\n",
        "color = 'black'\n",
        "matrix = plot_confusion_matrix(knn_model, validation_x_hashed, validation_y, cmap=plt.cm.Blues)\n",
        "matrix.ax_.set_title('KNN Confusion Matrix', color=color)\n",
        "plt.xlabel('Predicted Label', color=color)\n",
        "plt.ylabel('True Label', color=color)\n",
        "plt.gcf().axes[0].tick_params(colors=color)\n",
        "plt.gcf().axes[1].tick_params(colors=color)\n",
        "plt.show()"
      ],
      "metadata": {
        "id": "0wjx0Hb3_wLN"
      },
      "execution_count": null,
      "outputs": []
    },
    {
      "cell_type": "code",
      "source": [
        "from sklearn.metrics import precision_score\n",
        "from sklearn.metrics import recall_score\n",
        "\n",
        "print(precision_score(validation_y, y_pred, average='macro'))\n",
        "\n",
        "print(recall_score(validation_y, y_pred, average='macro'))"
      ],
      "metadata": {
        "id": "CKSS19uIBncU"
      },
      "execution_count": null,
      "outputs": []
    },
    {
      "cell_type": "markdown",
      "source": [
        "# Random Forest"
      ],
      "metadata": {
        "id": "RAx7Fem_91gi"
      }
    },
    {
      "cell_type": "code",
      "source": [
        "from sklearn.ensemble import RandomForestClassifier\n",
        "\n",
        "def random_forest(train_x, train_y, validation_x, validation_y, n_est=100):\n",
        "  clf = RandomForestClassifier(n_estimators = n_est, min_samples_split=2, min_samples_leaf=4, max_depth=90, bootstrap=True) \n",
        "  clf.fit(train_x, train_y)\n",
        "  y_pred = clf.predict(validation_x)\n",
        "  accuracy = metrics.accuracy_score(validation_y, y_pred)\n",
        "  model = clf\n",
        "  return accuracy, y_pred, model"
      ],
      "metadata": {
        "id": "pC7gl5Pj92CT"
      },
      "execution_count": null,
      "outputs": []
    },
    {
      "cell_type": "code",
      "source": [
        "validation_accuracy, y_pred,random_forest_model = random_forest(train_x_hashed, train_y, validation_x_hashed, validation_y, 30)\n",
        "print(validation_accuracy)\n",
        "fpr = dict()\n",
        "tpr = dict()\n",
        "roc_auc = dict()\n",
        "lw = 2\n",
        "fpr, tpr, thresholds = roc_curve(validation_y, y_pred)\n",
        "roc_auc = auc(fpr, tpr)\n",
        "plt.plot(fpr, tpr, 'k--', label = 'ROC(area = {0:2f})'.format(roc_auc), lw=2)\n",
        "plt.xlim([-0.05, 1.05])\n",
        "plt.ylim([-0.05, 1.05])\n",
        "plt.xlabel('FPR')\n",
        "plt.ylabel('TPR')\n",
        "plt.legend(loc = 'lower right')\n",
        "plt.show()"
      ],
      "metadata": {
        "colab": {
          "base_uri": "https://localhost:8080/",
          "height": 296
        },
        "id": "xR0bIpHsBxMc",
        "outputId": "d46f1057-0fc3-4e65-eac9-238f895dc477"
      },
      "execution_count": null,
      "outputs": [
        {
          "output_type": "stream",
          "name": "stdout",
          "text": [
            "0.8543713231535609\n"
          ]
        },
        {
          "output_type": "display_data",
          "data": {
            "text/plain": [
              "<Figure size 432x288 with 1 Axes>"
            ],
            "image/png": "[encoded data removed]"
          },
          "metadata": {
            "needs_background": "light"
          }
        }
      ]
    },
    {
      "cell_type": "code",
      "source": [
        "from sklearn.metrics import confusion_matrix\n",
        "from sklearn.metrics import plot_confusion_matrix\n",
        "\n",
        "color = 'black'\n",
        "matrix = plot_confusion_matrix(random_forest_model, validation_x_hashed, validation_y, cmap=plt.cm.Blues)\n",
        "matrix.ax_.set_title('Confusion Matrix', color=color)\n",
        "plt.xlabel('Predicted Label', color=color)\n",
        "plt.ylabel('True Label', color=color)\n",
        "plt.gcf().axes[0].tick_params(colors=color)\n",
        "plt.gcf().axes[1].tick_params(colors=color)\n",
        "plt.show()"
      ],
      "metadata": {
        "colab": {
          "base_uri": "https://localhost:8080/",
          "height": 349
        },
        "id": "dnPsCF11BzEn",
        "outputId": "5425e25c-4d9f-4307-dc81-cac137cf56ed"
      },
      "execution_count": null,
      "outputs": [
        {
          "output_type": "stream",
          "name": "stderr",
          "text": [
            "/usr/local/lib/python3.8/dist-packages/sklearn/utils/deprecation.py:87: FutureWarning: Function plot_confusion_matrix is deprecated; Function `plot_confusion_matrix` is deprecated in 1.0 and will be removed in 1.2. Use one of the class methods: ConfusionMatrixDisplay.from_predictions or ConfusionMatrixDisplay.from_estimator.\n",
            "  warnings.warn(msg, category=FutureWarning)\n"
          ]
        },
        {
          "output_type": "display_data",
          "data": {
            "text/plain": [
              "<Figure size 432x288 with 2 Axes>"
            ],
            "image/png": "[encoded data removed]"
          },
          "metadata": {
            "needs_background": "light"
          }
        }
      ]
    },
    {
      "cell_type": "code",
      "source": [
        "from sklearn.metrics import precision_score\n",
        "from sklearn.metrics import recall_score\n",
        "\n",
        "print(precision_score(validation_y, y_pred, average='macro'))\n",
        "\n",
        "print(recall_score(validation_y, y_pred, average='macro'))"
      ],
      "metadata": {
        "colab": {
          "base_uri": "https://localhost:8080/"
        },
        "id": "6FTDqwHYB1Rn",
        "outputId": "407fad9a-c66f-47bf-eaa2-77e536e905f2"
      },
      "execution_count": null,
      "outputs": [
        {
          "output_type": "stream",
          "name": "stdout",
          "text": [
            "0.8587081055236246\n",
            "0.8543713231535609\n"
          ]
        }
      ]
    },
    {
      "cell_type": "code",
      "source": [
        "from sklearn.model_selection import RandomizedSearchCV\n",
        "\n",
        "# Create a search grid of parameters that will be shuffled through\n",
        "\n",
        "n_estimators = [5, 10, 15, 16, 17, 18, 19, 20, 21, 22, 23, 24, 25, 30, 35, 40] # number of trees in the random forest\n",
        "max_features = ['auto', 'sqrt'] # number of features in consideration at every split\n",
        "max_depth = [int(x) for x in np.linspace(10, 120, num = 12)] # maximum number of levels allowed in each decision tree\n",
        "min_samples_split = [2, 3, 4, 5, 6, 7, 8, 9,10] # minimum sample number to split a node\n",
        "min_samples_leaf = [1, 2, 3, 4] # minimum sample number that can be stored in a leaf node\n",
        "bootstrap = [True, False] # method used to sample data points\n",
        "\n",
        "random_grid = {'n_estimators': n_estimators,\n",
        "\n",
        "'max_features': max_features,\n",
        "\n",
        "'max_depth': max_depth,\n",
        "\n",
        "'min_samples_split': min_samples_split,\n",
        "\n",
        "'min_samples_leaf': min_samples_leaf,\n",
        "\n",
        "'bootstrap': bootstrap}\n",
        "\n",
        "rf = RandomForestClassifier()\n",
        "\n",
        "rf_random = RandomizedSearchCV(estimator = rf,param_distributions = random_grid,\n",
        "               n_iter = 100, cv = 5, verbose=2, random_state=35, n_jobs = -1)\n",
        "rf_random = RandomizedSearchCV(estimator = rf,param_distributions = random_grid,\n",
        "               n_iter = 100, cv = 5, verbose=2, random_state=35, n_jobs = -1)\n",
        "rf_random.fit(train_x_hashed, train_y)\n",
        "\n",
        "print ('Random grid: ', random_grid, '\\n')\n",
        "# print the best parameters\n",
        "print ('Best Parameters: ', rf_random.best_params_, ' \\n')"
      ],
      "metadata": {
        "colab": {
          "base_uri": "https://localhost:8080/"
        },
        "id": "yZ5iI915B5Xq",
        "outputId": "84a31783-fc47-4421-9479-f1f7e5493141"
      },
      "execution_count": null,
      "outputs": [
        {
          "output_type": "stream",
          "name": "stdout",
          "text": [
            "Fitting 5 folds for each of 100 candidates, totalling 500 fits\n",
            "Random grid:  {'n_estimators': [5, 10, 15, 16, 17, 18, 19, 20, 21, 22, 23, 24, 25, 30, 35, 40], 'max_features': ['auto', 'sqrt'], 'max_depth': [10, 20, 30, 40, 50, 60, 70, 80, 90, 100, 110, 120], 'min_samples_split': [2, 3, 4, 5, 6, 7, 8, 9, 10], 'min_samples_leaf': [1, 2, 3, 4], 'bootstrap': [True, False]} \n",
            "\n",
            "Best Parameters:  {'n_estimators': 30, 'min_samples_split': 2, 'min_samples_leaf': 3, 'max_features': 'auto', 'max_depth': 20, 'bootstrap': False}  \n",
            "\n"
          ]
        }
      ]
    },
    {
      "cell_type": "code",
      "source": [
        "from matplotlib.pyplot import figure\n",
        "\n",
        "figure(figsize=(6, 6), dpi=80)\n",
        "\n",
        "features = [f\"feature {i}\" for i in range(train_x.shape[1])]\n",
        "importances = random_forest_model.feature_importances_\n",
        "indices = np.argsort(importances)\n",
        "\n",
        "plt.title('Feature Importances')\n",
        "plt.barh(range(len(indices)), importances[indices], color='b', align='center')\n",
        "plt.yticks(range(len(indices)), [features[i] for i in indices])\n",
        "plt.xlabel('Relative Importance')\n",
        "plt.show()"
      ],
      "metadata": {
        "colab": {
          "base_uri": "https://localhost:8080/",
          "height": 444
        },
        "id": "WTlQkgvbCDs0",
        "outputId": "3e4146d1-b3af-47d9-97d4-16850f78f8fa"
      },
      "execution_count": null,
      "outputs": [
        {
          "output_type": "display_data",
          "data": {
            "text/plain": [
              "<Figure size 480x480 with 1 Axes>"
            ],
            "image/png": "[encoded data removed]"
          },
          "metadata": {
            "needs_background": "light"
          }
        }
      ]
    },
    {
      "cell_type": "code",
      "source": [
        "from sklearn.tree import export_graphviz\n",
        "\n",
        "# Export as dot file\n",
        "export_graphviz(random_forest_model.estimators_[0], out_file='tree.dot', \n",
        "                feature_names = train_x.columns, filled=True,\n",
        "                rounded=True)\n",
        "\n",
        "# Convert to png\n",
        "from subprocess import call\n",
        "call(['dot', '-Tpng', 'tree.dot', '-o', 'tree.png', '-Gdpi=600'])\n",
        "\n",
        "# Display in python\n",
        "import matplotlib.pyplot as plt\n",
        "plt.figure(figsize = (14, 18))\n",
        "plt.imshow(plt.imread('tree.png'))\n",
        "plt.axis('off');\n",
        "plt.show();"
      ],
      "metadata": {
        "colab": {
          "base_uri": "https://localhost:8080/",
          "height": 34
        },
        "id": "m0h0jJLUCIpe",
        "outputId": "d658dfc8-2e79-4ea0-ad26-2ab78a92e3b5"
      },
      "execution_count": null,
      "outputs": [
        {
          "output_type": "display_data",
          "data": {
            "text/plain": [
              "<Figure size 1008x1296 with 1 Axes>"
            ],
            "image/png": "[encoded data removed]"
          },
          "metadata": {
            "needs_background": "light"
          }
        }
      ]
    },
    {
      "cell_type": "markdown",
      "source": [
        "# Neural Network1"
      ],
      "metadata": {
        "id": "GPmjXFcn92sr"
      }
    },
    {
      "cell_type": "code",
      "source": [
        "import keras\n",
        "from keras.models import Sequential\n",
        "from keras.layers import Dense\n",
        "from keras.layers import Dropout\n",
        "\n",
        "model = Sequential([\n",
        "    Dense(units=12, input_dim=19,activation='relu'),\n",
        "    Dense(units=9, activation='relu'),\n",
        "    Dense(units=1, activation='sigmoid')\n",
        "])\n",
        "\n",
        "model.summary()"
      ],
      "metadata": {
        "colab": {
          "base_uri": "https://localhost:8080/"
        },
        "id": "-Bk0vQR893N0",
        "outputId": "8531d929-ffad-43e6-e189-8b7bab728299"
      },
      "execution_count": null,
      "outputs": [
        {
          "output_type": "stream",
          "name": "stdout",
          "text": [
            "Model: \"sequential_1\"\n",
            "_________________________________________________________________\n",
            " Layer (type)                Output Shape              Param #   \n",
            "=================================================================\n",
            " dense_3 (Dense)             (None, 12)                240       \n",
            "                                                                 \n",
            " dense_4 (Dense)             (None, 9)                 117       \n",
            "                                                                 \n",
            " dense_5 (Dense)             (None, 1)                 10        \n",
            "                                                                 \n",
            "=================================================================\n",
            "Total params: 367\n",
            "Trainable params: 367\n",
            "Non-trainable params: 0\n",
            "_________________________________________________________________\n"
          ]
        }
      ]
    },
    {
      "cell_type": "code",
      "source": [
        "model.compile(optimizer='adam',\n",
        "            loss='binary_crossentropy',\n",
        "            metrics=['accuracy'])"
      ],
      "metadata": {
        "id": "XlhuVCpfDFA3"
      },
      "execution_count": null,
      "outputs": []
    },
    {
      "cell_type": "code",
      "source": [
        "history = model.fit(x=train_x_hashed, y=train_y, epochs=100)"
      ],
      "metadata": {
        "colab": {
          "base_uri": "https://localhost:8080/"
        },
        "id": "LamSoc8pDPL4",
        "outputId": "d1baa926-bd57-4389-90c3-569bdbb61cf3"
      },
      "execution_count": null,
      "outputs": [
        {
          "output_type": "stream",
          "name": "stdout",
          "text": [
            "Epoch 1/100\n",
            "23538/23538 [==============================] - 39s 2ms/step - loss: 0.1897 - accuracy: 0.9483\n",
            "Epoch 2/100\n",
            "23538/23538 [==============================] - 37s 2ms/step - loss: 0.1881 - accuracy: 0.9490\n",
            "Epoch 3/100\n",
            "23538/23538 [==============================] - 37s 2ms/step - loss: 0.1858 - accuracy: 0.9497\n",
            "Epoch 4/100\n",
            "23538/23538 [==============================] - 37s 2ms/step - loss: 0.1820 - accuracy: 0.9505\n",
            "Epoch 5/100\n",
            "23538/23538 [==============================] - 37s 2ms/step - loss: 0.1789 - accuracy: 0.9507\n",
            "Epoch 6/100\n",
            "23538/23538 [==============================] - 37s 2ms/step - loss: 0.1770 - accuracy: 0.9507\n",
            "Epoch 7/100\n",
            "23538/23538 [==============================] - 37s 2ms/step - loss: 0.1761 - accuracy: 0.9507\n",
            "Epoch 8/100\n",
            "23538/23538 [==============================] - 37s 2ms/step - loss: 0.1749 - accuracy: 0.9507\n",
            "Epoch 9/100\n",
            "23538/23538 [==============================] - 38s 2ms/step - loss: 0.1737 - accuracy: 0.9508\n",
            "Epoch 10/100\n",
            "23538/23538 [==============================] - 37s 2ms/step - loss: 0.1735 - accuracy: 0.9508\n",
            "Epoch 11/100\n",
            "23538/23538 [==============================] - 37s 2ms/step - loss: 0.1727 - accuracy: 0.9510\n",
            "Epoch 12/100\n",
            "23538/23538 [==============================] - 37s 2ms/step - loss: 0.1726 - accuracy: 0.9508\n",
            "Epoch 13/100\n",
            "23538/23538 [==============================] - 37s 2ms/step - loss: 0.1724 - accuracy: 0.9509\n",
            "Epoch 14/100\n",
            "23538/23538 [==============================] - 37s 2ms/step - loss: 0.1720 - accuracy: 0.9511\n",
            "Epoch 15/100\n",
            "23538/23538 [==============================] - 37s 2ms/step - loss: 0.1720 - accuracy: 0.9510\n",
            "Epoch 16/100\n",
            "23538/23538 [==============================] - 37s 2ms/step - loss: 0.1720 - accuracy: 0.9510\n",
            "Epoch 17/100\n",
            "23538/23538 [==============================] - 38s 2ms/step - loss: 0.1714 - accuracy: 0.9511\n",
            "Epoch 18/100\n",
            "23538/23538 [==============================] - 37s 2ms/step - loss: 0.1718 - accuracy: 0.9509\n",
            "Epoch 19/100\n",
            "23538/23538 [==============================] - 38s 2ms/step - loss: 0.1712 - accuracy: 0.9511\n",
            "Epoch 20/100\n",
            "23538/23538 [==============================] - 37s 2ms/step - loss: 0.1712 - accuracy: 0.9510\n",
            "Epoch 21/100\n",
            "23538/23538 [==============================] - 37s 2ms/step - loss: 0.1710 - accuracy: 0.9510\n",
            "Epoch 22/100\n",
            "23538/23538 [==============================] - 37s 2ms/step - loss: 0.1710 - accuracy: 0.9510\n",
            "Epoch 23/100\n",
            "23538/23538 [==============================] - 37s 2ms/step - loss: 0.1707 - accuracy: 0.9511\n",
            "Epoch 24/100\n",
            "23538/23538 [==============================] - 37s 2ms/step - loss: 0.1704 - accuracy: 0.9511\n",
            "Epoch 25/100\n",
            "23538/23538 [==============================] - 37s 2ms/step - loss: 0.1704 - accuracy: 0.9511\n",
            "Epoch 26/100\n",
            "23538/23538 [==============================] - 38s 2ms/step - loss: 0.1704 - accuracy: 0.9510\n",
            "Epoch 27/100\n",
            "23538/23538 [==============================] - 37s 2ms/step - loss: 0.1704 - accuracy: 0.9511\n",
            "Epoch 28/100\n",
            "23538/23538 [==============================] - 37s 2ms/step - loss: 0.1702 - accuracy: 0.9511\n",
            "Epoch 29/100\n",
            "23538/23538 [==============================] - 43s 2ms/step - loss: 0.1701 - accuracy: 0.9511\n",
            "Epoch 30/100\n",
            "23538/23538 [==============================] - 37s 2ms/step - loss: 0.1706 - accuracy: 0.9510\n",
            "Epoch 31/100\n",
            "23538/23538 [==============================] - 37s 2ms/step - loss: 0.1700 - accuracy: 0.9512\n",
            "Epoch 32/100\n",
            "23538/23538 [==============================] - 37s 2ms/step - loss: 0.1701 - accuracy: 0.9512\n",
            "Epoch 33/100\n",
            "23538/23538 [==============================] - 37s 2ms/step - loss: 0.1699 - accuracy: 0.9512\n",
            "Epoch 34/100\n",
            "23538/23538 [==============================] - 38s 2ms/step - loss: 0.1701 - accuracy: 0.9512\n",
            "Epoch 35/100\n",
            "23538/23538 [==============================] - 37s 2ms/step - loss: 0.1699 - accuracy: 0.9512\n",
            "Epoch 36/100\n",
            "23538/23538 [==============================] - 37s 2ms/step - loss: 0.1697 - accuracy: 0.9512\n",
            "Epoch 37/100\n",
            "23538/23538 [==============================] - 37s 2ms/step - loss: 0.1699 - accuracy: 0.9512\n",
            "Epoch 38/100\n",
            "23538/23538 [==============================] - 37s 2ms/step - loss: 0.1697 - accuracy: 0.9512\n",
            "Epoch 39/100\n",
            "23538/23538 [==============================] - 37s 2ms/step - loss: 0.1700 - accuracy: 0.9513\n",
            "Epoch 40/100\n",
            "23538/23538 [==============================] - 37s 2ms/step - loss: 0.1699 - accuracy: 0.9512\n",
            "Epoch 41/100\n",
            "23538/23538 [==============================] - 37s 2ms/step - loss: 0.1696 - accuracy: 0.9514\n",
            "Epoch 42/100\n",
            "23538/23538 [==============================] - 37s 2ms/step - loss: 0.1694 - accuracy: 0.9514\n",
            "Epoch 43/100\n",
            "23538/23538 [==============================] - 37s 2ms/step - loss: 0.1696 - accuracy: 0.9513\n",
            "Epoch 44/100\n",
            "23538/23538 [==============================] - 37s 2ms/step - loss: 0.1697 - accuracy: 0.9512\n",
            "Epoch 45/100\n",
            "23538/23538 [==============================] - 37s 2ms/step - loss: 0.1695 - accuracy: 0.9514\n",
            "Epoch 46/100\n",
            "23538/23538 [==============================] - 37s 2ms/step - loss: 0.1695 - accuracy: 0.9514\n",
            "Epoch 47/100\n",
            "23538/23538 [==============================] - 37s 2ms/step - loss: 0.1694 - accuracy: 0.9513\n",
            "Epoch 48/100\n",
            "23538/23538 [==============================] - 37s 2ms/step - loss: 0.1695 - accuracy: 0.9514\n",
            "Epoch 49/100\n",
            "23538/23538 [==============================] - 37s 2ms/step - loss: 0.1692 - accuracy: 0.9514\n",
            "Epoch 50/100\n",
            "23538/23538 [==============================] - 38s 2ms/step - loss: 0.1693 - accuracy: 0.9514\n",
            "Epoch 51/100\n",
            "23538/23538 [==============================] - 38s 2ms/step - loss: 0.1692 - accuracy: 0.9515\n",
            "Epoch 52/100\n",
            "23538/23538 [==============================] - 37s 2ms/step - loss: 0.1695 - accuracy: 0.9514\n",
            "Epoch 53/100\n",
            "23538/23538 [==============================] - 37s 2ms/step - loss: 0.1691 - accuracy: 0.9515\n",
            "Epoch 54/100\n",
            "23538/23538 [==============================] - 37s 2ms/step - loss: 0.1691 - accuracy: 0.9515\n",
            "Epoch 55/100\n",
            "23538/23538 [==============================] - 37s 2ms/step - loss: 0.1692 - accuracy: 0.9515\n",
            "Epoch 56/100\n",
            "23538/23538 [==============================] - 37s 2ms/step - loss: 0.1690 - accuracy: 0.9515\n",
            "Epoch 57/100\n",
            "23538/23538 [==============================] - 37s 2ms/step - loss: 0.1693 - accuracy: 0.9514\n",
            "Epoch 58/100\n",
            "23538/23538 [==============================] - 37s 2ms/step - loss: 0.1692 - accuracy: 0.9515\n",
            "Epoch 59/100\n",
            "23538/23538 [==============================] - 38s 2ms/step - loss: 0.1691 - accuracy: 0.9513\n",
            "Epoch 60/100\n",
            "23538/23538 [==============================] - 37s 2ms/step - loss: 0.1692 - accuracy: 0.9514\n",
            "Epoch 61/100\n",
            "23538/23538 [==============================] - 37s 2ms/step - loss: 0.1690 - accuracy: 0.9515\n",
            "Epoch 62/100\n",
            "23538/23538 [==============================] - 37s 2ms/step - loss: 0.1690 - accuracy: 0.9514\n",
            "Epoch 63/100\n",
            "23538/23538 [==============================] - 37s 2ms/step - loss: 0.1690 - accuracy: 0.9515\n",
            "Epoch 64/100\n",
            "23538/23538 [==============================] - 37s 2ms/step - loss: 0.1690 - accuracy: 0.9515\n",
            "Epoch 65/100\n",
            "23538/23538 [==============================] - 37s 2ms/step - loss: 0.1688 - accuracy: 0.9515\n",
            "Epoch 66/100\n",
            "23538/23538 [==============================] - 37s 2ms/step - loss: 0.1692 - accuracy: 0.9514\n",
            "Epoch 67/100\n",
            "23538/23538 [==============================] - 38s 2ms/step - loss: 0.1689 - accuracy: 0.9514\n",
            "Epoch 68/100\n",
            "14189/23538 [=================>............] - ETA: 14s - loss: 0.1689 - accuracy: 0.9515"
          ]
        }
      ]
    },
    {
      "cell_type": "code",
      "source": [
        "import matplotlib\n",
        "import matplotlib.pyplot as plt\n",
        "\n",
        "plt.figure(figsize=(10, 8), dpi=80)\n",
        "plt.plot(history.history['accuracy'])\n",
        "plt.title('Model accuracy')\n",
        "plt.ylabel('accuracy')\n",
        "plt.xlabel('epoch')\n",
        "plt.legend(['train'], loc='upper left')\n",
        "plt.show()"
      ],
      "metadata": {
        "colab": {
          "base_uri": "https://localhost:8080/",
          "height": 565
        },
        "id": "W80iXvvwDJRE",
        "outputId": "d9dd3bed-bec8-4bf8-c3d8-6add7c80b33c"
      },
      "execution_count": null,
      "outputs": [
        {
          "output_type": "display_data",
          "data": {
            "text/plain": [
              "<Figure size 800x640 with 1 Axes>"
            ],
            "image/png": "[encoded data removed]"
          },
          "metadata": {
            "needs_background": "light"
          }
        }
      ]
    },
    {
      "cell_type": "code",
      "source": [
        "# summarize history for loss\n",
        "plt.figure(figsize=(20, 8), dpi=80)\n",
        "plt.plot(history.history['loss'])\n",
        "plt.title('model loss')\n",
        "plt.ylabel('loss')\n",
        "plt.xlabel('epoch')\n",
        "plt.legend(['train'], loc='upper left')\n",
        "plt.show()"
      ],
      "metadata": {
        "colab": {
          "base_uri": "https://localhost:8080/",
          "height": 565
        },
        "id": "TRIkEj4_DYju",
        "outputId": "4c01bc80-595e-40fa-dfd9-f1ac4debc117"
      },
      "execution_count": null,
      "outputs": [
        {
          "output_type": "display_data",
          "data": {
            "text/plain": [
              "<Figure size 1600x640 with 1 Axes>"
            ],
            "image/png": "[encoded data removed]"
          },
          "metadata": {
            "needs_background": "light"
          }
        }
      ]
    },
    {
      "cell_type": "code",
      "source": [
        "y_pred = (model.predict(validation_x_hashed) > 0.5).astype(\"int32\")\n",
        "\n",
        "fpr = dict()\n",
        "tpr = dict()\n",
        "roc_auc = dict()\n",
        "lw = 2\n",
        "fpr, tpr, thresholds = roc_curve(validation_y, y_pred)\n",
        "roc_auc = auc(fpr, tpr)\n",
        "plt.plot(fpr, tpr, 'k--', label = 'ROC(area = {0:2f})'.format(roc_auc), lw=2)\n",
        "plt.xlim([-0.05, 1.05])\n",
        "plt.ylim([-0.05, 1.05])\n",
        "plt.xlabel('FPR')\n",
        "plt.ylabel('TPR')\n",
        "plt.legend(loc = 'lower right')\n",
        "plt.show()"
      ],
      "metadata": {
        "colab": {
          "base_uri": "https://localhost:8080/",
          "height": 296
        },
        "id": "YC7Xj5ltmVHC",
        "outputId": "31e72df9-b285-4a55-b225-497ce7a8793c"
      },
      "execution_count": null,
      "outputs": [
        {
          "output_type": "stream",
          "name": "stdout",
          "text": [
            "6725/6725 [==============================] - 7s 965us/step\n"
          ]
        },
        {
          "output_type": "display_data",
          "data": {
            "text/plain": [
              "<Figure size 432x288 with 1 Axes>"
            ],
            "image/png": "[encoded data removed]"
          },
          "metadata": {
            "needs_background": "light"
          }
        }
      ]
    },
    {
      "cell_type": "code",
      "source": [
        "import sklearn.metrics as metrics\n",
        "from sklearn.metrics import ConfusionMatrixDisplay\n",
        "\n",
        "color = 'black'\n",
        "matrix = metrics.confusion_matrix(y_true=validation_y, y_pred=y_pred)  # shape=(12, 12)\n",
        "\n",
        "disp = ConfusionMatrixDisplay(confusion_matrix=matrix, display_labels=['True', 'False'])\n",
        "\n",
        "disp.plot(cmap=plt.cm.Blues)\n",
        "plt.title('Confusion Matrix', color=color)\n",
        "plt.show()"
      ],
      "metadata": {
        "colab": {
          "base_uri": "https://localhost:8080/",
          "height": 295
        },
        "id": "rgJgo66Lmbm6",
        "outputId": "de0c4944-c9bb-42bd-d244-c221bcaac662"
      },
      "execution_count": null,
      "outputs": [
        {
          "output_type": "display_data",
          "data": {
            "text/plain": [
              "<Figure size 432x288 with 2 Axes>"
            ],
            "image/png": "[encoded data removed]"
          },
          "metadata": {
            "needs_background": "light"
          }
        }
      ]
    },
    {
      "cell_type": "code",
      "source": [
        "from sklearn.metrics import precision_score\n",
        "from sklearn.metrics import recall_score\n",
        "\n",
        "print(precision_score(validation_y, y_pred, average='macro'))\n",
        "\n",
        "print(recall_score(validation_y, y_pred, average='macro'))"
      ],
      "metadata": {
        "colab": {
          "base_uri": "https://localhost:8080/"
        },
        "id": "jQITu3kDmmQu",
        "outputId": "7ec24b29-22be-4014-adc4-3eeaca4bd0da"
      },
      "execution_count": null,
      "outputs": [
        {
          "output_type": "stream",
          "name": "stdout",
          "text": [
            "0.8628347633345939\n",
            "0.857280272121488\n"
          ]
        }
      ]
    },
    {
      "cell_type": "code",
      "source": [
        "acc = model.evaluate(x=validation_x_hashed, y=validation_y)"
      ],
      "metadata": {
        "colab": {
          "base_uri": "https://localhost:8080/"
        },
        "id": "E6PU9sCZmpcv",
        "outputId": "62b94ea3-80bb-4c73-f361-367a4b48c663"
      },
      "execution_count": null,
      "outputs": [
        {
          "output_type": "stream",
          "name": "stdout",
          "text": [
            "6725/6725 [==============================] - 8s 1ms/step - loss: 0.5077 - accuracy: 0.8573\n"
          ]
        }
      ]
    },
    {
      "cell_type": "markdown",
      "source": [
        "# Correaltion Map"
      ],
      "metadata": {
        "id": "uhTtKMcfC7ca"
      }
    },
    {
      "cell_type": "code",
      "source": [
        "original_data"
      ],
      "metadata": {
        "colab": {
          "base_uri": "https://localhost:8080/",
          "height": 500
        },
        "id": "Fycd4aRfw9lJ",
        "outputId": "ed10fca1-987e-4645-b4a6-55179a25a990"
      },
      "execution_count": null,
      "outputs": [
        {
          "output_type": "execute_result",
          "data": {
            "text/plain": [
              "         General_Record_Type General_Resident_status  \\\n",
              "0                          2                       2   \n",
              "1                          1                       1   \n",
              "2                          1                       1   \n",
              "3                          1                       1   \n",
              "4                          1                       1   \n",
              "...                      ...                     ...   \n",
              "26459854                   1                       1   \n",
              "26459855                   1                       1   \n",
              "26459856                   2                       2   \n",
              "26459857                   1                       1   \n",
              "26459858                   2                       2   \n",
              "\n",
              "         General_Place_of_death_and_decedents_status  \\\n",
              "0                                                  6   \n",
              "1                                                  4   \n",
              "2                                                  4   \n",
              "3                                                  4   \n",
              "4                                                  4   \n",
              "...                                              ...   \n",
              "26459854                                           1   \n",
              "26459855                                           4   \n",
              "26459856                                           1   \n",
              "26459857                                           4   \n",
              "26459858                                           1   \n",
              "\n",
              "         General_Day_of_week_of_death General_Data_year  \\\n",
              "0                                   6              2010   \n",
              "1                                   1              2010   \n",
              "2                                   1              2010   \n",
              "3                                   6              2010   \n",
              "4                                   7              2010   \n",
              "...                               ...               ...   \n",
              "26459854                            7              2019   \n",
              "26459855                            2              2019   \n",
              "26459856                            2              2019   \n",
              "26459857                            1              2019   \n",
              "26459858                            1              2019   \n",
              "\n",
              "         General_Manner_of_death Occurrence_State(FIPS)  \\\n",
              "0                              7                     AK   \n",
              "1                              7                     AK   \n",
              "2                              7                     AK   \n",
              "3                              7                     AK   \n",
              "4                              2                     AK   \n",
              "...                          ...                    ...   \n",
              "26459854                       7                     NY   \n",
              "26459855                       7                     NY   \n",
              "26459856                       7                     NY   \n",
              "26459857                       7                     NY   \n",
              "26459858                       7                     NY   \n",
              "\n",
              "         Occurrence_County(FIPS) Occurrence_County_Population_size  \\\n",
              "0                            020                                 2   \n",
              "1                            170                                 4   \n",
              "2                            170                                 4   \n",
              "3                            020                                 2   \n",
              "4                            170                                 4   \n",
              "...                          ...                               ...   \n",
              "26459854                     005                                 0   \n",
              "26459855                     005                                 0   \n",
              "26459856                     005                                 0   \n",
              "26459857                     005                                 0   \n",
              "26459858                     081                                 0   \n",
              "\n",
              "         Residence_State(FIPS)  ... The_Decedent_Date_of_Death  \\\n",
              "0                           AK  ...                         01   \n",
              "1                           AK  ...                         01   \n",
              "2                           AK  ...                         01   \n",
              "3                           AK  ...                         01   \n",
              "4                           AK  ...                         01   \n",
              "...                        ...  ...                        ...   \n",
              "26459854                    NY  ...                         05   \n",
              "26459855                    NY  ...                         10   \n",
              "26459856                    NY  ...                         12   \n",
              "26459857                    NY  ...                         12   \n",
              "26459858                    NY  ...                         12   \n",
              "\n",
              "         The_Decedent_Sex The_Decedent_Age The_Decedent_Marital_status  \\\n",
              "0                       F             1068                           D   \n",
              "1                       F             1012                           S   \n",
              "2                       F             1075                           D   \n",
              "3                       M             1061                           W   \n",
              "4                       F             1046                           M   \n",
              "...                   ...              ...                         ...   \n",
              "26459854                M             1049                           U   \n",
              "26459855                M             1066                           S   \n",
              "26459856                M             1050                           M   \n",
              "26459857                F             1082                           W   \n",
              "26459858                F             1047                           S   \n",
              "\n",
              "         The_Decedent_State_or_country_of_birth The_Decedent_Education  \\\n",
              "0                                        AK  AK                      2   \n",
              "1                                        AK  AK                      1   \n",
              "2                                        OR  OR                      2   \n",
              "3                                        ZZ  YY                      2   \n",
              "4                                        CT  CT                      4   \n",
              "...                                         ...                    ...   \n",
              "26459854                                 ZZ  ZZ                      9   \n",
              "26459855                                 ZZ  ZZ                      9   \n",
              "26459856                                 ZZ  YY                      8   \n",
              "26459857                                 ZZ  YY                      3   \n",
              "26459858                                 ZZ  YY                      2   \n",
              "\n",
              "         Underlying_Cause_ICD-10_code The_Decedent_Race_Recode_5  \\\n",
              "0                                G049                          3   \n",
              "1                                C37                           1   \n",
              "2                                C719                          1   \n",
              "3                                F03                           4   \n",
              "4                                X72                           1   \n",
              "...                               ...                        ...   \n",
              "26459854                         K590                          1   \n",
              "26459855                         C61                           1   \n",
              "26459856                         D761                          2   \n",
              "26459857                         E854                          2   \n",
              "26459858                         N185                          2   \n",
              "\n",
              "         The_Decedent_Hispanic_Origin/Race_Recode The_Decedent_Race  \n",
              "0                                               8                 3  \n",
              "1                                               6                 1  \n",
              "2                                               6                 1  \n",
              "3                                               8                 4  \n",
              "4                                               6                 1  \n",
              "...                                           ...               ...  \n",
              "26459854                                        9                 1  \n",
              "26459855                                        9                 1  \n",
              "26459856                                        7                 2  \n",
              "26459857                                        7                 2  \n",
              "26459858                                        7                 2  \n",
              "\n",
              "[26459859 rows x 22 columns]"
            ],
            "text/html": [
              "\n",
              "  <div id=\"df-f67baba0-f608-461f-a745-59c899b02150\">\n",
              "    <div class=\"colab-df-container\">\n",
              "      <div>\n",
              "<style scoped>\n",
              "    .dataframe tbody tr th:only-of-type {\n",
              "        vertical-align: middle;\n",
              "    }\n",
              "\n",
              "    .dataframe tbody tr th {\n",
              "        vertical-align: top;\n",
              "    }\n",
              "\n",
              "    .dataframe thead th {\n",
              "        text-align: right;\n",
              "    }\n",
              "</style>\n",
              "<table border=\"1\" class=\"dataframe\">\n",
              "  <thead>\n",
              "    <tr style=\"text-align: right;\">\n",
              "      <th></th>\n",
              "      <th>General_Record_Type</th>\n",
              "      <th>General_Resident_status</th>\n",
              "      <th>General_Place_of_death_and_decedents_status</th>\n",
              "      <th>General_Day_of_week_of_death</th>\n",
              "      <th>General_Data_year</th>\n",
              "      <th>General_Manner_of_death</th>\n",
              "      <th>Occurrence_State(FIPS)</th>\n",
              "      <th>Occurrence_County(FIPS)</th>\n",
              "      <th>Occurrence_County_Population_size</th>\n",
              "      <th>Residence_State(FIPS)</th>\n",
              "      <th>...</th>\n",
              "      <th>The_Decedent_Date_of_Death</th>\n",
              "      <th>The_Decedent_Sex</th>\n",
              "      <th>The_Decedent_Age</th>\n",
              "      <th>The_Decedent_Marital_status</th>\n",
              "      <th>The_Decedent_State_or_country_of_birth</th>\n",
              "      <th>The_Decedent_Education</th>\n",
              "      <th>Underlying_Cause_ICD-10_code</th>\n",
              "      <th>The_Decedent_Race_Recode_5</th>\n",
              "      <th>The_Decedent_Hispanic_Origin/Race_Recode</th>\n",
              "      <th>The_Decedent_Race</th>\n",
              "    </tr>\n",
              "  </thead>\n",
              "  <tbody>\n",
              "    <tr>\n",
              "      <th>0</th>\n",
              "      <td>2</td>\n",
              "      <td>2</td>\n",
              "      <td>6</td>\n",
              "      <td>6</td>\n",
              "      <td>2010</td>\n",
              "      <td>7</td>\n",
              "      <td>AK</td>\n",
              "      <td>020</td>\n",
              "      <td>2</td>\n",
              "      <td>AK</td>\n",
              "      <td>...</td>\n",
              "      <td>01</td>\n",
              "      <td>F</td>\n",
              "      <td>1068</td>\n",
              "      <td>D</td>\n",
              "      <td>AK  AK</td>\n",
              "      <td>2</td>\n",
              "      <td>G049</td>\n",
              "      <td>3</td>\n",
              "      <td>8</td>\n",
              "      <td>3</td>\n",
              "    </tr>\n",
              "    <tr>\n",
              "      <th>1</th>\n",
              "      <td>1</td>\n",
              "      <td>1</td>\n",
              "      <td>4</td>\n",
              "      <td>1</td>\n",
              "      <td>2010</td>\n",
              "      <td>7</td>\n",
              "      <td>AK</td>\n",
              "      <td>170</td>\n",
              "      <td>4</td>\n",
              "      <td>AK</td>\n",
              "      <td>...</td>\n",
              "      <td>01</td>\n",
              "      <td>F</td>\n",
              "      <td>1012</td>\n",
              "      <td>S</td>\n",
              "      <td>AK  AK</td>\n",
              "      <td>1</td>\n",
              "      <td>C37</td>\n",
              "      <td>1</td>\n",
              "      <td>6</td>\n",
              "      <td>1</td>\n",
              "    </tr>\n",
              "    <tr>\n",
              "      <th>2</th>\n",
              "      <td>1</td>\n",
              "      <td>1</td>\n",
              "      <td>4</td>\n",
              "      <td>1</td>\n",
              "      <td>2010</td>\n",
              "      <td>7</td>\n",
              "      <td>AK</td>\n",
              "      <td>170</td>\n",
              "      <td>4</td>\n",
              "      <td>AK</td>\n",
              "      <td>...</td>\n",
              "      <td>01</td>\n",
              "      <td>F</td>\n",
              "      <td>1075</td>\n",
              "      <td>D</td>\n",
              "      <td>OR  OR</td>\n",
              "      <td>2</td>\n",
              "      <td>C719</td>\n",
              "      <td>1</td>\n",
              "      <td>6</td>\n",
              "      <td>1</td>\n",
              "    </tr>\n",
              "    <tr>\n",
              "      <th>3</th>\n",
              "      <td>1</td>\n",
              "      <td>1</td>\n",
              "      <td>4</td>\n",
              "      <td>6</td>\n",
              "      <td>2010</td>\n",
              "      <td>7</td>\n",
              "      <td>AK</td>\n",
              "      <td>020</td>\n",
              "      <td>2</td>\n",
              "      <td>AK</td>\n",
              "      <td>...</td>\n",
              "      <td>01</td>\n",
              "      <td>M</td>\n",
              "      <td>1061</td>\n",
              "      <td>W</td>\n",
              "      <td>ZZ  YY</td>\n",
              "      <td>2</td>\n",
              "      <td>F03</td>\n",
              "      <td>4</td>\n",
              "      <td>8</td>\n",
              "      <td>4</td>\n",
              "    </tr>\n",
              "    <tr>\n",
              "      <th>4</th>\n",
              "      <td>1</td>\n",
              "      <td>1</td>\n",
              "      <td>4</td>\n",
              "      <td>7</td>\n",
              "      <td>2010</td>\n",
              "      <td>2</td>\n",
              "      <td>AK</td>\n",
              "      <td>170</td>\n",
              "      <td>4</td>\n",
              "      <td>AK</td>\n",
              "      <td>...</td>\n",
              "      <td>01</td>\n",
              "      <td>F</td>\n",
              "      <td>1046</td>\n",
              "      <td>M</td>\n",
              "      <td>CT  CT</td>\n",
              "      <td>4</td>\n",
              "      <td>X72</td>\n",
              "      <td>1</td>\n",
              "      <td>6</td>\n",
              "      <td>1</td>\n",
              "    </tr>\n",
              "    <tr>\n",
              "      <th>...</th>\n",
              "      <td>...</td>\n",
              "      <td>...</td>\n",
              "      <td>...</td>\n",
              "      <td>...</td>\n",
              "      <td>...</td>\n",
              "      <td>...</td>\n",
              "      <td>...</td>\n",
              "      <td>...</td>\n",
              "      <td>...</td>\n",
              "      <td>...</td>\n",
              "      <td>...</td>\n",
              "      <td>...</td>\n",
              "      <td>...</td>\n",
              "      <td>...</td>\n",
              "      <td>...</td>\n",
              "      <td>...</td>\n",
              "      <td>...</td>\n",
              "      <td>...</td>\n",
              "      <td>...</td>\n",
              "      <td>...</td>\n",
              "      <td>...</td>\n",
              "    </tr>\n",
              "    <tr>\n",
              "      <th>26459854</th>\n",
              "      <td>1</td>\n",
              "      <td>1</td>\n",
              "      <td>1</td>\n",
              "      <td>7</td>\n",
              "      <td>2019</td>\n",
              "      <td>7</td>\n",
              "      <td>NY</td>\n",
              "      <td>005</td>\n",
              "      <td>0</td>\n",
              "      <td>NY</td>\n",
              "      <td>...</td>\n",
              "      <td>05</td>\n",
              "      <td>M</td>\n",
              "      <td>1049</td>\n",
              "      <td>U</td>\n",
              "      <td>ZZ  ZZ</td>\n",
              "      <td>9</td>\n",
              "      <td>K590</td>\n",
              "      <td>1</td>\n",
              "      <td>9</td>\n",
              "      <td>1</td>\n",
              "    </tr>\n",
              "    <tr>\n",
              "      <th>26459855</th>\n",
              "      <td>1</td>\n",
              "      <td>1</td>\n",
              "      <td>4</td>\n",
              "      <td>2</td>\n",
              "      <td>2019</td>\n",
              "      <td>7</td>\n",
              "      <td>NY</td>\n",
              "      <td>005</td>\n",
              "      <td>0</td>\n",
              "      <td>NY</td>\n",
              "      <td>...</td>\n",
              "      <td>10</td>\n",
              "      <td>M</td>\n",
              "      <td>1066</td>\n",
              "      <td>S</td>\n",
              "      <td>ZZ  ZZ</td>\n",
              "      <td>9</td>\n",
              "      <td>C61</td>\n",
              "      <td>1</td>\n",
              "      <td>9</td>\n",
              "      <td>1</td>\n",
              "    </tr>\n",
              "    <tr>\n",
              "      <th>26459856</th>\n",
              "      <td>2</td>\n",
              "      <td>2</td>\n",
              "      <td>1</td>\n",
              "      <td>2</td>\n",
              "      <td>2019</td>\n",
              "      <td>7</td>\n",
              "      <td>NY</td>\n",
              "      <td>005</td>\n",
              "      <td>0</td>\n",
              "      <td>NY</td>\n",
              "      <td>...</td>\n",
              "      <td>12</td>\n",
              "      <td>M</td>\n",
              "      <td>1050</td>\n",
              "      <td>M</td>\n",
              "      <td>ZZ  YY</td>\n",
              "      <td>8</td>\n",
              "      <td>D761</td>\n",
              "      <td>2</td>\n",
              "      <td>7</td>\n",
              "      <td>2</td>\n",
              "    </tr>\n",
              "    <tr>\n",
              "      <th>26459857</th>\n",
              "      <td>1</td>\n",
              "      <td>1</td>\n",
              "      <td>4</td>\n",
              "      <td>1</td>\n",
              "      <td>2019</td>\n",
              "      <td>7</td>\n",
              "      <td>NY</td>\n",
              "      <td>005</td>\n",
              "      <td>0</td>\n",
              "      <td>NY</td>\n",
              "      <td>...</td>\n",
              "      <td>12</td>\n",
              "      <td>F</td>\n",
              "      <td>1082</td>\n",
              "      <td>W</td>\n",
              "      <td>ZZ  YY</td>\n",
              "      <td>3</td>\n",
              "      <td>E854</td>\n",
              "      <td>2</td>\n",
              "      <td>7</td>\n",
              "      <td>2</td>\n",
              "    </tr>\n",
              "    <tr>\n",
              "      <th>26459858</th>\n",
              "      <td>2</td>\n",
              "      <td>2</td>\n",
              "      <td>1</td>\n",
              "      <td>1</td>\n",
              "      <td>2019</td>\n",
              "      <td>7</td>\n",
              "      <td>NY</td>\n",
              "      <td>081</td>\n",
              "      <td>0</td>\n",
              "      <td>NY</td>\n",
              "      <td>...</td>\n",
              "      <td>12</td>\n",
              "      <td>F</td>\n",
              "      <td>1047</td>\n",
              "      <td>S</td>\n",
              "      <td>ZZ  YY</td>\n",
              "      <td>2</td>\n",
              "      <td>N185</td>\n",
              "      <td>2</td>\n",
              "      <td>7</td>\n",
              "      <td>2</td>\n",
              "    </tr>\n",
              "  </tbody>\n",
              "</table>\n",
              "<p>26459859 rows × 22 columns</p>\n",
              "</div>\n",
              "      <button class=\"colab-df-convert\" onclick=\"convertToInteractive('df-f67baba0-f608-461f-a745-59c899b02150')\"\n",
              "              title=\"Convert this dataframe to an interactive table.\"\n",
              "              style=\"display:none;\">\n",
              "        \n",
              "  <svg xmlns=\"http://www.w3.org/2000/svg\" height=\"24px\"viewBox=\"0 0 24 24\"\n",
              "       width=\"24px\">\n",
              "    <path d=\"M0 0h24v24H0V0z\" fill=\"none\"/>\n",
              "    <path d=\"M18.56 5.44l.94 2.06.94-2.06 2.06-.94-2.06-.94-.94-2.06-.94 2.06-2.06.94zm-11 1L8.5 8.5l.94-2.06 2.06-.94-2.06-.94L8.5 2.5l-.94 2.06-2.06.94zm10 10l.94 2.06.94-2.06 2.06-.94-2.06-.94-.94-2.06-.94 2.06-2.06.94z\"/><path d=\"M17.41 7.96l-1.37-1.37c-.4-.4-.92-.59-1.43-.59-.52 0-1.04.2-1.43.59L10.3 9.45l-7.72 7.72c-.78.78-.78 2.05 0 2.83L4 21.41c.39.39.9.59 1.41.59.51 0 1.02-.2 1.41-.59l7.78-7.78 2.81-2.81c.8-.78.8-2.07 0-2.86zM5.41 20L4 18.59l7.72-7.72 1.47 1.35L5.41 20z\"/>\n",
              "  </svg>\n",
              "      </button>\n",
              "      \n",
              "  <style>\n",
              "    .colab-df-container {\n",
              "      display:flex;\n",
              "      flex-wrap:wrap;\n",
              "      gap: 12px;\n",
              "    }\n",
              "\n",
              "    .colab-df-convert {\n",
              "      background-color: #E8F0FE;\n",
              "      border: none;\n",
              "      border-radius: 50%;\n",
              "      cursor: pointer;\n",
              "      display: none;\n",
              "      fill: #1967D2;\n",
              "      height: 32px;\n",
              "      padding: 0 0 0 0;\n",
              "      width: 32px;\n",
              "    }\n",
              "\n",
              "    .colab-df-convert:hover {\n",
              "      background-color: #E2EBFA;\n",
              "      box-shadow: 0px 1px 2px rgba(60, 64, 67, 0.3), 0px 1px 3px 1px rgba(60, 64, 67, 0.15);\n",
              "      fill: #174EA6;\n",
              "    }\n",
              "\n",
              "    [theme=dark] .colab-df-convert {\n",
              "      background-color: #3B4455;\n",
              "      fill: #D2E3FC;\n",
              "    }\n",
              "\n",
              "    [theme=dark] .colab-df-convert:hover {\n",
              "      background-color: #434B5C;\n",
              "      box-shadow: 0px 1px 3px 1px rgba(0, 0, 0, 0.15);\n",
              "      filter: drop-shadow(0px 1px 2px rgba(0, 0, 0, 0.3));\n",
              "      fill: #FFFFFF;\n",
              "    }\n",
              "  </style>\n",
              "\n",
              "      <script>\n",
              "        const buttonEl =\n",
              "          document.querySelector('#df-f67baba0-f608-461f-a745-59c899b02150 button.colab-df-convert');\n",
              "        buttonEl.style.display =\n",
              "          google.colab.kernel.accessAllowed ? 'block' : 'none';\n",
              "\n",
              "        async function convertToInteractive(key) {\n",
              "          const element = document.querySelector('#df-f67baba0-f608-461f-a745-59c899b02150');\n",
              "          const dataTable =\n",
              "            await google.colab.kernel.invokeFunction('convertToInteractive',\n",
              "                                                     [key], {});\n",
              "          if (!dataTable) return;\n",
              "\n",
              "          const docLinkHtml = 'Like what you see? Visit the ' +\n",
              "            '<a target=\"_blank\" href=https://colab.research.google.com/notebooks/data_table.ipynb>data table notebook</a>'\n",
              "            + ' to learn more about interactive tables.';\n",
              "          element.innerHTML = '';\n",
              "          dataTable['output_type'] = 'display_data';\n",
              "          await google.colab.output.renderOutput(dataTable, element);\n",
              "          const docLink = document.createElement('div');\n",
              "          docLink.innerHTML = docLinkHtml;\n",
              "          element.appendChild(docLink);\n",
              "        }\n",
              "      </script>\n",
              "    </div>\n",
              "  </div>\n",
              "  "
            ]
          },
          "metadata": {},
          "execution_count": 115
        }
      ]
    },
    {
      "cell_type": "code",
      "source": [
        "original_data.corr()"
      ],
      "metadata": {
        "colab": {
          "base_uri": "https://localhost:8080/",
          "height": 49
        },
        "id": "4oHUeAqTxIdL",
        "outputId": "6582c1b4-d00c-4e62-85b8-ca66e3747ffe"
      },
      "execution_count": null,
      "outputs": [
        {
          "output_type": "execute_result",
          "data": {
            "text/plain": [
              "Empty DataFrame\n",
              "Columns: []\n",
              "Index: []"
            ],
            "text/html": [
              "\n",
              "  <div id=\"df-80eb430f-56e2-41c9-84e8-87b734dcf773\">\n",
              "    <div class=\"colab-df-container\">\n",
              "      <div>\n",
              "<style scoped>\n",
              "    .dataframe tbody tr th:only-of-type {\n",
              "        vertical-align: middle;\n",
              "    }\n",
              "\n",
              "    .dataframe tbody tr th {\n",
              "        vertical-align: top;\n",
              "    }\n",
              "\n",
              "    .dataframe thead th {\n",
              "        text-align: right;\n",
              "    }\n",
              "</style>\n",
              "<table border=\"1\" class=\"dataframe\">\n",
              "  <thead>\n",
              "    <tr style=\"text-align: right;\">\n",
              "      <th></th>\n",
              "    </tr>\n",
              "  </thead>\n",
              "  <tbody>\n",
              "  </tbody>\n",
              "</table>\n",
              "</div>\n",
              "      <button class=\"colab-df-convert\" onclick=\"convertToInteractive('df-80eb430f-56e2-41c9-84e8-87b734dcf773')\"\n",
              "              title=\"Convert this dataframe to an interactive table.\"\n",
              "              style=\"display:none;\">\n",
              "        \n",
              "  <svg xmlns=\"http://www.w3.org/2000/svg\" height=\"24px\"viewBox=\"0 0 24 24\"\n",
              "       width=\"24px\">\n",
              "    <path d=\"M0 0h24v24H0V0z\" fill=\"none\"/>\n",
              "    <path d=\"M18.56 5.44l.94 2.06.94-2.06 2.06-.94-2.06-.94-.94-2.06-.94 2.06-2.06.94zm-11 1L8.5 8.5l.94-2.06 2.06-.94-2.06-.94L8.5 2.5l-.94 2.06-2.06.94zm10 10l.94 2.06.94-2.06 2.06-.94-2.06-.94-.94-2.06-.94 2.06-2.06.94z\"/><path d=\"M17.41 7.96l-1.37-1.37c-.4-.4-.92-.59-1.43-.59-.52 0-1.04.2-1.43.59L10.3 9.45l-7.72 7.72c-.78.78-.78 2.05 0 2.83L4 21.41c.39.39.9.59 1.41.59.51 0 1.02-.2 1.41-.59l7.78-7.78 2.81-2.81c.8-.78.8-2.07 0-2.86zM5.41 20L4 18.59l7.72-7.72 1.47 1.35L5.41 20z\"/>\n",
              "  </svg>\n",
              "      </button>\n",
              "      \n",
              "  <style>\n",
              "    .colab-df-container {\n",
              "      display:flex;\n",
              "      flex-wrap:wrap;\n",
              "      gap: 12px;\n",
              "    }\n",
              "\n",
              "    .colab-df-convert {\n",
              "      background-color: #E8F0FE;\n",
              "      border: none;\n",
              "      border-radius: 50%;\n",
              "      cursor: pointer;\n",
              "      display: none;\n",
              "      fill: #1967D2;\n",
              "      height: 32px;\n",
              "      padding: 0 0 0 0;\n",
              "      width: 32px;\n",
              "    }\n",
              "\n",
              "    .colab-df-convert:hover {\n",
              "      background-color: #E2EBFA;\n",
              "      box-shadow: 0px 1px 2px rgba(60, 64, 67, 0.3), 0px 1px 3px 1px rgba(60, 64, 67, 0.15);\n",
              "      fill: #174EA6;\n",
              "    }\n",
              "\n",
              "    [theme=dark] .colab-df-convert {\n",
              "      background-color: #3B4455;\n",
              "      fill: #D2E3FC;\n",
              "    }\n",
              "\n",
              "    [theme=dark] .colab-df-convert:hover {\n",
              "      background-color: #434B5C;\n",
              "      box-shadow: 0px 1px 3px 1px rgba(0, 0, 0, 0.15);\n",
              "      filter: drop-shadow(0px 1px 2px rgba(0, 0, 0, 0.3));\n",
              "      fill: #FFFFFF;\n",
              "    }\n",
              "  </style>\n",
              "\n",
              "      <script>\n",
              "        const buttonEl =\n",
              "          document.querySelector('#df-80eb430f-56e2-41c9-84e8-87b734dcf773 button.colab-df-convert');\n",
              "        buttonEl.style.display =\n",
              "          google.colab.kernel.accessAllowed ? 'block' : 'none';\n",
              "\n",
              "        async function convertToInteractive(key) {\n",
              "          const element = document.querySelector('#df-80eb430f-56e2-41c9-84e8-87b734dcf773');\n",
              "          const dataTable =\n",
              "            await google.colab.kernel.invokeFunction('convertToInteractive',\n",
              "                                                     [key], {});\n",
              "          if (!dataTable) return;\n",
              "\n",
              "          const docLinkHtml = 'Like what you see? Visit the ' +\n",
              "            '<a target=\"_blank\" href=https://colab.research.google.com/notebooks/data_table.ipynb>data table notebook</a>'\n",
              "            + ' to learn more about interactive tables.';\n",
              "          element.innerHTML = '';\n",
              "          dataTable['output_type'] = 'display_data';\n",
              "          await google.colab.output.renderOutput(dataTable, element);\n",
              "          const docLink = document.createElement('div');\n",
              "          docLink.innerHTML = docLinkHtml;\n",
              "          element.appendChild(docLink);\n",
              "        }\n",
              "      </script>\n",
              "    </div>\n",
              "  </div>\n",
              "  "
            ]
          },
          "metadata": {},
          "execution_count": 116
        }
      ]
    },
    {
      "cell_type": "code",
      "source": [
        "\n",
        "correlation_matrix = original_data.corr()\n",
        "fig = plt.figure(figsize=(12,9))\n",
        "sns.heatmap(correlation_matrix,vmax=0.8,square = True)\n",
        "plt.show()\n"
      ],
      "metadata": {
        "colab": {
          "base_uri": "https://localhost:8080/",
          "height": 409
        },
        "id": "Bw1hiw2ZK9OR",
        "outputId": "db0c8d62-80bf-4f7c-8939-79d36faaf31e"
      },
      "execution_count": null,
      "outputs": [
        {
          "output_type": "error",
          "ename": "ValueError",
          "evalue": "ignored",
          "traceback": [
            "\u001b[0;31m---------------------------------------------------------------------------\u001b[0m",
            "\u001b[0;31mValueError\u001b[0m                                Traceback (most recent call last)",
            "\u001b[0;32m<ipython-input-117-faf446f60bb9>\u001b[0m in \u001b[0;36m<module>\u001b[0;34m\u001b[0m\n\u001b[1;32m      2\u001b[0m \u001b[0mcorrelation_matrix\u001b[0m \u001b[0;34m=\u001b[0m \u001b[0moriginal_data\u001b[0m\u001b[0;34m.\u001b[0m\u001b[0mcorr\u001b[0m\u001b[0;34m(\u001b[0m\u001b[0;34m)\u001b[0m\u001b[0;34m\u001b[0m\u001b[0;34m\u001b[0m\u001b[0m\n\u001b[1;32m      3\u001b[0m \u001b[0mfig\u001b[0m \u001b[0;34m=\u001b[0m \u001b[0mplt\u001b[0m\u001b[0;34m.\u001b[0m\u001b[0mfigure\u001b[0m\u001b[0;34m(\u001b[0m\u001b[0mfigsize\u001b[0m\u001b[0;34m=\u001b[0m\u001b[0;34m(\u001b[0m\u001b[0;36m12\u001b[0m\u001b[0;34m,\u001b[0m\u001b[0;36m9\u001b[0m\u001b[0;34m)\u001b[0m\u001b[0;34m)\u001b[0m\u001b[0;34m\u001b[0m\u001b[0;34m\u001b[0m\u001b[0m\n\u001b[0;32m----> 4\u001b[0;31m \u001b[0msns\u001b[0m\u001b[0;34m.\u001b[0m\u001b[0mheatmap\u001b[0m\u001b[0;34m(\u001b[0m\u001b[0mcorrelation_matrix\u001b[0m\u001b[0;34m,\u001b[0m\u001b[0mvmax\u001b[0m\u001b[0;34m=\u001b[0m\u001b[0;36m0.8\u001b[0m\u001b[0;34m,\u001b[0m\u001b[0msquare\u001b[0m \u001b[0;34m=\u001b[0m \u001b[0;32mTrue\u001b[0m\u001b[0;34m)\u001b[0m\u001b[0;34m\u001b[0m\u001b[0;34m\u001b[0m\u001b[0m\n\u001b[0m\u001b[1;32m      5\u001b[0m \u001b[0mplt\u001b[0m\u001b[0;34m.\u001b[0m\u001b[0mshow\u001b[0m\u001b[0;34m(\u001b[0m\u001b[0;34m)\u001b[0m\u001b[0;34m\u001b[0m\u001b[0;34m\u001b[0m\u001b[0m\n",
            "\u001b[0;32m/usr/local/lib/python3.8/dist-packages/seaborn/_decorators.py\u001b[0m in \u001b[0;36minner_f\u001b[0;34m(*args, **kwargs)\u001b[0m\n\u001b[1;32m     44\u001b[0m             )\n\u001b[1;32m     45\u001b[0m         \u001b[0mkwargs\u001b[0m\u001b[0;34m.\u001b[0m\u001b[0mupdate\u001b[0m\u001b[0;34m(\u001b[0m\u001b[0;34m{\u001b[0m\u001b[0mk\u001b[0m\u001b[0;34m:\u001b[0m \u001b[0marg\u001b[0m \u001b[0;32mfor\u001b[0m \u001b[0mk\u001b[0m\u001b[0;34m,\u001b[0m \u001b[0marg\u001b[0m \u001b[0;32min\u001b[0m \u001b[0mzip\u001b[0m\u001b[0;34m(\u001b[0m\u001b[0msig\u001b[0m\u001b[0;34m.\u001b[0m\u001b[0mparameters\u001b[0m\u001b[0;34m,\u001b[0m \u001b[0margs\u001b[0m\u001b[0;34m)\u001b[0m\u001b[0;34m}\u001b[0m\u001b[0;34m)\u001b[0m\u001b[0;34m\u001b[0m\u001b[0;34m\u001b[0m\u001b[0m\n\u001b[0;32m---> 46\u001b[0;31m         \u001b[0;32mreturn\u001b[0m \u001b[0mf\u001b[0m\u001b[0;34m(\u001b[0m\u001b[0;34m**\u001b[0m\u001b[0mkwargs\u001b[0m\u001b[0;34m)\u001b[0m\u001b[0;34m\u001b[0m\u001b[0;34m\u001b[0m\u001b[0m\n\u001b[0m\u001b[1;32m     47\u001b[0m     \u001b[0;32mreturn\u001b[0m \u001b[0minner_f\u001b[0m\u001b[0;34m\u001b[0m\u001b[0;34m\u001b[0m\u001b[0m\n\u001b[1;32m     48\u001b[0m \u001b[0;34m\u001b[0m\u001b[0m\n",
            "\u001b[0;32m/usr/local/lib/python3.8/dist-packages/seaborn/matrix.py\u001b[0m in \u001b[0;36mheatmap\u001b[0;34m(data, vmin, vmax, cmap, center, robust, annot, fmt, annot_kws, linewidths, linecolor, cbar, cbar_kws, cbar_ax, square, xticklabels, yticklabels, mask, ax, **kwargs)\u001b[0m\n\u001b[1;32m    538\u001b[0m     \"\"\"\n\u001b[1;32m    539\u001b[0m     \u001b[0;31m# Initialize the plotter object\u001b[0m\u001b[0;34m\u001b[0m\u001b[0;34m\u001b[0m\u001b[0;34m\u001b[0m\u001b[0m\n\u001b[0;32m--> 540\u001b[0;31m     plotter = _HeatMapper(data, vmin, vmax, cmap, center, robust, annot, fmt,\n\u001b[0m\u001b[1;32m    541\u001b[0m                           \u001b[0mannot_kws\u001b[0m\u001b[0;34m,\u001b[0m \u001b[0mcbar\u001b[0m\u001b[0;34m,\u001b[0m \u001b[0mcbar_kws\u001b[0m\u001b[0;34m,\u001b[0m \u001b[0mxticklabels\u001b[0m\u001b[0;34m,\u001b[0m\u001b[0;34m\u001b[0m\u001b[0;34m\u001b[0m\u001b[0m\n\u001b[1;32m    542\u001b[0m                           yticklabels, mask)\n",
            "\u001b[0;32m/usr/local/lib/python3.8/dist-packages/seaborn/matrix.py\u001b[0m in \u001b[0;36m__init__\u001b[0;34m(self, data, vmin, vmax, cmap, center, robust, annot, fmt, annot_kws, cbar, cbar_kws, xticklabels, yticklabels, mask)\u001b[0m\n\u001b[1;32m    157\u001b[0m \u001b[0;34m\u001b[0m\u001b[0m\n\u001b[1;32m    158\u001b[0m         \u001b[0;31m# Determine good default values for the colormapping\u001b[0m\u001b[0;34m\u001b[0m\u001b[0;34m\u001b[0m\u001b[0;34m\u001b[0m\u001b[0m\n\u001b[0;32m--> 159\u001b[0;31m         self._determine_cmap_params(plot_data, vmin, vmax,\n\u001b[0m\u001b[1;32m    160\u001b[0m                                     cmap, center, robust)\n\u001b[1;32m    161\u001b[0m \u001b[0;34m\u001b[0m\u001b[0m\n",
            "\u001b[0;32m/usr/local/lib/python3.8/dist-packages/seaborn/matrix.py\u001b[0m in \u001b[0;36m_determine_cmap_params\u001b[0;34m(self, plot_data, vmin, vmax, cmap, center, robust)\u001b[0m\n\u001b[1;32m    196\u001b[0m                 \u001b[0mvmin\u001b[0m \u001b[0;34m=\u001b[0m \u001b[0mnp\u001b[0m\u001b[0;34m.\u001b[0m\u001b[0mnanpercentile\u001b[0m\u001b[0;34m(\u001b[0m\u001b[0mcalc_data\u001b[0m\u001b[0;34m,\u001b[0m \u001b[0;36m2\u001b[0m\u001b[0;34m)\u001b[0m\u001b[0;34m\u001b[0m\u001b[0;34m\u001b[0m\u001b[0m\n\u001b[1;32m    197\u001b[0m             \u001b[0;32melse\u001b[0m\u001b[0;34m:\u001b[0m\u001b[0;34m\u001b[0m\u001b[0;34m\u001b[0m\u001b[0m\n\u001b[0;32m--> 198\u001b[0;31m                 \u001b[0mvmin\u001b[0m \u001b[0;34m=\u001b[0m \u001b[0mnp\u001b[0m\u001b[0;34m.\u001b[0m\u001b[0mnanmin\u001b[0m\u001b[0;34m(\u001b[0m\u001b[0mcalc_data\u001b[0m\u001b[0;34m)\u001b[0m\u001b[0;34m\u001b[0m\u001b[0;34m\u001b[0m\u001b[0m\n\u001b[0m\u001b[1;32m    199\u001b[0m         \u001b[0;32mif\u001b[0m \u001b[0mvmax\u001b[0m \u001b[0;32mis\u001b[0m \u001b[0;32mNone\u001b[0m\u001b[0;34m:\u001b[0m\u001b[0;34m\u001b[0m\u001b[0;34m\u001b[0m\u001b[0m\n\u001b[1;32m    200\u001b[0m             \u001b[0;32mif\u001b[0m \u001b[0mrobust\u001b[0m\u001b[0;34m:\u001b[0m\u001b[0;34m\u001b[0m\u001b[0;34m\u001b[0m\u001b[0m\n",
            "\u001b[0;32m<__array_function__ internals>\u001b[0m in \u001b[0;36mnanmin\u001b[0;34m(*args, **kwargs)\u001b[0m\n",
            "\u001b[0;32m/usr/local/lib/python3.8/dist-packages/numpy/lib/nanfunctions.py\u001b[0m in \u001b[0;36mnanmin\u001b[0;34m(a, axis, out, keepdims)\u001b[0m\n\u001b[1;32m    317\u001b[0m         \u001b[0;31m# Fast, but not safe for subclasses of ndarray, or object arrays,\u001b[0m\u001b[0;34m\u001b[0m\u001b[0;34m\u001b[0m\u001b[0;34m\u001b[0m\u001b[0m\n\u001b[1;32m    318\u001b[0m         \u001b[0;31m# which do not implement isnan (gh-9009), or fmin correctly (gh-8975)\u001b[0m\u001b[0;34m\u001b[0m\u001b[0;34m\u001b[0m\u001b[0;34m\u001b[0m\u001b[0m\n\u001b[0;32m--> 319\u001b[0;31m         \u001b[0mres\u001b[0m \u001b[0;34m=\u001b[0m \u001b[0mnp\u001b[0m\u001b[0;34m.\u001b[0m\u001b[0mfmin\u001b[0m\u001b[0;34m.\u001b[0m\u001b[0mreduce\u001b[0m\u001b[0;34m(\u001b[0m\u001b[0ma\u001b[0m\u001b[0;34m,\u001b[0m \u001b[0maxis\u001b[0m\u001b[0;34m=\u001b[0m\u001b[0maxis\u001b[0m\u001b[0;34m,\u001b[0m \u001b[0mout\u001b[0m\u001b[0;34m=\u001b[0m\u001b[0mout\u001b[0m\u001b[0;34m,\u001b[0m \u001b[0;34m**\u001b[0m\u001b[0mkwargs\u001b[0m\u001b[0;34m)\u001b[0m\u001b[0;34m\u001b[0m\u001b[0;34m\u001b[0m\u001b[0m\n\u001b[0m\u001b[1;32m    320\u001b[0m         \u001b[0;32mif\u001b[0m \u001b[0mnp\u001b[0m\u001b[0;34m.\u001b[0m\u001b[0misnan\u001b[0m\u001b[0;34m(\u001b[0m\u001b[0mres\u001b[0m\u001b[0;34m)\u001b[0m\u001b[0;34m.\u001b[0m\u001b[0many\u001b[0m\u001b[0;34m(\u001b[0m\u001b[0;34m)\u001b[0m\u001b[0;34m:\u001b[0m\u001b[0;34m\u001b[0m\u001b[0;34m\u001b[0m\u001b[0m\n\u001b[1;32m    321\u001b[0m             warnings.warn(\"All-NaN slice encountered\", RuntimeWarning,\n",
            "\u001b[0;31mValueError\u001b[0m: zero-size array to reduction operation fmin which has no identity"
          ]
        },
        {
          "output_type": "display_data",
          "data": {
            "text/plain": [
              "<Figure size 864x648 with 0 Axes>"
            ]
          },
          "metadata": {}
        }
      ]
    },
    {
      "cell_type": "markdown",
      "source": [
        "# Norm xgb\n"
      ],
      "metadata": {
        "id": "222Y0xuy109R"
      }
    },
    {
      "cell_type": "code",
      "source": [
        "xgb_model = xgb.XGBClassifier(objective=\"binary:logistic\", colsample_bytree=0.4, gamma=0.4, learning_rate=0.05, max_depth=3, min_child_weight=2, random_state=30)\n",
        "\n",
        "xgb_model.fit(norm_train_x, train_y)\n",
        "\n",
        "# make predictions for test data\n",
        "y_pred = xgb_model.predict(norm_validation_x)\n",
        "predictions = [round(value) for value in y_pred]\n",
        "\n",
        "accuracy = metrics.accuracy_score(validation_y, predictions)\n",
        "print(\"Accuracy: %.2f%%\" % (accuracy * 100.0))\n",
        "\n",
        "color = 'black'\n",
        "matrix = plot_confusion_matrix(xgb_model, norm_validation_x, validation_y, cmap=plt.cm.Blues)\n",
        "matrix.ax_.set_title('Confusion Matrix', color=color)\n",
        "plt.xlabel('Predicted Label', color=color)\n",
        "plt.ylabel('True Label', color=color)\n",
        "plt.gcf().axes[0].tick_params(colors=color)\n",
        "plt.gcf().axes[1].tick_params(colors=color)\n",
        "plt.show()\n",
        "\n",
        "\n",
        "\n",
        "fpr = dict()\n",
        "tpr = dict()\n",
        "roc_auc = dict()\n",
        "lw = 2\n",
        "fpr, tpr, thresholds = roc_curve(validation_y, y_pred)\n",
        "roc_auc = auc(fpr, tpr)\n",
        "plt.plot(fpr, tpr, 'k--', label = 'ROC(area = {0:2f})'.format(roc_auc), lw=2)\n",
        "plt.xlim([-0.05, 1.05])\n",
        "plt.ylim([-0.05, 1.05])\n",
        "plt.xlabel('FPR')\n",
        "plt.ylabel('TPR')\n",
        "plt.legend(loc = 'lower right')\n",
        "plt.show()\n"
      ],
      "metadata": {
        "id": "7nFbam-eIvOp",
        "colab": {
          "base_uri": "https://localhost:8080/",
          "height": 628
        },
        "outputId": "24332ea5-6140-4955-f272-84591ec1c9b1"
      },
      "execution_count": null,
      "outputs": [
        {
          "output_type": "stream",
          "name": "stdout",
          "text": [
            "Accuracy: 88.15%\n"
          ]
        },
        {
          "output_type": "stream",
          "name": "stderr",
          "text": [
            "/usr/local/lib/python3.8/dist-packages/sklearn/utils/deprecation.py:87: FutureWarning: Function plot_confusion_matrix is deprecated; Function `plot_confusion_matrix` is deprecated in 1.0 and will be removed in 1.2. Use one of the class methods: ConfusionMatrixDisplay.from_predictions or ConfusionMatrixDisplay.from_estimator.\n",
            "  warnings.warn(msg, category=FutureWarning)\n"
          ]
        },
        {
          "output_type": "display_data",
          "data": {
            "text/plain": [
              "<Figure size 432x288 with 2 Axes>"
            ],
            "image/png": "[encoded data removed]"
          },
          "metadata": {
            "needs_background": "light"
          }
        },
        {
          "output_type": "display_data",
          "data": {
            "text/plain": [
              "<Figure size 432x288 with 1 Axes>"
            ],
            "image/png": "[encoded data removed]"
          },
          "metadata": {
            "needs_background": "light"
          }
        }
      ]
    },
    {
      "cell_type": "code",
      "source": [
        "print(precision_score(validation_y, y_pred, average='macro'))\n",
        "print(recall_score(validation_y, y_pred, average='macro'))\n",
        "\n",
        "\n",
        "\n",
        "figure(figsize=(6, 6), dpi=80)\n",
        "\n",
        "features = [f\"feature {i}\" for i in range(norm_train_x.shape[1])]\n",
        "importances = xgb_model.feature_importances_\n",
        "indices = np.argsort(importances)\n",
        "\n",
        "plt.title('Feature Importances')\n",
        "plt.barh(range(len(indices)), importances[indices], color='b', align='center')\n",
        "plt.yticks(range(len(indices)), [features[i] for i in indices])\n",
        "plt.xlabel('Relative Importance')\n",
        "plt.show()\n",
        "\n",
        "\n",
        "\n",
        "xgb.to_graphviz(xgb_model)"
      ],
      "metadata": {
        "colab": {
          "base_uri": "https://localhost:8080/",
          "height": 909
        },
        "id": "dKZQu9nESn_w",
        "outputId": "d0792a3a-3cc5-4ce6-c95b-29b35980527f"
      },
      "execution_count": null,
      "outputs": [
        {
          "output_type": "stream",
          "name": "stdout",
          "text": [
            "0.881473735558005\n",
            "0.8814719467653045\n"
          ]
        },
        {
          "output_type": "display_data",
          "data": {
            "text/plain": [
              "<Figure size 480x480 with 1 Axes>"
            ],
            "image/png": "[encoded data removed]"
          },
          "metadata": {
            "needs_background": "light"
          }
        },
        {
          "output_type": "execute_result",
          "data": {
            "text/plain": [
              "<graphviz.dot.Digraph at 0x7fd934622040>"
            ],
            "image/svg+xml": "<?xml version=\"1.0\" encoding=\"UTF-8\" standalone=\"no\"?>\n<!DOCTYPE svg PUBLIC \"-//W3C//DTD SVG 1.1//EN\"\n \"http://www.w3.org/Graphics/SVG/1.1/DTD/svg11.dtd\">\n<!-- Generated by graphviz version 2.40.1 (20161225.0304)\n -->\n<!-- Title: %3 Pages: 1 -->\n<svg width=\"1527pt\" height=\"305pt\"\n viewBox=\"0.00 0.00 1526.53 305.00\" xmlns=\"http://www.w3.org/2000/svg\" xmlns:xlink=\"http://www.w3.org/1999/xlink\">\n<g id=\"graph0\" class=\"graph\" transform=\"scale(1 1) rotate(0) translate(4 301)\">\n<title>%3</title>\n<polygon fill=\"#ffffff\" stroke=\"transparent\" points=\"-4,4 -4,-301 1522.5346,-301 1522.5346,4 -4,4\"/>\n<!-- 0 -->\n<g id=\"node1\" class=\"node\">\n<title>0</title>\n<ellipse fill=\"none\" stroke=\"#000000\" cx=\"694.1424\" cy=\"-279\" rx=\"85.2851\" ry=\"18\"/>\n<text text-anchor=\"middle\" x=\"694.1424\" y=\"-275.3\" font-family=\"Times,serif\" font-size=\"14.00\" fill=\"#000000\">f13&lt;0.0021715886</text>\n</g>\n<!-- 1 -->\n<g id=\"node2\" class=\"node\">\n<title>1</title>\n<ellipse fill=\"none\" stroke=\"#000000\" cx=\"495.1424\" cy=\"-192\" rx=\"89.0842\" ry=\"18\"/>\n<text text-anchor=\"middle\" x=\"495.1424\" y=\"-188.3\" font-family=\"Times,serif\" font-size=\"14.00\" fill=\"#000000\">f14&lt;0.00119696371</text>\n</g>\n<!-- 0&#45;&gt;1 -->\n<g id=\"edge1\" class=\"edge\">\n<title>0&#45;&gt;1</title>\n<path fill=\"none\" stroke=\"#0000ff\" d=\"M656.7121,-262.636C624.2944,-248.4634 577.241,-227.8924 542.2653,-212.6014\"/>\n<polygon fill=\"#0000ff\" stroke=\"#0000ff\" points=\"543.3074,-209.2372 532.7428,-208.4383 540.5033,-215.6511 543.3074,-209.2372\"/>\n<text text-anchor=\"middle\" x=\"642.6424\" y=\"-231.8\" font-family=\"Times,serif\" font-size=\"14.00\" fill=\"#000000\">yes, missing</text>\n</g>\n<!-- 2 -->\n<g id=\"node3\" class=\"node\">\n<title>2</title>\n<ellipse fill=\"none\" stroke=\"#000000\" cx=\"926.1424\" cy=\"-192\" rx=\"89.8845\" ry=\"18\"/>\n<text text-anchor=\"middle\" x=\"926.1424\" y=\"-188.3\" font-family=\"Times,serif\" font-size=\"14.00\" fill=\"#000000\">f14&lt;0.00263084797</text>\n</g>\n<!-- 0&#45;&gt;2 -->\n<g id=\"edge2\" class=\"edge\">\n<title>0&#45;&gt;2</title>\n<path fill=\"none\" stroke=\"#ff0000\" d=\"M736.1559,-263.245C774.9213,-248.7079 832.6066,-227.0759 874.2378,-211.4643\"/>\n<polygon fill=\"#ff0000\" stroke=\"#ff0000\" points=\"875.5232,-214.7203 883.6576,-207.9318 873.0653,-208.166 875.5232,-214.7203\"/>\n<text text-anchor=\"middle\" x=\"832.1424\" y=\"-231.8\" font-family=\"Times,serif\" font-size=\"14.00\" fill=\"#000000\">no</text>\n</g>\n<!-- 3 -->\n<g id=\"node4\" class=\"node\">\n<title>3</title>\n<ellipse fill=\"none\" stroke=\"#000000\" cx=\"273.1424\" cy=\"-105\" rx=\"79.8859\" ry=\"18\"/>\n<text text-anchor=\"middle\" x=\"273.1424\" y=\"-101.3\" font-family=\"Times,serif\" font-size=\"14.00\" fill=\"#000000\">f9&lt;0.0441295803</text>\n</g>\n<!-- 1&#45;&gt;3 -->\n<g id=\"edge3\" class=\"edge\">\n<title>1&#45;&gt;3</title>\n<path fill=\"none\" stroke=\"#0000ff\" d=\"M454.1655,-175.9415C417.0126,-161.3815 362.1697,-139.8891 322.5925,-124.3791\"/>\n<polygon fill=\"#0000ff\" stroke=\"#0000ff\" points=\"323.7203,-121.0619 313.1326,-120.6718 321.1661,-127.5793 323.7203,-121.0619\"/>\n<text text-anchor=\"middle\" x=\"433.6424\" y=\"-144.8\" font-family=\"Times,serif\" font-size=\"14.00\" fill=\"#000000\">yes, missing</text>\n</g>\n<!-- 4 -->\n<g id=\"node5\" class=\"node\">\n<title>4</title>\n<ellipse fill=\"none\" stroke=\"#000000\" cx=\"495.1424\" cy=\"-105\" rx=\"79.8859\" ry=\"18\"/>\n<text text-anchor=\"middle\" x=\"495.1424\" y=\"-101.3\" font-family=\"Times,serif\" font-size=\"14.00\" fill=\"#000000\">f1&lt;0.0127514042</text>\n</g>\n<!-- 1&#45;&gt;4 -->\n<g id=\"edge4\" class=\"edge\">\n<title>1&#45;&gt;4</title>\n<path fill=\"none\" stroke=\"#ff0000\" d=\"M495.1424,-173.9735C495.1424,-162.1918 495.1424,-146.5607 495.1424,-133.1581\"/>\n<polygon fill=\"#ff0000\" stroke=\"#ff0000\" points=\"498.6425,-133.0033 495.1424,-123.0034 491.6425,-133.0034 498.6425,-133.0033\"/>\n<text text-anchor=\"middle\" x=\"503.1424\" y=\"-144.8\" font-family=\"Times,serif\" font-size=\"14.00\" fill=\"#000000\">no</text>\n</g>\n<!-- 5 -->\n<g id=\"node10\" class=\"node\">\n<title>5</title>\n<ellipse fill=\"none\" stroke=\"#000000\" cx=\"926.1424\" cy=\"-105\" rx=\"85.2851\" ry=\"18\"/>\n<text text-anchor=\"middle\" x=\"926.1424\" y=\"-101.3\" font-family=\"Times,serif\" font-size=\"14.00\" fill=\"#000000\">f10&lt;0.0231306069</text>\n</g>\n<!-- 2&#45;&gt;5 -->\n<g id=\"edge9\" class=\"edge\">\n<title>2&#45;&gt;5</title>\n<path fill=\"none\" stroke=\"#0000ff\" d=\"M926.1424,-173.9735C926.1424,-162.1918 926.1424,-146.5607 926.1424,-133.1581\"/>\n<polygon fill=\"#0000ff\" stroke=\"#0000ff\" points=\"929.6425,-133.0033 926.1424,-123.0034 922.6425,-133.0034 929.6425,-133.0033\"/>\n<text text-anchor=\"middle\" x=\"961.6424\" y=\"-144.8\" font-family=\"Times,serif\" font-size=\"14.00\" fill=\"#000000\">yes, missing</text>\n</g>\n<!-- 6 -->\n<g id=\"node11\" class=\"node\">\n<title>6</title>\n<ellipse fill=\"none\" stroke=\"#000000\" cx=\"1235.1424\" cy=\"-105\" rx=\"85.2851\" ry=\"18\"/>\n<text text-anchor=\"middle\" x=\"1235.1424\" y=\"-101.3\" font-family=\"Times,serif\" font-size=\"14.00\" fill=\"#000000\">f13&lt;0.0121379429</text>\n</g>\n<!-- 2&#45;&gt;6 -->\n<g id=\"edge10\" class=\"edge\">\n<title>2&#45;&gt;6</title>\n<path fill=\"none\" stroke=\"#ff0000\" d=\"M978.2107,-177.34C1032.3535,-162.0959 1117.0418,-138.2516 1174.2491,-122.1447\"/>\n<polygon fill=\"#ff0000\" stroke=\"#ff0000\" points=\"1175.2134,-125.5094 1183.8905,-119.4302 1173.3162,-118.7714 1175.2134,-125.5094\"/>\n<text text-anchor=\"middle\" x=\"1108.1424\" y=\"-144.8\" font-family=\"Times,serif\" font-size=\"14.00\" fill=\"#000000\">no</text>\n</g>\n<!-- 7 -->\n<g id=\"node6\" class=\"node\">\n<title>7</title>\n<ellipse fill=\"none\" stroke=\"#000000\" cx=\"85.1424\" cy=\"-18\" rx=\"85.2851\" ry=\"18\"/>\n<text text-anchor=\"middle\" x=\"85.1424\" y=\"-14.3\" font-family=\"Times,serif\" font-size=\"14.00\" fill=\"#000000\">leaf=0.0725490227</text>\n</g>\n<!-- 3&#45;&gt;7 -->\n<g id=\"edge5\" class=\"edge\">\n<title>3&#45;&gt;7</title>\n<path fill=\"none\" stroke=\"#0000ff\" d=\"M237.7811,-88.636C207.2862,-74.524 163.0826,-54.0681 130.0847,-38.7978\"/>\n<polygon fill=\"#0000ff\" stroke=\"#0000ff\" points=\"131.2096,-35.4618 120.6643,-34.4383 128.2698,-41.8145 131.2096,-35.4618\"/>\n<text text-anchor=\"middle\" x=\"226.6424\" y=\"-57.8\" font-family=\"Times,serif\" font-size=\"14.00\" fill=\"#000000\">yes, missing</text>\n</g>\n<!-- 8 -->\n<g id=\"node7\" class=\"node\">\n<title>8</title>\n<ellipse fill=\"none\" stroke=\"#000000\" cx=\"273.1424\" cy=\"-18\" rx=\"85.2851\" ry=\"18\"/>\n<text text-anchor=\"middle\" x=\"273.1424\" y=\"-14.3\" font-family=\"Times,serif\" font-size=\"14.00\" fill=\"#000000\">leaf=0.0815139413</text>\n</g>\n<!-- 3&#45;&gt;8 -->\n<g id=\"edge6\" class=\"edge\">\n<title>3&#45;&gt;8</title>\n<path fill=\"none\" stroke=\"#ff0000\" d=\"M273.1424,-86.9735C273.1424,-75.1918 273.1424,-59.5607 273.1424,-46.1581\"/>\n<polygon fill=\"#ff0000\" stroke=\"#ff0000\" points=\"276.6425,-46.0033 273.1424,-36.0034 269.6425,-46.0034 276.6425,-46.0033\"/>\n<text text-anchor=\"middle\" x=\"281.1424\" y=\"-57.8\" font-family=\"Times,serif\" font-size=\"14.00\" fill=\"#000000\">no</text>\n</g>\n<!-- 9 -->\n<g id=\"node8\" class=\"node\">\n<title>9</title>\n<ellipse fill=\"none\" stroke=\"#000000\" cx=\"457.1424\" cy=\"-18\" rx=\"80.6858\" ry=\"18\"/>\n<text text-anchor=\"middle\" x=\"457.1424\" y=\"-14.3\" font-family=\"Times,serif\" font-size=\"14.00\" fill=\"#000000\">leaf=0.012689854</text>\n</g>\n<!-- 4&#45;&gt;9 -->\n<g id=\"edge7\" class=\"edge\">\n<title>4&#45;&gt;9</title>\n<path fill=\"none\" stroke=\"#0000ff\" d=\"M487.2688,-86.9735C482.0209,-74.9585 475.0243,-58.9401 469.0948,-45.3646\"/>\n<polygon fill=\"#0000ff\" stroke=\"#0000ff\" points=\"472.2161,-43.7664 465.006,-36.0034 465.8013,-46.5683 472.2161,-43.7664\"/>\n<text text-anchor=\"middle\" x=\"514.6424\" y=\"-57.8\" font-family=\"Times,serif\" font-size=\"14.00\" fill=\"#000000\">yes, missing</text>\n</g>\n<!-- 10 -->\n<g id=\"node9\" class=\"node\">\n<title>10</title>\n<ellipse fill=\"none\" stroke=\"#000000\" cx=\"654.1424\" cy=\"-18\" rx=\"98.2828\" ry=\"18\"/>\n<text text-anchor=\"middle\" x=\"654.1424\" y=\"-14.3\" font-family=\"Times,serif\" font-size=\"14.00\" fill=\"#000000\">leaf=&#45;0.000295014761</text>\n</g>\n<!-- 4&#45;&gt;10 -->\n<g id=\"edge8\" class=\"edge\">\n<title>4&#45;&gt;10</title>\n<path fill=\"none\" stroke=\"#ff0000\" d=\"M525.7992,-88.2255C550.8518,-74.5175 586.4697,-55.0285 613.8299,-40.0578\"/>\n<polygon fill=\"#ff0000\" stroke=\"#ff0000\" points=\"615.6722,-43.0395 622.7648,-35.1689 612.3121,-36.8987 615.6722,-43.0395\"/>\n<text text-anchor=\"middle\" x=\"593.1424\" y=\"-57.8\" font-family=\"Times,serif\" font-size=\"14.00\" fill=\"#000000\">no</text>\n</g>\n<!-- 11 -->\n<g id=\"node12\" class=\"node\">\n<title>11</title>\n<ellipse fill=\"none\" stroke=\"#000000\" cx=\"855.1424\" cy=\"-18\" rx=\"85.2851\" ry=\"18\"/>\n<text text-anchor=\"middle\" x=\"855.1424\" y=\"-14.3\" font-family=\"Times,serif\" font-size=\"14.00\" fill=\"#000000\">leaf=0.0360000022</text>\n</g>\n<!-- 5&#45;&gt;11 -->\n<g id=\"edge11\" class=\"edge\">\n<title>5&#45;&gt;11</title>\n<path fill=\"none\" stroke=\"#0000ff\" d=\"M911.4312,-86.9735C901.245,-74.4919 887.5331,-57.6899 876.193,-43.7944\"/>\n<polygon fill=\"#0000ff\" stroke=\"#0000ff\" points=\"878.8692,-41.5379 869.8348,-36.0034 873.4459,-45.9638 878.8692,-41.5379\"/>\n<text text-anchor=\"middle\" x=\"930.6424\" y=\"-57.8\" font-family=\"Times,serif\" font-size=\"14.00\" fill=\"#000000\">yes, missing</text>\n</g>\n<!-- 12 -->\n<g id=\"node13\" class=\"node\">\n<title>12</title>\n<ellipse fill=\"none\" stroke=\"#000000\" cx=\"1043.1424\" cy=\"-18\" rx=\"85.2851\" ry=\"18\"/>\n<text text-anchor=\"middle\" x=\"1043.1424\" y=\"-14.3\" font-family=\"Times,serif\" font-size=\"14.00\" fill=\"#000000\">leaf=0.0849353597</text>\n</g>\n<!-- 5&#45;&gt;12 -->\n<g id=\"edge12\" class=\"edge\">\n<title>5&#45;&gt;12</title>\n<path fill=\"none\" stroke=\"#ff0000\" d=\"M949.5379,-87.6033C967.3933,-74.3263 992.1723,-55.9008 1011.7506,-41.3427\"/>\n<polygon fill=\"#ff0000\" stroke=\"#ff0000\" points=\"1013.8513,-44.1422 1019.7875,-35.3665 1009.6744,-38.5249 1013.8513,-44.1422\"/>\n<text text-anchor=\"middle\" x=\"1000.1424\" y=\"-57.8\" font-family=\"Times,serif\" font-size=\"14.00\" fill=\"#000000\">no</text>\n</g>\n<!-- 13 -->\n<g id=\"node14\" class=\"node\">\n<title>13</title>\n<ellipse fill=\"none\" stroke=\"#000000\" cx=\"1235.1424\" cy=\"-18\" rx=\"88.2844\" ry=\"18\"/>\n<text text-anchor=\"middle\" x=\"1235.1424\" y=\"-14.3\" font-family=\"Times,serif\" font-size=\"14.00\" fill=\"#000000\">leaf=&#45;0.0202198196</text>\n</g>\n<!-- 6&#45;&gt;13 -->\n<g id=\"edge13\" class=\"edge\">\n<title>6&#45;&gt;13</title>\n<path fill=\"none\" stroke=\"#0000ff\" d=\"M1235.1424,-86.9735C1235.1424,-75.1918 1235.1424,-59.5607 1235.1424,-46.1581\"/>\n<polygon fill=\"#0000ff\" stroke=\"#0000ff\" points=\"1238.6425,-46.0033 1235.1424,-36.0034 1231.6425,-46.0034 1238.6425,-46.0033\"/>\n<text text-anchor=\"middle\" x=\"1270.6424\" y=\"-57.8\" font-family=\"Times,serif\" font-size=\"14.00\" fill=\"#000000\">yes, missing</text>\n</g>\n<!-- 14 -->\n<g id=\"node15\" class=\"node\">\n<title>14</title>\n<ellipse fill=\"none\" stroke=\"#000000\" cx=\"1430.1424\" cy=\"-18\" rx=\"88.2844\" ry=\"18\"/>\n<text text-anchor=\"middle\" x=\"1430.1424\" y=\"-14.3\" font-family=\"Times,serif\" font-size=\"14.00\" fill=\"#000000\">leaf=&#45;0.0101775704</text>\n</g>\n<!-- 6&#45;&gt;14 -->\n<g id=\"edge14\" class=\"edge\">\n<title>6&#45;&gt;14</title>\n<path fill=\"none\" stroke=\"#ff0000\" d=\"M1271.8205,-88.636C1303.5865,-74.4634 1349.6941,-53.8924 1383.9668,-38.6014\"/>\n<polygon fill=\"#ff0000\" stroke=\"#ff0000\" points=\"1385.5917,-41.7091 1393.2979,-34.4383 1382.7395,-35.3165 1385.5917,-41.7091\"/>\n<text text-anchor=\"middle\" x=\"1352.1424\" y=\"-57.8\" font-family=\"Times,serif\" font-size=\"14.00\" fill=\"#000000\">no</text>\n</g>\n</g>\n</svg>\n"
          },
          "metadata": {},
          "execution_count": 248
        }
      ]
    },
    {
      "cell_type": "code",
      "source": [
        "print(category_features[5])\n",
        "print(category_features[15])\n",
        "print(category_features[2])\n",
        "print(category_features[18])\n",
        "print(category_features[12])\n",
        "print(category_features[13])\n",
        "print(category_features[3])"
      ],
      "metadata": {
        "colab": {
          "base_uri": "https://localhost:8080/"
        },
        "id": "ciVqz0i7Td0A",
        "outputId": "f911a5ea-5d7c-40cc-b929-e11a5d2e8f0a"
      },
      "execution_count": null,
      "outputs": [
        {
          "output_type": "stream",
          "name": "stdout",
          "text": [
            "General_Manner_of_death\n",
            "The_Decedent_Marital_status\n",
            "General_Place_of_death_and_decedents_status\n",
            "The_Decedent_Race\n",
            "The_Decedent_Date_of_Death\n",
            "The_Decedent_Sex\n",
            "General_Day_of_week_of_death\n"
          ]
        }
      ]
    },
    {
      "cell_type": "code",
      "source": [
        "dtrain = xgb.DMatrix(train_x_hashed, label=train_y)\n",
        "params = {'objective': 'binary:logistic', 'eval_metric': 'error'}\n",
        "\n",
        "# Perform 5-fold cross-validation\n",
        "cv_results = xgb.cv(params, dtrain, num_boost_round=100, nfold=5, metrics='error', early_stopping_rounds=10)\n",
        "\n",
        "# Print the results\n",
        "print(cv_results)"
      ],
      "metadata": {
        "colab": {
          "base_uri": "https://localhost:8080/"
        },
        "id": "cygNEZLIy1Qg",
        "outputId": "0cdd8070-9215-4c2a-848f-60e643f6ba65"
      },
      "execution_count": null,
      "outputs": [
        {
          "output_type": "stream",
          "name": "stdout",
          "text": [
            "    train-error-mean  train-error-std  test-error-mean  test-error-std\n",
            "0           0.047396         0.000249         0.047477        0.000995\n",
            "1           0.047346         0.000278         0.047409        0.000983\n",
            "2           0.047298         0.000240         0.047448        0.000999\n",
            "3           0.046995         0.000211         0.047105        0.001080\n",
            "4           0.046940         0.000219         0.047073        0.001072\n",
            "..               ...              ...              ...             ...\n",
            "95          0.041325         0.000249         0.043074        0.000927\n",
            "96          0.041299         0.000245         0.043073        0.000918\n",
            "97          0.041274         0.000249         0.043082        0.000927\n",
            "98          0.041248         0.000252         0.043066        0.000917\n",
            "99          0.041231         0.000258         0.043069        0.000933\n",
            "\n",
            "[100 rows x 4 columns]\n"
          ]
        }
      ]
    },
    {
      "cell_type": "code",
      "source": [
        "# Plot the training and test error\n",
        "plt.plot(cv_results['train-error-mean'], label='Training Error')\n",
        "plt.plot(cv_results['test-error-mean'], label='Test Error')\n",
        "\n",
        "# Add a legend and labels\n",
        "plt.legend()\n",
        "plt.xlabel('Number of Boosting Rounds')\n",
        "plt.ylabel('Error')\n",
        "plt.title('XGBoost Cross-Validation Results')\n",
        "\n",
        "# Show the plot\n",
        "plt.show()"
      ],
      "metadata": {
        "colab": {
          "base_uri": "https://localhost:8080/",
          "height": 295
        },
        "id": "WL8BV_cky6NY",
        "outputId": "0b64f3ed-e414-4357-8d60-d9956b672835"
      },
      "execution_count": null,
      "outputs": [
        {
          "output_type": "display_data",
          "data": {
            "text/plain": [
              "<Figure size 432x288 with 1 Axes>"
            ],
            "image/png": "[encoded data removed]"
          },
          "metadata": {
            "needs_background": "light"
          }
        }
      ]
    }
  ]
}